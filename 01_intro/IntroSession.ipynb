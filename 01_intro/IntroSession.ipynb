{
 "cells": [
  {
   "cell_type": "markdown",
   "metadata": {},
   "source": [
    "ADILT Data Analysis with Python    \n",
    "CorrelAidxKonstanz Workshop-Series\n",
    "\n",
    "# 1 Intro-Session \n",
    "\n",
    "Python is a popular language for data analysis due to its readability, extensive libraries, and versatility. \n",
    "We use Jupiter Notebooks because it makes it easier to combine code, visualizations and text. \n",
    "\n",
    "In this course, you will learn: \n",
    "1. Programming Basics\n",
    "2. Data Analysis with Pandas & Numpy\n",
    "3. Data Visualization\n",
    "4. Advanced applications\n",
    "\n",
    "This first session is only a brief introduction, no worries if you don't understand everything, you will revisit it many times! :) \n",
    "<br>\n",
    "<br>"
   ]
  },
  {
   "cell_type": "markdown",
   "metadata": {},
   "source": [
    "\n",
    "A common way to learn any programming language is to start with the phrase **\"Hello, World!\"**.    \n",
    "Let's get started:"
   ]
  },
  {
   "cell_type": "code",
   "execution_count": 31,
   "metadata": {},
   "outputs": [
    {
     "name": "stdout",
     "output_type": "stream",
     "text": [
      "Hello World!\n"
     ]
    }
   ],
   "source": [
    "print(\"Hello World!\")\n",
    "# execute this cell: Ctrl + Enter"
   ]
  },
  {
   "cell_type": "markdown",
   "metadata": {},
   "source": [
    "Awesome! As you can see \"Hello, World\" is printed.   \n",
    "\n",
    "print() is what we call a **function**. A function in Python is a reusable block of code that performs a specific task. It can take inputs (arguments) and return a result. Other integrated functions in python are type() or len() "
   ]
  },
  {
   "cell_type": "code",
   "execution_count": 12,
   "metadata": {},
   "outputs": [
    {
     "data": {
      "text/plain": [
       "str"
      ]
     },
     "execution_count": 12,
     "metadata": {},
     "output_type": "execute_result"
    }
   ],
   "source": [
    "type(\"Hello World!\") # returns the data type, in this case string (anything in quotation marks is called a string)"
   ]
  },
  {
   "cell_type": "markdown",
   "metadata": {},
   "source": [
    "other examples of strings: \"Cat\", \"!\", \"True\", \"9.2\""
   ]
  },
  {
   "cell_type": "code",
   "execution_count": 11,
   "metadata": {},
   "outputs": [
    {
     "data": {
      "text/plain": [
       "15"
      ]
     },
     "execution_count": 11,
     "metadata": {},
     "output_type": "execute_result"
    }
   ],
   "source": [
    "len(\"Hello World!\") # returns the number of characters (symbols)"
   ]
  },
  {
   "cell_type": "markdown",
   "metadata": {},
   "source": [
    "Characters include letters, spaces, special characters, numbers etc. \n",
    "\n",
    "Great! But maybe we don't want to type \"Hello World!\" all the time, let's make things easier and store our string in a variable. A variable is a named storage location that holds a value: "
   ]
  },
  {
   "cell_type": "code",
   "execution_count": 25,
   "metadata": {},
   "outputs": [
    {
     "name": "stdout",
     "output_type": "stream",
     "text": [
      "Hello World!\n"
     ]
    }
   ],
   "source": [
    "x = \"Hello World!\" # the variable x now contains the string \"Hello World!\"\n",
    "print(x) "
   ]
  },
  {
   "cell_type": "markdown",
   "metadata": {},
   "source": [
    "We can also create variables of different data types: "
   ]
  },
  {
   "cell_type": "code",
   "execution_count": 26,
   "metadata": {},
   "outputs": [
    {
     "name": "stdout",
     "output_type": "stream",
     "text": [
      "Age: 24\n",
      "Height: 1.7\n",
      "Is Student: True\n"
     ]
    }
   ],
   "source": [
    "# Create variables of different data types\n",
    "age = 24 # integer\n",
    "height = 1.7 # float\n",
    "is_student = True # boolean\n",
    "\n",
    "# Print the variables\n",
    "print(\"Age:\", age)\n",
    "print(\"Height:\", height)\n",
    "print(\"Is Student:\", is_student)"
   ]
  },
  {
   "cell_type": "markdown",
   "metadata": {},
   "source": [
    "Python is especially a big calculator, so of course it can also do math: "
   ]
  },
  {
   "cell_type": "code",
   "execution_count": 28,
   "metadata": {},
   "outputs": [
    {
     "data": {
      "text/plain": [
       "8"
      ]
     },
     "execution_count": 28,
     "metadata": {},
     "output_type": "execute_result"
    }
   ],
   "source": [
    "5 + 3"
   ]
  },
  {
   "cell_type": "code",
   "execution_count": 29,
   "metadata": {},
   "outputs": [
    {
     "name": "stdout",
     "output_type": "stream",
     "text": [
      "6\n"
     ]
    }
   ],
   "source": [
    "y = 10 - 4 # crating the variable y to store the result of 10 - 4\n",
    "print(y)"
   ]
  },
  {
   "cell_type": "code",
   "execution_count": 30,
   "metadata": {},
   "outputs": [
    {
     "name": "stdout",
     "output_type": "stream",
     "text": [
      "6 * 2 = 12\n",
      "12 / 4 = 3.0\n"
     ]
    }
   ],
   "source": [
    "z = 6 * 2\n",
    "print(\"6 * 2 =\", z)\n",
    "\n",
    "this = 12 / 4\n",
    "print(\"12 / 4 =\", this)"
   ]
  },
  {
   "cell_type": "markdown",
   "metadata": {},
   "source": [
    "Much of pythons power comes from being able to use packages. Packages are a collection of code written by other people, which you can download and use for your own purposes. "
   ]
  },
  {
   "cell_type": "code",
   "execution_count": 19,
   "metadata": {},
   "outputs": [],
   "source": [
    "# install pakages\n",
    "#!pip install pandas \n",
    "#!pip install numpy"
   ]
  },
  {
   "cell_type": "code",
   "execution_count": 20,
   "metadata": {},
   "outputs": [],
   "source": [
    "# import pakages\n",
    "import pandas as pd\n",
    "import numpy as np"
   ]
  }
 ],
 "metadata": {
  "kernelspec": {
   "display_name": "Python 3",
   "language": "python",
   "name": "python3"
  },
  "language_info": {
   "codemirror_mode": {
    "name": "ipython",
    "version": 3
   },
   "file_extension": ".py",
   "mimetype": "text/x-python",
   "name": "python",
   "nbconvert_exporter": "python",
   "pygments_lexer": "ipython3",
   "version": "3.9.6"
  }
 },
 "nbformat": 4,
 "nbformat_minor": 2
}
