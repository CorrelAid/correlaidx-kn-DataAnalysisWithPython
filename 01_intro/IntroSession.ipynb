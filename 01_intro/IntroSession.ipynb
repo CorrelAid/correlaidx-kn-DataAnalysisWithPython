{
 "cells": [
  {
   "cell_type": "markdown",
   "metadata": {},
   "source": [
    "---\n",
    "title: \"Data Analysis with Python - Intro Session\"\n",
    "author: \"CorrelAidXKonstanz\"\n",
    "date: \"2024-10-22\"\n",
    "---"
   ]
  },
  {
   "cell_type": "markdown",
   "metadata": {},
   "source": [
    " This notebook is for you to get comfortable running some code; you don't need to memorize anything here, we will start learning about what is *actually* happening from next week on."
   ]
  },
  {
   "cell_type": "markdown",
   "metadata": {},
   "source": [
    "A common way to learn any programming language is to start with the phrase **\"Hello, World!\"**.    \n",
    "To run the code in a cell, select the cell and hit Ctrl+Enter:"
   ]
  },
  {
   "cell_type": "code",
   "execution_count": 31,
   "metadata": {},
   "outputs": [
    {
     "name": "stdout",
     "output_type": "stream",
     "text": [
      "Hello World!\n"
     ]
    }
   ],
   "source": [
    "# Lines starting with \"#\" are \"comments\" (they are ignored by the python interpreter)\n",
    "print(\"Hello World!\")"
   ]
  },
  {
   "cell_type": "markdown",
   "metadata": {},
   "source": [
    "`print()` is what we call a **function**. A function in Python is a reusable block of code that performs a specific task. It can take inputs (arguments) and return a result. Other integrated functions in python are `type()` or `len()`:"
   ]
  },
  {
   "cell_type": "code",
   "execution_count": 12,
   "metadata": {},
   "outputs": [
    {
     "data": {
      "text/plain": [
       "str"
      ]
     },
     "execution_count": 12,
     "metadata": {},
     "output_type": "execute_result"
    }
   ],
   "source": [
    "type(\"Hello World!\") # returns the data type, in this case string (anything in quotation marks is called a string)"
   ]
  },
  {
   "cell_type": "markdown",
   "metadata": {},
   "source": [
    "`str`ings are text data made up of characters. Anything you put inside quotation marks (\"\" or '') will be interpreted by Python as a string."
   ]
  },
  {
   "cell_type": "code",
   "execution_count": 11,
   "metadata": {},
   "outputs": [
    {
     "data": {
      "text/plain": [
       "15"
      ]
     },
     "execution_count": 11,
     "metadata": {},
     "output_type": "execute_result"
    }
   ],
   "source": [
    "len(\"Hello World!\") # returns the number of characters (symbols)"
   ]
  },
  {
   "cell_type": "markdown",
   "metadata": {},
   "source": [
    "You can also store values as variables:"
   ]
  },
  {
   "cell_type": "code",
   "execution_count": 28,
   "metadata": {},
   "outputs": [
    {
     "name": "stdout",
     "output_type": "stream",
     "text": [
      "Hello World!\n",
      "Hi Mom!\n"
     ]
    }
   ],
   "source": [
    "x = \"Hello World!\" # the variable x now contains the string \"Hello World!\"\n",
    "print(x) \n",
    "\n",
    "x = \"Hi Mom!\" # reassigning the same variable name overwrites the original value\n",
    "print(x)"
   ]
  },
  {
   "cell_type": "markdown",
   "metadata": {},
   "source": [
    "Think of variables in this context as boxes that you can label and then put something into."
   ]
  },
  {
   "cell_type": "markdown",
   "metadata": {},
   "source": [
    "Python of course also has data types to store other things than text, such as `integer` (whole numbers), `float` (\"floating point\" or decimal numbers), and `bool`ean (`True` or `False`):"
   ]
  },
  {
   "cell_type": "code",
   "execution_count": 26,
   "metadata": {},
   "outputs": [
    {
     "name": "stdout",
     "output_type": "stream",
     "text": [
      "Age: 24\n",
      "Height: 1.7\n",
      "Is Student: True\n"
     ]
    }
   ],
   "source": [
    "# Create variables of different data types\n",
    "age = 24 # integer\n",
    "height = 1.7 # float\n",
    "is_student = True # boolean\n",
    "\n",
    "# Print the variables\n",
    "print(\"Age:\", age)\n",
    "print(\"Height:\", height)\n",
    "print(\"Is Student:\", is_student)"
   ]
  },
  {
   "cell_type": "markdown",
   "metadata": {},
   "source": [
    "Python is essentially a big calculator, so of course it can also do math: "
   ]
  },
  {
   "cell_type": "code",
   "execution_count": 28,
   "metadata": {},
   "outputs": [
    {
     "data": {
      "text/plain": [
       "8"
      ]
     },
     "execution_count": 28,
     "metadata": {},
     "output_type": "execute_result"
    }
   ],
   "source": [
    "5 + 3"
   ]
  },
  {
   "cell_type": "code",
   "execution_count": 29,
   "metadata": {},
   "outputs": [
    {
     "name": "stdout",
     "output_type": "stream",
     "text": [
      "6\n"
     ]
    }
   ],
   "source": [
    "y = 10 - 4 # crating the variable y to store the result of 10 - 4\n",
    "print(y)"
   ]
  },
  {
   "cell_type": "code",
   "execution_count": 30,
   "metadata": {},
   "outputs": [
    {
     "name": "stdout",
     "output_type": "stream",
     "text": [
      "6 * 2 = 12\n",
      "12 / 4 = 3.0\n"
     ]
    }
   ],
   "source": [
    "z = 6 * 2\n",
    "print(\"6 * 2 =\", z)\n",
    "\n",
    "this = 12 / 4\n",
    "print(\"12 / 4 =\", this)"
   ]
  },
  {
   "cell_type": "markdown",
   "metadata": {},
   "source": [
    "Much of pythons power comes from being able to use packages. Packages are a collection of code written by other people, which you can download and use for your own purposes. "
   ]
  },
  {
   "cell_type": "markdown",
   "metadata": {},
   "source": [
    "For example, we will use `pandas` for many common data analysis tasks:"
   ]
  },
  {
   "cell_type": "code",
   "execution_count": 2,
   "metadata": {},
   "outputs": [],
   "source": [
    "# import packages using \"import\"\n",
    "import pandas as pd"
   ]
  },
  {
   "cell_type": "markdown",
   "metadata": {},
   "source": [
    "`pandas` allows us to interact with data frame structures that hold columns of different types (data comes from the [Bigfoot Field Researchers Organization (BFRO)](https://www.bfro.net/)):"
   ]
  },
  {
   "cell_type": "code",
   "execution_count": 4,
   "metadata": {},
   "outputs": [
    {
     "data": {
      "text/html": [
       "<div>\n",
       "<style scoped>\n",
       "    .dataframe tbody tr th:only-of-type {\n",
       "        vertical-align: middle;\n",
       "    }\n",
       "\n",
       "    .dataframe tbody tr th {\n",
       "        vertical-align: top;\n",
       "    }\n",
       "\n",
       "    .dataframe thead th {\n",
       "        text-align: right;\n",
       "    }\n",
       "</style>\n",
       "<table border=\"1\" class=\"dataframe\">\n",
       "  <thead>\n",
       "    <tr style=\"text-align: right;\">\n",
       "      <th></th>\n",
       "      <th>observed</th>\n",
       "      <th>location_details</th>\n",
       "      <th>county</th>\n",
       "      <th>state</th>\n",
       "      <th>season</th>\n",
       "      <th>title</th>\n",
       "      <th>latitude</th>\n",
       "      <th>longitude</th>\n",
       "      <th>date</th>\n",
       "      <th>number</th>\n",
       "      <th>...</th>\n",
       "      <th>moon_phase</th>\n",
       "      <th>precip_intensity</th>\n",
       "      <th>precip_probability</th>\n",
       "      <th>precip_type</th>\n",
       "      <th>pressure</th>\n",
       "      <th>summary</th>\n",
       "      <th>uv_index</th>\n",
       "      <th>visibility</th>\n",
       "      <th>wind_bearing</th>\n",
       "      <th>wind_speed</th>\n",
       "    </tr>\n",
       "  </thead>\n",
       "  <tbody>\n",
       "    <tr>\n",
       "      <th>0</th>\n",
       "      <td>I was canoeing on the Sipsey river in Alabama....</td>\n",
       "      <td>NaN</td>\n",
       "      <td>Winston County</td>\n",
       "      <td>Alabama</td>\n",
       "      <td>Summer</td>\n",
       "      <td>NaN</td>\n",
       "      <td>NaN</td>\n",
       "      <td>NaN</td>\n",
       "      <td>NaN</td>\n",
       "      <td>30680.0</td>\n",
       "      <td>...</td>\n",
       "      <td>NaN</td>\n",
       "      <td>NaN</td>\n",
       "      <td>NaN</td>\n",
       "      <td>NaN</td>\n",
       "      <td>NaN</td>\n",
       "      <td>NaN</td>\n",
       "      <td>NaN</td>\n",
       "      <td>NaN</td>\n",
       "      <td>NaN</td>\n",
       "      <td>NaN</td>\n",
       "    </tr>\n",
       "    <tr>\n",
       "      <th>1</th>\n",
       "      <td>Ed L. was salmon fishing with a companion in P...</td>\n",
       "      <td>East side of Prince William Sound</td>\n",
       "      <td>Valdez-Chitina-Whittier County</td>\n",
       "      <td>Alaska</td>\n",
       "      <td>Fall</td>\n",
       "      <td>NaN</td>\n",
       "      <td>NaN</td>\n",
       "      <td>NaN</td>\n",
       "      <td>NaN</td>\n",
       "      <td>1261.0</td>\n",
       "      <td>...</td>\n",
       "      <td>NaN</td>\n",
       "      <td>NaN</td>\n",
       "      <td>NaN</td>\n",
       "      <td>NaN</td>\n",
       "      <td>NaN</td>\n",
       "      <td>NaN</td>\n",
       "      <td>NaN</td>\n",
       "      <td>NaN</td>\n",
       "      <td>NaN</td>\n",
       "      <td>NaN</td>\n",
       "    </tr>\n",
       "    <tr>\n",
       "      <th>2</th>\n",
       "      <td>While attending U.R.I in the Fall of 1974,I wo...</td>\n",
       "      <td>Great swamp area, Narragansett Indians</td>\n",
       "      <td>Washington County</td>\n",
       "      <td>Rhode Island</td>\n",
       "      <td>Fall</td>\n",
       "      <td>Report 6496: Bicycling student has night encou...</td>\n",
       "      <td>41.45</td>\n",
       "      <td>-71.5</td>\n",
       "      <td>1974-09-20</td>\n",
       "      <td>6496.0</td>\n",
       "      <td>...</td>\n",
       "      <td>0.16</td>\n",
       "      <td>0.0</td>\n",
       "      <td>0.0</td>\n",
       "      <td>NaN</td>\n",
       "      <td>1020.61</td>\n",
       "      <td>Foggy until afternoon.</td>\n",
       "      <td>4.0</td>\n",
       "      <td>2.75</td>\n",
       "      <td>198.0</td>\n",
       "      <td>6.92</td>\n",
       "    </tr>\n",
       "    <tr>\n",
       "      <th>3</th>\n",
       "      <td>Hello, My name is Doug and though I am very re...</td>\n",
       "      <td>I would rather not have exact location (listin...</td>\n",
       "      <td>York County</td>\n",
       "      <td>Pennsylvania</td>\n",
       "      <td>Summer</td>\n",
       "      <td>NaN</td>\n",
       "      <td>NaN</td>\n",
       "      <td>NaN</td>\n",
       "      <td>NaN</td>\n",
       "      <td>8000.0</td>\n",
       "      <td>...</td>\n",
       "      <td>NaN</td>\n",
       "      <td>NaN</td>\n",
       "      <td>NaN</td>\n",
       "      <td>NaN</td>\n",
       "      <td>NaN</td>\n",
       "      <td>NaN</td>\n",
       "      <td>NaN</td>\n",
       "      <td>NaN</td>\n",
       "      <td>NaN</td>\n",
       "      <td>NaN</td>\n",
       "    </tr>\n",
       "    <tr>\n",
       "      <th>4</th>\n",
       "      <td>It was May 1984. Two friends and I were up in ...</td>\n",
       "      <td>Logging roads north west of Yamhill, OR, about...</td>\n",
       "      <td>Yamhill County</td>\n",
       "      <td>Oregon</td>\n",
       "      <td>Spring</td>\n",
       "      <td>NaN</td>\n",
       "      <td>NaN</td>\n",
       "      <td>NaN</td>\n",
       "      <td>NaN</td>\n",
       "      <td>703.0</td>\n",
       "      <td>...</td>\n",
       "      <td>NaN</td>\n",
       "      <td>NaN</td>\n",
       "      <td>NaN</td>\n",
       "      <td>NaN</td>\n",
       "      <td>NaN</td>\n",
       "      <td>NaN</td>\n",
       "      <td>NaN</td>\n",
       "      <td>NaN</td>\n",
       "      <td>NaN</td>\n",
       "      <td>NaN</td>\n",
       "    </tr>\n",
       "  </tbody>\n",
       "</table>\n",
       "<p>5 rows × 28 columns</p>\n",
       "</div>"
      ],
      "text/plain": [
       "                                            observed  \\\n",
       "0  I was canoeing on the Sipsey river in Alabama....   \n",
       "1  Ed L. was salmon fishing with a companion in P...   \n",
       "2  While attending U.R.I in the Fall of 1974,I wo...   \n",
       "3  Hello, My name is Doug and though I am very re...   \n",
       "4  It was May 1984. Two friends and I were up in ...   \n",
       "\n",
       "                                    location_details  \\\n",
       "0                                                NaN   \n",
       "1                  East side of Prince William Sound   \n",
       "2             Great swamp area, Narragansett Indians   \n",
       "3  I would rather not have exact location (listin...   \n",
       "4  Logging roads north west of Yamhill, OR, about...   \n",
       "\n",
       "                           county         state  season  \\\n",
       "0                  Winston County       Alabama  Summer   \n",
       "1  Valdez-Chitina-Whittier County        Alaska    Fall   \n",
       "2               Washington County  Rhode Island    Fall   \n",
       "3                     York County  Pennsylvania  Summer   \n",
       "4                  Yamhill County        Oregon  Spring   \n",
       "\n",
       "                                               title  latitude  longitude  \\\n",
       "0                                                NaN       NaN        NaN   \n",
       "1                                                NaN       NaN        NaN   \n",
       "2  Report 6496: Bicycling student has night encou...     41.45      -71.5   \n",
       "3                                                NaN       NaN        NaN   \n",
       "4                                                NaN       NaN        NaN   \n",
       "\n",
       "         date   number  ... moon_phase precip_intensity  precip_probability  \\\n",
       "0         NaN  30680.0  ...        NaN              NaN                 NaN   \n",
       "1         NaN   1261.0  ...        NaN              NaN                 NaN   \n",
       "2  1974-09-20   6496.0  ...       0.16              0.0                 0.0   \n",
       "3         NaN   8000.0  ...        NaN              NaN                 NaN   \n",
       "4         NaN    703.0  ...        NaN              NaN                 NaN   \n",
       "\n",
       "   precip_type  pressure                 summary  uv_index  visibility  \\\n",
       "0          NaN       NaN                     NaN       NaN         NaN   \n",
       "1          NaN       NaN                     NaN       NaN         NaN   \n",
       "2          NaN   1020.61  Foggy until afternoon.       4.0        2.75   \n",
       "3          NaN       NaN                     NaN       NaN         NaN   \n",
       "4          NaN       NaN                     NaN       NaN         NaN   \n",
       "\n",
       "   wind_bearing  wind_speed  \n",
       "0           NaN         NaN  \n",
       "1           NaN         NaN  \n",
       "2         198.0        6.92  \n",
       "3           NaN         NaN  \n",
       "4           NaN         NaN  \n",
       "\n",
       "[5 rows x 28 columns]"
      ]
     },
     "execution_count": 4,
     "metadata": {},
     "output_type": "execute_result"
    }
   ],
   "source": [
    "bigfoot = pd.read_csv(\"data/bigfoot.csv\")\n",
    "bigfoot.head()"
   ]
  },
  {
   "cell_type": "code",
   "execution_count": 14,
   "metadata": {},
   "outputs": [
    {
     "data": {
      "text/plain": [
       "array(['Class B', 'Class A', 'Class C'], dtype=object)"
      ]
     },
     "execution_count": 14,
     "metadata": {},
     "output_type": "execute_result"
    }
   ],
   "source": [
    "bigfoot[\"classification\"].unique()"
   ]
  },
  {
   "cell_type": "code",
   "execution_count": 30,
   "metadata": {},
   "outputs": [
    {
     "data": {
      "text/html": [
       "<div>\n",
       "<style scoped>\n",
       "    .dataframe tbody tr th:only-of-type {\n",
       "        vertical-align: middle;\n",
       "    }\n",
       "\n",
       "    .dataframe tbody tr th {\n",
       "        vertical-align: top;\n",
       "    }\n",
       "\n",
       "    .dataframe thead th {\n",
       "        text-align: right;\n",
       "    }\n",
       "</style>\n",
       "<table border=\"1\" class=\"dataframe\">\n",
       "  <thead>\n",
       "    <tr style=\"text-align: right;\">\n",
       "      <th></th>\n",
       "      <th>state</th>\n",
       "      <th>count</th>\n",
       "    </tr>\n",
       "  </thead>\n",
       "  <tbody>\n",
       "    <tr>\n",
       "      <th>0</th>\n",
       "      <td>Washington</td>\n",
       "      <td>243</td>\n",
       "    </tr>\n",
       "    <tr>\n",
       "      <th>1</th>\n",
       "      <td>California</td>\n",
       "      <td>181</td>\n",
       "    </tr>\n",
       "    <tr>\n",
       "      <th>2</th>\n",
       "      <td>Ohio</td>\n",
       "      <td>159</td>\n",
       "    </tr>\n",
       "    <tr>\n",
       "      <th>3</th>\n",
       "      <td>Florida</td>\n",
       "      <td>155</td>\n",
       "    </tr>\n",
       "    <tr>\n",
       "      <th>4</th>\n",
       "      <td>Texas</td>\n",
       "      <td>134</td>\n",
       "    </tr>\n",
       "  </tbody>\n",
       "</table>\n",
       "</div>"
      ],
      "text/plain": [
       "        state  count\n",
       "0  Washington    243\n",
       "1  California    181\n",
       "2        Ohio    159\n",
       "3     Florida    155\n",
       "4       Texas    134"
      ]
     },
     "execution_count": 30,
     "metadata": {},
     "output_type": "execute_result"
    }
   ],
   "source": [
    "# Finding the top 5 states bigfoot appeared in:\n",
    "\n",
    "reliable = bigfoot[bigfoot[\"classification\"] == \"Class A\"]\n",
    "reliable[\"state\"].value_counts().reset_index().sort_values(\"count\", ascending=False)[:5]"
   ]
  },
  {
   "cell_type": "markdown",
   "metadata": {},
   "source": [
    "And we will use libraries like `seaborn` and `matplotlib` for visualizations:"
   ]
  },
  {
   "cell_type": "code",
   "execution_count": 16,
   "metadata": {},
   "outputs": [],
   "source": [
    "import seaborn as sns\n",
    "import matplotlib.pyplot as plt"
   ]
  },
  {
   "cell_type": "code",
   "execution_count": 31,
   "metadata": {},
   "outputs": [
    {
     "data": {
      "text/plain": [
       "Text(0.5, 1.0, 'Does Bigfoot like it warm or cold?\\nDistribution of temperatures during reliable sightings')"
      ]
     },
     "execution_count": 31,
     "metadata": {},
     "output_type": "execute_result"
    },
    {
     "data": {
      "image/png": "[encoded data removed]",
      "text/plain": [
       "<Figure size 640x480 with 1 Axes>"
      ]
     },
     "metadata": {},
     "output_type": "display_data"
    }
   ],
   "source": [
    "# Looking at whether bigfoot prefers it warm or cold:\n",
    "\n",
    "sns.histplot(reliable[\"temperature_mid\"])\n",
    "plt.xlabel(\"Temperature (Fahrenheit)\")\n",
    "plt.title(\"Does Bigfoot like it warm or cold?\\nDistribution of temperatures during reliable sightings\")"
   ]
  }
 ],
 "metadata": {
  "kernelspec": {
   "display_name": "base",
   "language": "python",
   "name": "python3"
  },
  "language_info": {
   "codemirror_mode": {
    "name": "ipython",
    "version": 3
   },
   "file_extension": ".py",
   "mimetype": "text/x-python",
   "name": "python",
   "nbconvert_exporter": "python",
   "pygments_lexer": "ipython3",
   "version": "3.12.4"
  }
 },
 "nbformat": 4,
 "nbformat_minor": 2
}
