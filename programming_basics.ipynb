{
 "cells": [
  {
   "cell_type": "markdown",
   "id": "1b8b57ff-3a91-487f-a137-e84727257074",
   "metadata": {},
   "source": [
    "# Part 1 - Programming Basics"
   ]
  },
  {
   "cell_type": "markdown",
   "id": "20d3288f-efdb-49f6-be68-8fb8f74ae201",
   "metadata": {},
   "source": [
    "## 1. Variables\n",
    "\n",
    "- variables hold values\n",
    "- values can be of different types as seen later\n",
    "- they act like a storage container for data such that this data can be accessed multiple times and also be manipulated"
   ]
  },
  {
   "cell_type": "code",
   "execution_count": 9,
   "id": "dd489d6d-09cb-4a41-8c30-c45fc39abc99",
   "metadata": {
    "tags": []
   },
   "outputs": [],
   "source": [
    "x = 5           \n",
    "name = \"Max Mustermann\"   \n",
    "pi = 3.14159"
   ]
  },
  {
   "cell_type": "markdown",
   "id": "c8258bdc-d7b0-4301-b89a-a83213cbf593",
   "metadata": {},
   "source": [
    "- to see the value of a variable, you can print it out"
   ]
  },
  {
   "cell_type": "code",
   "execution_count": 4,
   "id": "1da021bf-6606-40be-a3fd-3ce7a4db2f73",
   "metadata": {
    "tags": []
   },
   "outputs": [
    {
     "name": "stdout",
     "output_type": "stream",
     "text": [
      "Alice\n"
     ]
    }
   ],
   "source": [
    "print(name)"
   ]
  },
  {
   "cell_type": "code",
   "execution_count": 5,
   "id": "dce2aea5-6d2f-45dc-80ae-f946983d8d54",
   "metadata": {
    "tags": []
   },
   "outputs": [
    {
     "ename": "NameError",
     "evalue": "name 'naame' is not defined",
     "output_type": "error",
     "traceback": [
      "\u001b[1;31m---------------------------------------------------------------------------\u001b[0m",
      "\u001b[1;31mNameError\u001b[0m                                 Traceback (most recent call last)",
      "Cell \u001b[1;32mIn[5], line 1\u001b[0m\n\u001b[1;32m----> 1\u001b[0m \u001b[38;5;28mprint\u001b[39m(\u001b[43mnaame\u001b[49m) \u001b[38;5;66;03m# be careful with spelling!\u001b[39;00m\n",
      "\u001b[1;31mNameError\u001b[0m: name 'naame' is not defined"
     ]
    }
   ],
   "source": [
    "print(naame) # be careful with spelling!"
   ]
  },
  {
   "cell_type": "markdown",
   "id": "ce270ac1-c73f-44fd-a62e-121eaa770398",
   "metadata": {},
   "source": [
    "### Naming rules\n",
    "\n",
    "- Variables can only contain letters, numbers, and underscores. Variable names can start with a letter or an underscore, but can not start with a number. Variable names cannot contain \"-\" (minus), because it is an arithmatic operator in Python.\n",
    "- Spaces are not allowed in variable names, so we use underscores instead of spaces. For example, use student_name instead of \"student name\".\n",
    "- You cannot use [Python keywords](http://docs.python.org/3/reference/lexical_analysis.html#keywords) as variable names.\n",
    "- Variable names should be descriptive, without being too long. For example mc_wheels is better than just \"wheels\", and number_of_wheels_on_a_motorycle.\n",
    "- Be careful about using the lowercase letter l and the uppercase letter O in places where they could be confused with the numbers 1 and 0."
   ]
  },
  {
   "cell_type": "code",
   "execution_count": 1,
   "id": "ca62c3c9-1b6e-4d81-a5b8-bec67d77c417",
   "metadata": {
    "tags": []
   },
   "outputs": [
    {
     "ename": "SyntaxError",
     "evalue": "invalid syntax (4247872392.py, line 1)",
     "output_type": "error",
     "traceback": [
      "\u001b[1;36m  Cell \u001b[1;32mIn[1], line 1\u001b[1;36m\u001b[0m\n\u001b[1;33m    if = \"if\" # error because if is a python keyword\u001b[0m\n\u001b[1;37m       ^\u001b[0m\n\u001b[1;31mSyntaxError\u001b[0m\u001b[1;31m:\u001b[0m invalid syntax\n"
     ]
    }
   ],
   "source": [
    "if = \"if\" # error because if is a python keyword"
   ]
  },
  {
   "cell_type": "markdown",
   "id": "71c3b803-8736-48e2-a3af-156e5298838d",
   "metadata": {},
   "source": [
    "### Reassigning Variables\n",
    "- you can change the value of a variable by reassigning it - simply put: you just give it a new value\n",
    "- the old value is then gone so be careful when overwriting it\n",
    "- you could also store the old value in a new variable to keep the value"
   ]
  },
  {
   "cell_type": "code",
   "execution_count": 7,
   "id": "f97bd8f0-99da-4002-926f-63cb885a21b2",
   "metadata": {
    "tags": []
   },
   "outputs": [
    {
     "name": "stdout",
     "output_type": "stream",
     "text": [
      "before\n",
      "after\n",
      "before\n"
     ]
    }
   ],
   "source": [
    "update = \"before\"\n",
    "print(update)\n",
    "\n",
    "storage = update # storing the old value \n",
    "\n",
    "update = \"after\"\n",
    "\n",
    "print(update)\n",
    "print(storage)"
   ]
  },
  {
   "cell_type": "markdown",
   "id": "376ee3c8-7af2-4ba4-8af7-525e30938910",
   "metadata": {
    "tags": []
   },
   "source": [
    "### Exercise 1\n",
    "- Store your first name in a variable and print it\n",
    "- Change this variable to also include your last name"
   ]
  },
  {
   "cell_type": "code",
   "execution_count": 10,
   "id": "7b78eee0-ab10-46f7-810c-319b93494be7",
   "metadata": {
    "tags": []
   },
   "outputs": [],
   "source": [
    "# here goes your answer"
   ]
  },
  {
   "cell_type": "markdown",
   "id": "cac0e4a2-5436-4a50-a2b7-9c378f5dc7fd",
   "metadata": {},
   "source": [
    "## 2. Basic Data Types\n",
    "\n",
    "| type | description |\n",
    "|----|---|\n",
    "| string | text |\n",
    "| int | integer number |\n",
    "| float  | floating point number |\n",
    "| boolean | True or False |\n",
    "\n",
    "We can check the type of a variable with the built-in function `type()`."
   ]
  },
  {
   "cell_type": "markdown",
   "id": "397458d9-bbb7-48d7-866a-1f784c6d88dc",
   "metadata": {},
   "source": [
    "### 2.1 Strings\n",
    "- Strings are used to represent text and can include letters, numbers, symbols, and even whitespace\n",
    "- You can either put them in single ('hello') or in double (\"hello\") quotes"
   ]
  },
  {
   "cell_type": "code",
   "execution_count": 1,
   "id": "3cdc4bd2-465c-45dc-8ec0-430f42c1e9f2",
   "metadata": {
    "tags": []
   },
   "outputs": [],
   "source": [
    "first_string = \"I am proud of my first string!\"\n",
    "second_string = 'This also works perfectly well!'"
   ]
  },
  {
   "cell_type": "markdown",
   "id": "86f05066-2771-4cfa-b5f4-e4fe3fc01b44",
   "metadata": {},
   "source": [
    "- if you want to put quotes in your string, you can do it by putting double quotes and then include single quotes within your string"
   ]
  },
  {
   "cell_type": "code",
   "execution_count": 5,
   "id": "b9a3e595-95fd-4e88-8ba3-bab47a89a40d",
   "metadata": {
    "tags": []
   },
   "outputs": [
    {
     "name": "stdout",
     "output_type": "stream",
     "text": [
      "My favorite quote is: 'insert your favorite quote here'!\n"
     ]
    }
   ],
   "source": [
    "quote = \"My favorite quote is: 'insert your favorite quote here'!\"\n",
    "print(quote)"
   ]
  },
  {
   "cell_type": "markdown",
   "id": "bce53c3c-c85c-418d-985b-6c4e0b1e6fdc",
   "metadata": {
    "tags": []
   },
   "source": [
    "#### Changing Case\n",
    "- there are some ways to change your strings after creating them\n",
    "- there are build-in methods to do this "
   ]
  },
  {
   "cell_type": "code",
   "execution_count": 9,
   "id": "1c7cdd86-703e-461d-99ca-53932e1a84e4",
   "metadata": {
    "tags": []
   },
   "outputs": [
    {
     "name": "stdout",
     "output_type": "stream",
     "text": [
      "peter\n",
      "Peter\n"
     ]
    }
   ],
   "source": [
    "# make sure first letter is uppercase\n",
    "name = \"peter\"\n",
    "print(name)\n",
    "name = name.title()\n",
    "print(name)"
   ]
  },
  {
   "cell_type": "code",
   "execution_count": 10,
   "id": "59562a14-1771-4694-a181-f7c54244fcae",
   "metadata": {
    "tags": []
   },
   "outputs": [
    {
     "name": "stdout",
     "output_type": "stream",
     "text": [
      "peter\n"
     ]
    }
   ],
   "source": [
    "# put everything to lowercase again\n",
    "name = name.lower()\n",
    "print(name)"
   ]
  },
  {
   "cell_type": "code",
   "execution_count": 11,
   "id": "259ce204-724c-4cd5-850a-844b6bd45131",
   "metadata": {
    "tags": []
   },
   "outputs": [
    {
     "name": "stdout",
     "output_type": "stream",
     "text": [
      "PETER\n"
     ]
    }
   ],
   "source": [
    "# or everything to uppercase\n",
    "name = name.upper()\n",
    "print(name)"
   ]
  },
  {
   "cell_type": "markdown",
   "id": "c97f5faf-594c-4fc2-8b03-12dea3766755",
   "metadata": {},
   "source": [
    "You will see this syntax quite often, where a variable name is followed by a dot and then the name of an action, followed by a set of parentheses. The parentheses may be empty, or they may contain some values.\n",
    "\n",
    "variable_name.action()\n",
    "\n",
    "In this example, the word \"action\" is the name of a method. A method is something that can be done to a variable. The methods 'lower', 'title', and 'upper' are all functions that have been written into the Python language, which do something to strings. Later on, you will learn to write your own methods."
   ]
  },
  {
   "cell_type": "markdown",
   "id": "502ce4ed-3192-46e2-901f-658ef0dccba9",
   "metadata": {},
   "source": [
    "#### String Concatenation\n",
    "- concatenating strings means adding strings together to form a longer string\n",
    "- it can be done by just putting a + inbetween"
   ]
  },
  {
   "cell_type": "code",
   "execution_count": 12,
   "id": "a7483d5f-0ac6-4824-9090-1939d5bd4445",
   "metadata": {
    "tags": []
   },
   "outputs": [
    {
     "name": "stdout",
     "output_type": "stream",
     "text": [
      "This is how the sentence startsandthis is how it ends.\n"
     ]
    }
   ],
   "source": [
    "start = \"This is how the sentence starts\"\n",
    "end = \"this is how it ends.\"\n",
    "\n",
    "together = start + \"and\" + end\n",
    "print(together)"
   ]
  },
  {
   "cell_type": "markdown",
   "id": "139b20ac-83c2-44ae-a48a-e59982591332",
   "metadata": {},
   "source": [
    "- as you can see you have to be careful with the whitespace, it is not added automatically"
   ]
  },
  {
   "cell_type": "code",
   "execution_count": 13,
   "id": "7f5d0792-8e50-43f8-8f81-9d0216c1b40d",
   "metadata": {
    "tags": []
   },
   "outputs": [
    {
     "name": "stdout",
     "output_type": "stream",
     "text": [
      "This is how the sentence starts and this is how it ends.\n"
     ]
    }
   ],
   "source": [
    "better_together = start + \" and \" + end\n",
    "print(better_together)"
   ]
  },
  {
   "cell_type": "markdown",
   "id": "ef63be74-2293-452c-8933-5cb57f037abf",
   "metadata": {},
   "source": [
    "#### Accessing Characters\n",
    "- if you are only interested in a part of a string, you can access single or multiple characters by indexing\n",
    "- you just have to state which position of a string you want to access by putting the position into squared brackets"
   ]
  },
  {
   "cell_type": "code",
   "execution_count": 16,
   "id": "d0561722-825c-46df-942b-5a5ad308f38f",
   "metadata": {
    "tags": []
   },
   "outputs": [
    {
     "name": "stdout",
     "output_type": "stream",
     "text": [
      "P\n"
     ]
    }
   ],
   "source": [
    "word = \"Python\"\n",
    "first_letter = word[0]  # first letter with 0\n",
    "last_letter = word[-1]  # last letter with -1 \n",
    "middle_letter = word[2] # third letter with 2\n",
    "\n",
    "print(first_letter)"
   ]
  },
  {
   "cell_type": "markdown",
   "id": "7aeb42a6-ccd6-490c-8d10-e128c078efb9",
   "metadata": {},
   "source": [
    "! always remember: counting in Python starts with 0 !"
   ]
  },
  {
   "cell_type": "code",
   "execution_count": 19,
   "id": "124638a8-e9e9-44f9-b081-14c8853eac8b",
   "metadata": {
    "tags": []
   },
   "outputs": [
    {
     "name": "stdout",
     "output_type": "stream",
     "text": [
      "Hello\n",
      "Peter\n",
      "Hello Peter\n"
     ]
    }
   ],
   "source": [
    "greeting = \"Hello Peter\"\n",
    "\n",
    "hello = greeting[0:5] # the letter at position 5 is not included!\n",
    "name = greeting[-5:]\n",
    "\n",
    "whole_string = greeting[:]\n",
    "\n",
    "print(hello)\n",
    "print(name)\n",
    "print(whole_string)"
   ]
  },
  {
   "cell_type": "markdown",
   "id": "5b9b7959-0cb6-41a7-a631-3fac6ba0f560",
   "metadata": {},
   "source": [
    "##### Important notes:\n",
    "- you can either start counting from the beginning or the end\n",
    "   * if you start from the beginning you start counting with 0\n",
    "   * if you start from the end, you have to put a minus and the last letter is -1\n",
    "- you can also index parts of the string, called slicing, by defining an interval with \":\"\n",
    "   * important: the letter at the position after the ':' is not included, so you have to define your interval one position larger than you want\n",
    "   * if you don't put anything before the ':', it means that you want to start at the beginning of the string\n",
    "   * if you don't put anything after the ':', it means that you want to go until the end of the string\n",
    "   * therefore just putting ':' in the square brackets gives you the whole string\n"
   ]
  },
  {
   "cell_type": "markdown",
   "id": "182d7f71-6f78-4050-a503-d75478880c97",
   "metadata": {},
   "source": [
    "#### More methods\n",
    "- there exists a vast amount of methods to manipulate your string that cannot all be listed here\n",
    "- check for example here: https://www.w3schools.com/python/python_ref_string.asp to see more"
   ]
  },
  {
   "cell_type": "code",
   "execution_count": 20,
   "id": "e5ae93ad-4498-4c4e-8050-46589e0ae942",
   "metadata": {
    "tags": []
   },
   "outputs": [
    {
     "name": "stdout",
     "output_type": "stream",
     "text": [
      "Hello Peter\n",
      "Hello Franz\n"
     ]
    }
   ],
   "source": [
    "# for example replacing words\n",
    "\n",
    "print(greeting)\n",
    "greeting = greeting.replace(\"Peter\", \"Franz\")\n",
    "print(greeting)"
   ]
  },
  {
   "cell_type": "markdown",
   "id": "a41b5eeb-e2c9-47e3-a650-820c907a53c8",
   "metadata": {},
   "source": [
    "- be careful to reassign the varible, otherwise the original string will be kept with some methods"
   ]
  },
  {
   "cell_type": "code",
   "execution_count": 21,
   "id": "cd14172f-f0e1-47a7-9bec-57173995ffa0",
   "metadata": {
    "tags": []
   },
   "outputs": [
    {
     "name": "stdout",
     "output_type": "stream",
     "text": [
      "Hello Franz\n",
      "Hello Franz\n",
      "Hello Herbert\n"
     ]
    }
   ],
   "source": [
    "print(greeting)\n",
    "\n",
    "greeting.replace(\"Franz\", \"Herbert\")\n",
    "print(greeting)\n",
    "\n",
    "greeting = greeting.replace(\"Franz\", \"Herbert\")\n",
    "print(greeting)"
   ]
  },
  {
   "cell_type": "markdown",
   "id": "aa7d01fe-06b9-4608-892a-5fdea04d93ea",
   "metadata": {},
   "source": [
    "- one more important method is to fill in parts of a string with a variable: you can personalize a generic string like this\n",
    "    * this can be done with the method format\n",
    "    * you can leave gaps in your string with curly brackets '{}' and then put the variables that you want to fill the gaps with in the brackets after the format"
   ]
  },
  {
   "cell_type": "code",
   "execution_count": 28,
   "id": "c75385a8-7ede-4903-a25d-9ddb2761459b",
   "metadata": {
    "tags": []
   },
   "outputs": [
    {
     "name": "stdout",
     "output_type": "stream",
     "text": [
      "Hello, I am Peter and I am 60 years old\n",
      "Hello, I am 60 and I am Peter years old\n"
     ]
    }
   ],
   "source": [
    "name = \"Peter\"\n",
    "age = 60\n",
    "\n",
    "introduction = \"Hello, I am {} and I am {} years old\"\n",
    "\n",
    "print(introduction.format(name, age))\n",
    "\n",
    "print(introduction.format(age, name)) # be careful with the order!"
   ]
  },
  {
   "cell_type": "markdown",
   "id": "71647bb6-00b0-48e2-ba9a-f6d6e8f04288",
   "metadata": {},
   "source": [
    "#### Exercise 2\n",
    "- store your first and your last name in two seperate variables\n",
    "- then combine the two variables to form your whole name\n",
    "- print your name in uppercase\n",
    "- write a generic introduction and add in your name afterwards"
   ]
  },
  {
   "cell_type": "code",
   "execution_count": 29,
   "id": "91b0d141-6cb4-4127-b2c2-05c57a20a6aa",
   "metadata": {
    "tags": []
   },
   "outputs": [],
   "source": [
    "# try it out here"
   ]
  },
  {
   "cell_type": "markdown",
   "id": "994a12dd-fbb1-4945-9991-adc6dcf24d43",
   "metadata": {},
   "source": [
    "### 2.2 Numbers\n",
    "\n",
    "Dealing with simple numerical data is fairly straightforward in Python, but there are a few things you should know about.\n",
    "\n",
    "Some Arithmetic Operators:\n",
    "\n",
    "| Symbol | Task Performed |\n",
    "|----|---|\n",
    "| +  | Addition |\n",
    "| -  | Subtraction |\n",
    "| *  | multiplication |\n",
    "| /  | division |\n",
    "| //  | floor division |\n",
    "| %  | modulus |\n",
    "| **  | to the power of |"
   ]
  },
  {
   "cell_type": "markdown",
   "id": "36ba2396-cdaa-438b-9a3a-2b8ee1e3d85d",
   "metadata": {},
   "source": [
    "#### Integers\n",
    "\n",
    "- You can do all of the basic operations with integers, and everything should behave as you expect\n",
    "- Addition and subtraction use the standard plus and minus symbols\n",
    "- Multiplication uses the asterisk\n",
    "- Division uses a forward slash\n",
    "- Exponents use two asterisks\n",
    "- You can either use variables for calculating or just the numbers themselves"
   ]
  },
  {
   "cell_type": "code",
   "execution_count": 30,
   "id": "89659d5a-e1b7-4ac6-bc4a-a3b69e57a252",
   "metadata": {
    "tags": []
   },
   "outputs": [
    {
     "data": {
      "text/plain": [
       "5"
      ]
     },
     "execution_count": 30,
     "metadata": {},
     "output_type": "execute_result"
    }
   ],
   "source": [
    "3+2"
   ]
  },
  {
   "cell_type": "code",
   "execution_count": 31,
   "id": "db6a2018-cf01-4663-91fd-b39a369e09a9",
   "metadata": {
    "tags": []
   },
   "outputs": [
    {
     "data": {
      "text/plain": [
       "2"
      ]
     },
     "execution_count": 31,
     "metadata": {},
     "output_type": "execute_result"
    }
   ],
   "source": [
    "3-1"
   ]
  },
  {
   "cell_type": "code",
   "execution_count": 32,
   "id": "c6a89647-5c43-45d9-b314-25cdfa8d7a36",
   "metadata": {
    "tags": []
   },
   "outputs": [
    {
     "data": {
      "text/plain": [
       "15"
      ]
     },
     "execution_count": 32,
     "metadata": {},
     "output_type": "execute_result"
    }
   ],
   "source": [
    "3*5"
   ]
  },
  {
   "cell_type": "code",
   "execution_count": 33,
   "id": "0e17e75c-9c8c-48ad-abbe-99c4862a41fa",
   "metadata": {
    "tags": []
   },
   "outputs": [
    {
     "data": {
      "text/plain": [
       "3.0"
      ]
     },
     "execution_count": 33,
     "metadata": {},
     "output_type": "execute_result"
    }
   ],
   "source": [
    "9/3"
   ]
  },
  {
   "cell_type": "code",
   "execution_count": 34,
   "id": "a506ae2f-3f4d-4a0b-ae14-431da92786ea",
   "metadata": {
    "tags": []
   },
   "outputs": [
    {
     "data": {
      "text/plain": [
       "16"
      ]
     },
     "execution_count": 34,
     "metadata": {},
     "output_type": "execute_result"
    }
   ],
   "source": [
    "2**4"
   ]
  },
  {
   "cell_type": "code",
   "execution_count": 35,
   "id": "5169fab6-32de-4cb4-b314-3305eaba1a0a",
   "metadata": {
    "tags": []
   },
   "outputs": [
    {
     "name": "stdout",
     "output_type": "stream",
     "text": [
      "3\n"
     ]
    }
   ],
   "source": [
    "x = 2\n",
    "x = x + 1\n",
    "print(x)"
   ]
  },
  {
   "cell_type": "markdown",
   "id": "9142256b-a69c-48d0-a48a-b3c8a7ca5d6d",
   "metadata": {
    "tags": []
   },
   "source": [
    "- you can also use parenthesis to change the order"
   ]
  },
  {
   "cell_type": "code",
   "execution_count": 37,
   "id": "80a4a50d-a7f1-4632-9874-40799e8f3132",
   "metadata": {
    "tags": []
   },
   "outputs": [
    {
     "name": "stdout",
     "output_type": "stream",
     "text": [
      "20\n",
      "11\n"
     ]
    }
   ],
   "source": [
    "x1 = (3+2) * 4\n",
    "x2 = 3 + 2 * 4\n",
    "\n",
    "print(x1)\n",
    "print(x2)"
   ]
  },
  {
   "cell_type": "markdown",
   "id": "d88d1fe3-987d-4485-b6ed-f5a21ebd2478",
   "metadata": {},
   "source": [
    "#### Floating-Point Numbers\n",
    "- any number with a decimal point\n"
   ]
  },
  {
   "cell_type": "code",
   "execution_count": 38,
   "id": "9318d1be-0bdb-4673-a84a-c3fd7a574fbc",
   "metadata": {
    "tags": []
   },
   "outputs": [
    {
     "name": "stdout",
     "output_type": "stream",
     "text": [
      "10.5\n"
     ]
    }
   ],
   "source": [
    "y1 = 4.2\n",
    "y2 = 6.3\n",
    "\n",
    "print(y1+y2)"
   ]
  },
  {
   "cell_type": "markdown",
   "id": "d868ebb0-345f-4f5f-bc70-843bd4e6049e",
   "metadata": {},
   "source": [
    "- if you calculate with both integers and floating-point numbers, python will convert it automatically into a floating-point number"
   ]
  },
  {
   "cell_type": "code",
   "execution_count": 39,
   "id": "d573c2e5-1025-4bf5-a925-c577fbb7b213",
   "metadata": {
    "tags": []
   },
   "outputs": [
    {
     "name": "stdout",
     "output_type": "stream",
     "text": [
      "9.5\n"
     ]
    }
   ],
   "source": [
    "z1 = 8\n",
    "z2 = 1.5\n",
    "\n",
    "print(z1 + z2)"
   ]
  },
  {
   "cell_type": "markdown",
   "id": "95707453-bf26-486b-8c3d-3d2d437d5916",
   "metadata": {
    "tags": []
   },
   "source": [
    "## 3. Comments\n",
    "- you already saw some comments in the notebook\n",
    "- comments are just what the name indicates: a possibility to comment your code\n",
    "- it makes your code more readable and understandable for yourself and others\n",
    "- comments start with a '#' and are ignored by the Python interpreter"
   ]
  },
  {
   "cell_type": "code",
   "execution_count": 41,
   "id": "9c3a868e-219f-45e8-a6d9-c81ddc5e6463",
   "metadata": {
    "tags": []
   },
   "outputs": [
    {
     "name": "stdout",
     "output_type": "stream",
     "text": [
      "This line is not a comment, it is code.\n"
     ]
    }
   ],
   "source": [
    "# This line is a comment.\n",
    "print(\"This line is not a comment, it is code.\")  # This is another comment."
   ]
  },
  {
   "cell_type": "markdown",
   "id": "827d265e-d439-4639-83c4-cb0efef9eba9",
   "metadata": {
    "tags": []
   },
   "source": [
    "#### What makes a good comment?\n",
    "\n",
    "- It is short and to the point, but a complete thought. Most comments should be written in complete sentences.\n",
    "- It explains your thinking, so that when you return to the code later you will understand how you were approaching the problem.\n",
    "- It explains your thinking, so that others who work with your code will understand your overall approach to a problem.\n",
    "- It explains particularly difficult sections of code in detail.\n",
    "\n",
    "#### When should you write comments?\n",
    "\n",
    "- When you have to think about code before writing it.\n",
    "- When you are likely to forget later exactly how you were approaching a problem.\n",
    "- When there is more than one way to solve a problem.\n",
    "- When others are unlikely to anticipate your way of thinking about a problem.\n",
    "\n",
    "Writing good comments is one of the clear signs of a good programmer. If you have any real interest in taking programming seriously, start using comments now. "
   ]
  }
 ],
 "metadata": {
  "kernelspec": {
   "display_name": "Python 3 (ipykernel)",
   "language": "python",
   "name": "python3"
  },
  "language_info": {
   "codemirror_mode": {
    "name": "ipython",
    "version": 3
   },
   "file_extension": ".py",
   "mimetype": "text/x-python",
   "name": "python",
   "nbconvert_exporter": "python",
   "pygments_lexer": "ipython3",
   "version": "3.11.5"
  }
 },
 "nbformat": 4,
 "nbformat_minor": 5
}
