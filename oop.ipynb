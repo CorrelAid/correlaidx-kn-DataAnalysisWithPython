{
 "cells": [
  {
   "cell_type": "markdown",
   "id": "94b5ef78-fff2-4864-a311-15c7cfbf4ea2",
   "metadata": {},
   "source": [
    "# Object-oriented Programming"
   ]
  },
  {
   "cell_type": "markdown",
   "id": "eef38db7-6fb1-4542-aa08-9a6eec56881b",
   "metadata": {},
   "source": [
    "**Object-oriented programming**, or short **OOP**, is a programming paradigm which provides a means of structuring programs such that properties and behaviors are bundled into individual **objects**. Another common programming paradigm is **procedural programming** which structures a program like a recipe in that it provides a set of steps, in the form of functions and code blocks, which flow sequentially in order to complete a task. **Objects** are at the center of the object-oriented programming paradigm, not only representing the data, as in procedural programming, but in the overall structure of the program as well. An object can be anything that has some characteristics and functions. Focusing first on the data, each thing or object is an **instance** of some **class**. Also **classes** are used to create new user-defined data structures that contain arbitrary information about something."
   ]
  },
  {
   "cell_type": "markdown",
   "id": "9dc01e92-408d-47d0-b2de-895531fad83a",
   "metadata": {
    "tags": []
   },
   "source": [
    "Object-oriented programming offers the following **advantages**:\n",
    "\n",
    "- If code is written in classes, it can be shared by multiple instances and **reused** multiple times.\n",
    "- The modular structure, in which classes are strictly separated, ensures **clear** and **maintable** code.\n",
    "- Through the logical separation of each object, possible errors can be **traced** back to the actual problem more easily, especially with hightly nested code.\n",
    "- When a user writes his code, then it is more **clear** which object and which data he is working with.\n",
    "\n",
    "Despite these advantages, object-oriented programming also has a few **drawbacks**:\n",
    "\n",
    "- With the amount of code and the number of classes, also the overall **complexity** of the program increases.\n",
    "- If **real-world** objects and their relations are **unclear**, then it can be very difficult to find an object-oriented structure.\n",
    "\n",
    "In a few seconds you will see some **examples** of how object-oriented programming may look like."
   ]
  },
  {
   "cell_type": "markdown",
   "id": "8d98d03c-2658-4cf6-aeb3-3b33c82e318d",
   "metadata": {},
   "source": [
    "**Key Concepts** of Object-Oriented Programming\n",
    "1. Classes and Objects\n",
    "2. Encapsulation\n",
    "3. Inheritance\n",
    "4. Polymorphism\n",
    "5. Abstraction\n",
    "\n",
    "We will just cover Classes & Objects and Inheritance. If you want to read more, check this page: https://www.geeksforgeeks.org/introduction-of-object-oriented-programming/ or this one https://realpython.com/python3-object-oriented-programming/"
   ]
  },
  {
   "cell_type": "markdown",
   "id": "bd851556-c544-4f4c-b5e3-e2806980e480",
   "metadata": {},
   "source": [
    "## 1. Classes and Object\n",
    "**Classes:**\n",
    "A class is a blueprint for creating objects. It defines a set of attributes and behaviors that the objects created from the class can have.\n",
    "\n",
    "**Objects:**\n",
    "An object is an instance of a class. When a class is defined, no memory is allocated until an object of that class is created."
   ]
  },
  {
   "cell_type": "code",
   "execution_count": 3,
   "id": "722acb58-ed62-4ced-b4ed-9363b051a1f2",
   "metadata": {
    "tags": []
   },
   "outputs": [],
   "source": [
    "# Defining the Car class\n",
    "class Car:\n",
    "    # Class attribute (shared by all instances)\n",
    "    vehicle_type = \"Car\"\n",
    "    \n",
    "    # The initializer method (constructor)\n",
    "    def __init__(self, brand, model, year):\n",
    "        # Instance attributes (unique to each instance)\n",
    "        self.brand = brand\n",
    "        self.model = model\n",
    "        self.year = year\n",
    "    \n",
    "    # Instance method\n",
    "    def description(self):\n",
    "        return f\"{self.year} {self.brand} {self.model}\"\n",
    "    \n",
    "    # Another instance method\n",
    "    def start_engine(self):\n",
    "        return f\"The {self.description()} engine has started.\"\n"
   ]
  },
  {
   "cell_type": "code",
   "execution_count": 4,
   "id": "5bd280fc-c223-4985-8a5c-d7161fa96e81",
   "metadata": {
    "tags": []
   },
   "outputs": [
    {
     "name": "stdout",
     "output_type": "stream",
     "text": [
      "2020 Toyota Corolla\n",
      "The 2019 Honda Civic engine has started.\n"
     ]
    }
   ],
   "source": [
    "# Creating instances (objects) of the Car class\n",
    "car1 = Car(\"Toyota\", \"Corolla\", 2020)\n",
    "car2 = Car(\"Honda\", \"Civic\", 2019)\n",
    "\n",
    "# Accessing attributes and methods\n",
    "print(car1.description())       \n",
    "print(car2.start_engine())     \n"
   ]
  },
  {
   "cell_type": "markdown",
   "id": "8b20ee44-9fdb-44af-b803-1aa0ec36cfa7",
   "metadata": {},
   "source": [
    "**Explanation**:\n",
    "* Class Definition: class Car: defines a new class named Car.\n",
    "* Class Attribute: vehicle_type is shared by all instances of Car.\n",
    "* Initializer (__init__ method): This method is called when a new object is created. It initializes the instance attributes brand, model, and year.\n",
    "* Instance Methods: description and start_engine are behaviors that objects of Car can perform.\n",
    "* Creating Objects: car1 and car2 are instances of the Car class with different attribute values"
   ]
  },
  {
   "cell_type": "markdown",
   "id": "b3f7c804-37c3-40ee-a8b8-e7eb0b9317bc",
   "metadata": {},
   "source": [
    "## 2. Inheritance \n",
    "* Inheritance allows a class (called a child or subclass) to inherit attributes and methods from another class (called a parent or superclass)\n",
    "* This promotes code reusability and establishes a natural hierarchy between classes"
   ]
  },
  {
   "cell_type": "code",
   "execution_count": null,
   "id": "de906aac-d207-4dd8-9eae-b1d85d4a5782",
   "metadata": {},
   "outputs": [],
   "source": [
    "# Child class inheriting from Car\n",
    "class ElectricCar(Car):\n",
    "    vehicle_type = \"Electric Car\"  # Overriding class attribute\n",
    "    \n",
    "    def __init__(self, brand, model, year, battery_capacity):\n",
    "        super().__init__(brand, model, year)  # Initialize parent attributes\n",
    "        self.battery_capacity = battery_capacity  # New attribute specific to ElectricCar\n",
    "    \n",
    "    # Overriding a method\n",
    "    def start_engine(self):\n",
    "        return f\"The {self.description()} electric motor has started silently.\"\n",
    "    \n",
    "    # New method specific to ElectricCar\n",
    "    def charge_battery(self):\n",
    "        return f\"The {self.description()} is now charging with {self.battery_capacity} kWh battery.\"\n",
    "\n",
    "# Creating an ElectricCar object\n",
    "electric_car = ElectricCar(\"Tesla\", \"Model S\", 2022, 100)\n",
    "\n",
    "# Accessing attributes and methods\n",
    "print(electric_car.description())         # Output: 2022 Tesla Model S\n",
    "print(electric_car.start_engine())        # Output: The 2022 Tesla Model S electric motor has started silently.\n",
    "print(electric_car.charge_battery())      # Output: The 2022 Tesla Model S is now charging with 100 kWh battery.\n"
   ]
  },
  {
   "cell_type": "markdown",
   "id": "6729186d-fd50-408d-924e-a293036c2e5f",
   "metadata": {},
   "source": [
    "**Explanation:**\n",
    "* Inheritance: ElectricCar inherits from Car, meaning it has access to all attributes and methods of Car unless overridden. ElectricCar(Car) indicates that Car is the class from which the other inherits\n",
    "* Overriding: The vehicle_type class attribute and the start_engine method are overridden in the ElectricCar class to reflect electric-specific behavior.\n",
    "* super() Function: super().__init__(...) calls the parent class’s initializer to set up inherited attributes.\n",
    "* New Attributes and Methods: ElectricCar introduces battery_capacity and a new method charge_battery."
   ]
  }
 ],
 "metadata": {
  "kernelspec": {
   "display_name": "Python 3 (ipykernel)",
   "language": "python",
   "name": "python3"
  },
  "language_info": {
   "codemirror_mode": {
    "name": "ipython",
    "version": 3
   },
   "file_extension": ".py",
   "mimetype": "text/x-python",
   "name": "python",
   "nbconvert_exporter": "python",
   "pygments_lexer": "ipython3",
   "version": "3.11.5"
  }
 },
 "nbformat": 4,
 "nbformat_minor": 5
}
