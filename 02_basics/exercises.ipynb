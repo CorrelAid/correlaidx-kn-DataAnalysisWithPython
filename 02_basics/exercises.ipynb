{
 "cells": [
  {
   "cell_type": "markdown",
   "metadata": {},
   "source": [
    "# Exercises \"Programming Basics\" Pt.1\n",
    "\n",
    "Exercises using basic operations on data types & structures, and `for`-loops."
   ]
  },
  {
   "cell_type": "markdown",
   "metadata": {},
   "source": [
    "## Easy"
   ]
  },
  {
   "cell_type": "markdown",
   "metadata": {},
   "source": [
    "* **Arithmetics:** Given two numbers $x = 15$ and $y = 17$, write code to...\n",
    "    - Add them\n",
    "    - Subtract $y$ from $x$\n",
    "    - Multiply them\n",
    "    - Divide $y$ by $x$\n",
    "    - Raise $x$ to the power of $y$\n",
    "    - Get the remainder when dividing $y$ by $x$\n",
    "\n",
    "...and print out the results."
   ]
  },
  {
   "cell_type": "code",
   "execution_count": null,
   "metadata": {},
   "outputs": [],
   "source": []
  },
  {
   "cell_type": "markdown",
   "metadata": {},
   "source": [
    "* **Strings:** Given the string `\"Python\"`:\n",
    "    - Print it in upper and lower case\n",
    "    - Find and print the length of the string"
   ]
  },
  {
   "cell_type": "code",
   "execution_count": null,
   "metadata": {},
   "outputs": [],
   "source": []
  },
  {
   "cell_type": "markdown",
   "metadata": {},
   "source": [
    "* **Lists:** Given the below list:\n",
    "    - Print the list\n",
    "    - Find the length of the list (= number of elements in the list)\n",
    "    - Retrieve & print the first and last element in the list\n",
    "    - Add $5$ at the end of the list\n",
    "    - Add $10$, $11$ & $12$ to the list\n",
    "    - Sort the list\n",
    "    - *Bonus:* Use a `for`-loop to print each element of the list"
   ]
  },
  {
   "cell_type": "code",
   "execution_count": null,
   "metadata": {},
   "outputs": [],
   "source": []
  },
  {
   "cell_type": "markdown",
   "metadata": {},
   "source": [
    "## Intermediate"
   ]
  },
  {
   "cell_type": "markdown",
   "metadata": {},
   "source": [
    "* Given the below list:\n",
    "    - Find the minimum (smallest value)\n",
    "    - Find the maximum (biggest value)\n",
    "    - Count how many numbers are greater than 20"
   ]
  },
  {
   "cell_type": "code",
   "execution_count": null,
   "metadata": {},
   "outputs": [],
   "source": [
    "numbers = [12, 45, 32, 21, 5, 9, 27]"
   ]
  },
  {
   "cell_type": "markdown",
   "metadata": {},
   "source": [
    "* Given the below list of words:\n",
    "    - Create a dictionary that counts the frequency of each word"
   ]
  },
  {
   "cell_type": "code",
   "execution_count": null,
   "metadata": {},
   "outputs": [],
   "source": [
    "fruits = ['apple', 'banana', 'apple', 'orange', 'banana', 'apple']"
   ]
  },
  {
   "cell_type": "markdown",
   "metadata": {},
   "source": [
    "* Below is a list of temperatures in Celsius.\n",
    "    - Write a program to convert all the temperatures to Fahrenheit\n",
    "\n",
    "*Hint:* Use the following formula: $F = C \\times \\frac{9}{5} + 32$."
   ]
  },
  {
   "cell_type": "code",
   "execution_count": null,
   "metadata": {},
   "outputs": [],
   "source": [
    "celsius_temps = [0, 20, 30, 100]"
   ]
  },
  {
   "cell_type": "markdown",
   "metadata": {},
   "source": [
    "* Given the below list of numbers:\n",
    "    - Separate the list into a list of even and odd values\n",
    "    - Print out both lists\n",
    "\n",
    "*Hint:* A number $x$ is even if it is divisible by two, i.e. `x % 2 == 0`."
   ]
  },
  {
   "cell_type": "code",
   "execution_count": null,
   "metadata": {},
   "outputs": [],
   "source": [
    "numbers = [3, 7, 10, 20, 35, 40, 50, 60]"
   ]
  },
  {
   "cell_type": "markdown",
   "metadata": {},
   "source": [
    "## Advanced"
   ]
  },
  {
   "cell_type": "markdown",
   "metadata": {},
   "source": [
    "* **Algorithms:** While in Python you can just use `sorted()` or `.sort()` to sort the elements of a list, under the hood the sorting has to be handled by some sort of sorting algorithm. Your task here is to implement \"Selection Sort\", a simple sorting algorithm, from scratch. Selection sort is a straightforward sorting algorithm that organizes a list by repeatedly finding the smallest element and moving it to its correct position in the sorted section of the list. Selection sort works in five steps:\n",
    "\n",
    "    1. *Initialize the First Position:* Start with the first element of the list as the \"current position\" where the smallest element will eventually be placed.\n",
    "\n",
    "    2. *Find the Minimum Element:* Search the rest of the list to locate the smallest element in the unsorted portion. This minimum value is the element that should come next in the sorted order. For that, we iterate over the list & always keep track of the smallest value we found so far.\n",
    "\n",
    "    3. *Swap the Elements:* Swap the smallest element found with the element at the \"current position.\" This action places the smallest element in its final sorted location.\n",
    "\n",
    "    4. *Move to the Next Position:* Move the \"current position\" one step forward to the next element in the list and repeat the process. Each time, the sorted section of the list grows by one element from the left side.\n",
    "\n",
    "    5. *Repeat:* Continue this process until you have iterated through the entire list, ultimately resulting in a fully sorted list.\n",
    "\n",
    "Below you can find \"Pseudocode\" for this algorithm for reference:\n",
    "\n",
    "![](assets/selection-sort.png)\n",
    "\n",
    "...and a simple animation of how it works:\n",
    "\n",
    "![](assets/selection-sort-animation.gif)"
   ]
  },
  {
   "cell_type": "code",
   "execution_count": null,
   "metadata": {},
   "outputs": [],
   "source": [
    "# Sort this list using SelectionSort:\n",
    "A = [8, 5, 2, 6, 9, 3, 1, 4, 0, 7]"
   ]
  }
 ],
 "metadata": {
  "kernelspec": {
   "display_name": "base",
   "language": "python",
   "name": "python3"
  },
  "language_info": {
   "codemirror_mode": {
    "name": "ipython",
    "version": 3
   },
   "file_extension": ".py",
   "mimetype": "text/x-python",
   "name": "python",
   "nbconvert_exporter": "python",
   "pygments_lexer": "ipython3",
   "version": "3.12.4"
  }
 },
 "nbformat": 4,
 "nbformat_minor": 2
}
