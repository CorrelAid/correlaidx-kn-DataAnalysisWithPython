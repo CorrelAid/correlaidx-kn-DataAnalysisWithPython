{
 "cells": [
  {
   "cell_type": "markdown",
   "id": "1b8b57ff-3a91-487f-a137-e84727257074",
   "metadata": {},
   "source": [
    "# Part 1 - Programming Basics"
   ]
  },
  {
   "cell_type": "markdown",
   "id": "20d3288f-efdb-49f6-be68-8fb8f74ae201",
   "metadata": {},
   "source": [
    "## Variables\n",
    "\n",
    "Variables are like containers that store information we want to use later, like a name tag for data. Variable assignment is when we create a variable and give it a value. In Python, we assign variables using `=`:"
   ]
  },
  {
   "cell_type": "code",
   "execution_count": 97,
   "id": "dd489d6d-09cb-4a41-8c30-c45fc39abc99",
   "metadata": {
    "tags": []
   },
   "outputs": [],
   "source": [
    "x = 5           \n",
    "name = \"Max Mustermann\"   \n",
    "pi = 3.14159"
   ]
  },
  {
   "cell_type": "markdown",
   "id": "c8258bdc-d7b0-4301-b89a-a83213cbf593",
   "metadata": {},
   "source": [
    "- to see the value of a variable, you can print it out"
   ]
  },
  {
   "cell_type": "code",
   "execution_count": null,
   "id": "1da021bf-6606-40be-a3fd-3ce7a4db2f73",
   "metadata": {
    "tags": []
   },
   "outputs": [],
   "source": [
    "print(name)"
   ]
  },
  {
   "cell_type": "code",
   "execution_count": null,
   "id": "dce2aea5-6d2f-45dc-80ae-f946983d8d54",
   "metadata": {
    "tags": []
   },
   "outputs": [],
   "source": [
    "print(naame) # be careful with spelling!"
   ]
  },
  {
   "cell_type": "markdown",
   "id": "3bcf9acb",
   "metadata": {},
   "source": [
    "There are certain keywords that are blocked by Python itself and that you thus cannot use as variable names:"
   ]
  },
  {
   "cell_type": "code",
   "execution_count": null,
   "id": "ca62c3c9-1b6e-4d81-a5b8-bec67d77c417",
   "metadata": {
    "tags": []
   },
   "outputs": [],
   "source": [
    "if = \"if\" # error because if is a python keyword"
   ]
  },
  {
   "cell_type": "markdown",
   "id": "71c3b803-8736-48e2-a3af-156e5298838d",
   "metadata": {},
   "source": [
    "Reassigning a variable overwrites its original value:"
   ]
  },
  {
   "cell_type": "code",
   "execution_count": null,
   "id": "f97bd8f0-99da-4002-926f-63cb885a21b2",
   "metadata": {
    "tags": []
   },
   "outputs": [],
   "source": [
    "update = \"before\"\n",
    "print(update)\n",
    "\n",
    "storage = update # storing the old value \n",
    "\n",
    "update = \"after\"\n",
    "\n",
    "print(update)\n",
    "print(storage)"
   ]
  },
  {
   "cell_type": "markdown",
   "id": "376ee3c8-7af2-4ba4-8af7-525e30938910",
   "metadata": {
    "tags": []
   },
   "source": [
    "### Exercise\n",
    "\n",
    "- Store your first name in a variable and print it\n",
    "- Change this variable to also include your last name & print it again"
   ]
  },
  {
   "cell_type": "code",
   "execution_count": 10,
   "id": "7b78eee0-ab10-46f7-810c-319b93494be7",
   "metadata": {
    "tags": []
   },
   "outputs": [],
   "source": [
    "# here goes your answer"
   ]
  },
  {
   "cell_type": "markdown",
   "id": "cac0e4a2-5436-4a50-a2b7-9c378f5dc7fd",
   "metadata": {},
   "source": [
    "## Basic Data Types\n",
    "\n",
    "Data types are like \"labels\" for different kinds of information in programming, helping Python understand how to work with each piece of data. For example, numbers and text are different data types because we use and process them in different ways — like doing math with numbers, or pasting together pieces of text.\n",
    "\n",
    "| type | description |\n",
    "|----|---|\n",
    "| `str` | Text (\"String\") |\n",
    "| `int` | Integer (whole) number |\n",
    "| `float`  | Number with decimal places (\"floating point\") |\n",
    "| `bool` | `True` or `False` |\n",
    "\n",
    "We can check the type of a variable with the built-in function `type()`."
   ]
  },
  {
   "cell_type": "code",
   "execution_count": null,
   "id": "be7bd735-efa4-4679-a8b2-4a37cef77afd",
   "metadata": {
    "tags": []
   },
   "outputs": [],
   "source": [
    "bool1 = True\n",
    "\n",
    "type(bool1)"
   ]
  },
  {
   "cell_type": "markdown",
   "id": "397458d9-bbb7-48d7-866a-1f784c6d88dc",
   "metadata": {},
   "source": [
    "### Strings\n",
    "- Strings are used to represent text and can include letters, numbers, symbols, and even whitespace\n",
    "- You can either put them in single ('hello') or in double (\"hello\") quotes"
   ]
  },
  {
   "cell_type": "code",
   "execution_count": 103,
   "id": "3cdc4bd2-465c-45dc-8ec0-430f42c1e9f2",
   "metadata": {
    "tags": []
   },
   "outputs": [],
   "source": [
    "first_string = \"I am proud of my first string!\"\n",
    "second_string = 'This also works perfectly well!'"
   ]
  },
  {
   "cell_type": "markdown",
   "id": "bce53c3c-c85c-418d-985b-6c4e0b1e6fdc",
   "metadata": {
    "tags": []
   },
   "source": [
    "#### String manipulation\n",
    "\n",
    "Changing case with `.title()`, `.upper()` and `.lower()`:"
   ]
  },
  {
   "cell_type": "code",
   "execution_count": null,
   "id": "1c7cdd86-703e-461d-99ca-53932e1a84e4",
   "metadata": {
    "tags": []
   },
   "outputs": [],
   "source": [
    "# make sure first letter is uppercase\n",
    "name = \"peter\"\n",
    "print(name)\n",
    "\n",
    "print(name.title())\n",
    "print(name.upper())\n",
    "print(name.lower())"
   ]
  },
  {
   "cell_type": "markdown",
   "id": "57ad477f",
   "metadata": {},
   "source": [
    "> *Side note:* You will often see this kind of `variable.action()` syntax. The \"actions\" are called \"methods\"; different types of objects in Python have different methods built-in, i.e. different operations you can perform on them."
   ]
  },
  {
   "cell_type": "markdown",
   "id": "502ce4ed-3192-46e2-901f-658ef0dccba9",
   "metadata": {},
   "source": [
    "You can concatenate strings together using `+`:"
   ]
  },
  {
   "cell_type": "code",
   "execution_count": null,
   "id": "a7483d5f-0ac6-4824-9090-1939d5bd4445",
   "metadata": {
    "tags": []
   },
   "outputs": [],
   "source": [
    "start = \"This is how the sentence starts\"\n",
    "end = \"this is how it ends.\"\n",
    "\n",
    "together = start + \" and \" + end\n",
    "print(together)"
   ]
  },
  {
   "cell_type": "markdown",
   "id": "ef63be74-2293-452c-8933-5cb57f037abf",
   "metadata": {},
   "source": [
    "Strings are made up of individual characters you can access using indexing with square brackets `[]`:"
   ]
  },
  {
   "cell_type": "code",
   "execution_count": null,
   "id": "d0561722-825c-46df-942b-5a5ad308f38f",
   "metadata": {
    "tags": []
   },
   "outputs": [],
   "source": [
    "word = \"Python\"\n",
    "first_letter = word[0]  # first letter with 0\n",
    "last_letter = word[-1]  # last letter with -1\n",
    "middle_letter = word[2] # third letter with 2\n",
    "\n",
    "print(first_letter)"
   ]
  },
  {
   "cell_type": "markdown",
   "id": "7aeb42a6-ccd6-490c-8d10-e128c078efb9",
   "metadata": {},
   "source": [
    "**! always remember: counting in Python starts with 0 !**"
   ]
  },
  {
   "cell_type": "code",
   "execution_count": null,
   "id": "124638a8-e9e9-44f9-b081-14c8853eac8b",
   "metadata": {
    "tags": []
   },
   "outputs": [],
   "source": [
    "greeting = \"Hello Peter\"\n",
    "\n",
    "hello = greeting[0:5] # the letter at position 5 is not included!\n",
    "name = greeting[-5:]\n",
    "\n",
    "whole_string = greeting[:]\n",
    "\n",
    "print(hello)\n",
    "print(name)\n",
    "print(whole_string)"
   ]
  },
  {
   "cell_type": "markdown",
   "id": "182d7f71-6f78-4050-a503-d75478880c97",
   "metadata": {},
   "source": [
    "#### More methods\n",
    "- there exists a vast amount of methods to manipulate your string that cannot all be listed here. In most IDEs you can get suggestions if you type out the name of your variable followed by a `.` and then hit Tab for autocomplete suggestions, like `my_string.<Tab>`."
   ]
  },
  {
   "cell_type": "code",
   "execution_count": null,
   "id": "e5ae93ad-4498-4c4e-8050-46589e0ae942",
   "metadata": {
    "tags": []
   },
   "outputs": [],
   "source": [
    "# for example replacing words\n",
    "\n",
    "print(greeting)\n",
    "greeting = greeting.replace(\"Peter\", \"Franz\")\n",
    "print(greeting)"
   ]
  },
  {
   "cell_type": "markdown",
   "id": "a41b5eeb-e2c9-47e3-a650-820c907a53c8",
   "metadata": {},
   "source": [
    "- be careful to reassign the varible, otherwise the original string will be kept with some methods"
   ]
  },
  {
   "cell_type": "code",
   "execution_count": null,
   "id": "cd14172f-f0e1-47a7-9bec-57173995ffa0",
   "metadata": {
    "tags": []
   },
   "outputs": [],
   "source": [
    "print(greeting)\n",
    "\n",
    "greeting.replace(\"Franz\", \"Herbert\")\n",
    "print(greeting)\n",
    "\n",
    "greeting = greeting.replace(\"Franz\", \"Herbert\")\n",
    "print(greeting)"
   ]
  },
  {
   "cell_type": "markdown",
   "id": "aa7d01fe-06b9-4608-892a-5fdea04d93ea",
   "metadata": {},
   "source": [
    "- one more important method is to fill in parts of a string with a variable: you can personalize a generic string like this\n",
    "    * this can be done with the method format\n",
    "    * you can leave gaps in your string with curly brackets '{}' and then put the variables that you want to fill the gaps with in the brackets after the format"
   ]
  },
  {
   "cell_type": "code",
   "execution_count": null,
   "id": "c75385a8-7ede-4903-a25d-9ddb2761459b",
   "metadata": {
    "tags": []
   },
   "outputs": [],
   "source": [
    "name = \"Peter\"\n",
    "age = 60\n",
    "\n",
    "introduction = \"Hello, I am {} and I am {} years old\"\n",
    "\n",
    "print(introduction.format(name, age))\n",
    "\n",
    "print(introduction.format(age, name)) # be careful with the order!"
   ]
  },
  {
   "cell_type": "markdown",
   "id": "547a4d09",
   "metadata": {},
   "source": [
    "A usually more convenient way to do this is with \"f-strings\" (formatted strings):"
   ]
  },
  {
   "cell_type": "code",
   "execution_count": null,
   "id": "a4fa9333",
   "metadata": {},
   "outputs": [],
   "source": [
    "print(f\"Hello, I am {name} and I am {age} years old\")"
   ]
  },
  {
   "cell_type": "markdown",
   "id": "ff8503a0",
   "metadata": {},
   "source": [
    "Here, the variables are written directly into the string, inside the curly brackets `{}` (notice the `f\"\"` instead of just `\"\"`)."
   ]
  },
  {
   "cell_type": "markdown",
   "id": "71647bb6-00b0-48e2-ba9a-f6d6e8f04288",
   "metadata": {},
   "source": [
    "#### Exercise\n",
    "- store your first and your last name in two seperate variables\n",
    "- then combine the two variables to form your whole name\n",
    "- print your name in uppercase\n",
    "- write a generic introduction and add in your name afterwards"
   ]
  },
  {
   "cell_type": "code",
   "execution_count": 29,
   "id": "91b0d141-6cb4-4127-b2c2-05c57a20a6aa",
   "metadata": {
    "tags": []
   },
   "outputs": [],
   "source": [
    "# try it out here"
   ]
  },
  {
   "cell_type": "markdown",
   "id": "994a12dd-fbb1-4945-9991-adc6dcf24d43",
   "metadata": {},
   "source": [
    "### Numeric types (`int` and `float`)\n",
    "\n",
    "Numbers of course support different kinds of operations than strings, like arithmetics: you can not multiply two strings with each other (what would that even mean?), but you can two numbers. The most important arithmetic operators Python has are\n",
    "\n",
    "| Symbol | Task Performed |\n",
    "|----|---|\n",
    "| `+`  | Addition |\n",
    "| `-` | Subtraction |\n",
    "| `*` | multiplication |\n",
    "| `/`  | division |\n",
    "| `//`  | floor division |\n",
    "| `%`  | modulus |\n",
    "| `**` | to the power of |"
   ]
  },
  {
   "cell_type": "markdown",
   "id": "36ba2396-cdaa-438b-9a3a-2b8ee1e3d85d",
   "metadata": {},
   "source": [
    "#### Integers"
   ]
  },
  {
   "cell_type": "code",
   "execution_count": null,
   "id": "89659d5a-e1b7-4ac6-bc4a-a3b69e57a252",
   "metadata": {
    "tags": []
   },
   "outputs": [],
   "source": [
    "3+2"
   ]
  },
  {
   "cell_type": "code",
   "execution_count": null,
   "id": "db6a2018-cf01-4663-91fd-b39a369e09a9",
   "metadata": {
    "tags": []
   },
   "outputs": [],
   "source": [
    "3-1"
   ]
  },
  {
   "cell_type": "code",
   "execution_count": null,
   "id": "c6a89647-5c43-45d9-b314-25cdfa8d7a36",
   "metadata": {
    "tags": []
   },
   "outputs": [],
   "source": [
    "3*5"
   ]
  },
  {
   "cell_type": "code",
   "execution_count": null,
   "id": "0e17e75c-9c8c-48ad-abbe-99c4862a41fa",
   "metadata": {
    "tags": []
   },
   "outputs": [],
   "source": [
    "9/3"
   ]
  },
  {
   "cell_type": "code",
   "execution_count": null,
   "id": "a506ae2f-3f4d-4a0b-ae14-431da92786ea",
   "metadata": {
    "tags": []
   },
   "outputs": [],
   "source": [
    "2**4"
   ]
  },
  {
   "cell_type": "code",
   "execution_count": null,
   "id": "5169fab6-32de-4cb4-b314-3305eaba1a0a",
   "metadata": {
    "tags": []
   },
   "outputs": [],
   "source": [
    "x = 2\n",
    "x = x + 1\n",
    "print(x)"
   ]
  },
  {
   "cell_type": "markdown",
   "id": "9142256b-a69c-48d0-a48a-b3c8a7ca5d6d",
   "metadata": {
    "tags": []
   },
   "source": [
    "You can also use parentheses to change the order of operations, like you would normally:"
   ]
  },
  {
   "cell_type": "code",
   "execution_count": null,
   "id": "80a4a50d-a7f1-4632-9874-40799e8f3132",
   "metadata": {
    "tags": []
   },
   "outputs": [],
   "source": [
    "x1 = (3+2) * 4\n",
    "x2 = 3 + 2 * 4\n",
    "\n",
    "print(x1)\n",
    "print(x2)"
   ]
  },
  {
   "cell_type": "markdown",
   "id": "d88d1fe3-987d-4485-b6ed-f5a21ebd2478",
   "metadata": {},
   "source": [
    "#### Floating-Point Numbers\n",
    "- any number with a decimal point\n"
   ]
  },
  {
   "cell_type": "code",
   "execution_count": null,
   "id": "9318d1be-0bdb-4673-a84a-c3fd7a574fbc",
   "metadata": {
    "tags": []
   },
   "outputs": [],
   "source": [
    "y1 = 4.2\n",
    "y2 = 6.3\n",
    "\n",
    "print(y1+y2)"
   ]
  },
  {
   "cell_type": "markdown",
   "id": "d868ebb0-345f-4f5f-bc70-843bd4e6049e",
   "metadata": {},
   "source": [
    "- if you calculate with both integers and floating-point numbers, python will convert it automatically into a floating-point number"
   ]
  },
  {
   "cell_type": "code",
   "execution_count": null,
   "id": "d573c2e5-1025-4bf5-a925-c577fbb7b213",
   "metadata": {
    "tags": []
   },
   "outputs": [],
   "source": [
    "z1 = 8\n",
    "z2 = 1.5\n",
    "\n",
    "print(z1 + z2)"
   ]
  },
  {
   "cell_type": "markdown",
   "id": "8c200dd5",
   "metadata": {},
   "source": [
    "Be aware of one little quirk of floating point numbers: due to how floating point numbers are represented internally, there are sometimes small inaccuracies in floating point arithmetic with some numbers that can't be represented entirely accurately:"
   ]
  },
  {
   "cell_type": "code",
   "execution_count": null,
   "id": "0842ce24",
   "metadata": {},
   "outputs": [],
   "source": [
    "0.1 + 0.2"
   ]
  },
  {
   "cell_type": "markdown",
   "id": "9e041216",
   "metadata": {},
   "source": [
    "You can find some more details [here](https://www.truenorthfloatingpoint.com/problem)."
   ]
  },
  {
   "cell_type": "markdown",
   "id": "fc0072e6-8c15-4158-944a-ea6bdd58310c",
   "metadata": {},
   "source": [
    "## Basic Data Structures\n",
    "\n",
    "Data structures are ways of organizing and storing multiple pieces of information in programming. They help us manage data efficiently, depending on what we need — for example, lists let us keep items in a specific order, dictionaries store data as pairs (like a word and its meaning), and sets hold unique items only. These structures make it easier to group, access, and manipulate data effectively. You will get to know these data structures below."
   ]
  },
  {
   "cell_type": "markdown",
   "id": "f1b5fd3d-34c6-4ff6-b897-4ebdb29a9f78",
   "metadata": {},
   "source": [
    "### Lists\n",
    "* most commonly used data structure\n",
    "* mutable, ordered collection of data \n",
    "* lists can hold items of any data type\n",
    "* can change size dynamically by adding or removing elements"
   ]
  },
  {
   "cell_type": "code",
   "execution_count": 16,
   "id": "9414955e-3054-4642-bb4e-0e484c67c45f",
   "metadata": {
    "tags": []
   },
   "outputs": [],
   "source": [
    "empty_list = []\n",
    "\n",
    "list1 = [1,2,3,4] # all values are integers\n",
    "list2 = [\"a\", 1, True, 5.4] # but it is also possible to mix data types\n",
    "list3 = [\"a\", 1, True, 5.4, [1, 2, 3], [\"a\", \"b\", \"c\"]] # lists can also hold other lists"
   ]
  },
  {
   "cell_type": "markdown",
   "id": "c3255d1d-bd51-4901-8fef-afaa8080c7f3",
   "metadata": {},
   "source": [
    "* as you can see, lists are defined by square brackets and elements are seperated by commas\n",
    "* try to give your lists meaningful names"
   ]
  },
  {
   "cell_type": "markdown",
   "id": "2340ab3b-1908-4500-bcfb-a74eb364ecf4",
   "metadata": {},
   "source": [
    "#### Accessing items of a list\n",
    "* as with strings, we can access single elements of a list by indexing\n",
    "* it works in the same fashion as with strings:\n",
    "    * put the number of the element in squared brackets, starting with 0 for the first element\n",
    "    * you can also start at the end with -1\n",
    "    * you can also access multiple elements by defining the interval with ':' (be careful, the element behind the ':' is not included)"
   ]
  },
  {
   "cell_type": "code",
   "execution_count": null,
   "id": "6b1f34c7-9d69-4362-8ba2-451e6d866db9",
   "metadata": {
    "tags": []
   },
   "outputs": [],
   "source": [
    "friends = [\"Peter\", \"Carla\", \"David\", \"Richard\", \"Emily\"]\n",
    "\n",
    "print(\"First element:\", friends[0])\n",
    "print(\"Last element:\", friends[-1])\n",
    "print(\"First two elements:\", friends[0:2]) # the element at position 2 is not included anymore, only 0 and 1"
   ]
  },
  {
   "cell_type": "markdown",
   "id": "ee25c4e6-29f1-49ec-a742-fc2634b27a35",
   "metadata": {
    "tags": []
   },
   "source": [
    "#### Adding elements\n",
    "* lists can be changed after creating them\n",
    "* for example you can add elements, remove them or change their values"
   ]
  },
  {
   "cell_type": "code",
   "execution_count": null,
   "id": "3ec9be19-8d90-4f23-b464-87f40841b6dd",
   "metadata": {
    "tags": []
   },
   "outputs": [],
   "source": [
    "friends.append(\"Margarete\") # adding one element\n",
    "print(friends)\n",
    "\n",
    "friends.extend([\"Paul\", \"Isabel\"]) # adding multiple elements\n",
    "print(friends)\n",
    "\n",
    "friends.insert(1, \"Victor\") # inserting at position 1\n",
    "print(friends)"
   ]
  },
  {
   "cell_type": "markdown",
   "id": "52a0b75b",
   "metadata": {},
   "source": [
    "#### Removing elements"
   ]
  },
  {
   "cell_type": "markdown",
   "id": "aeb59191",
   "metadata": {},
   "source": [
    "You can remove by name/item using `.remove()`:"
   ]
  },
  {
   "cell_type": "code",
   "execution_count": null,
   "id": "97752364",
   "metadata": {},
   "outputs": [],
   "source": [
    "friends.remove(\"Paul\")\n",
    "print(friends)"
   ]
  },
  {
   "cell_type": "markdown",
   "id": "4fa123a0",
   "metadata": {},
   "source": [
    "Or by index using either `.pop()` or the `del`-keyword:"
   ]
  },
  {
   "cell_type": "code",
   "execution_count": null,
   "id": "2b6b15e2",
   "metadata": {},
   "outputs": [],
   "source": [
    "friends.pop(0)\n",
    "del friends[-1]\n",
    "\n",
    "print(friends)"
   ]
  },
  {
   "cell_type": "markdown",
   "id": "44126521-daf3-465d-9fa5-17666096c6e9",
   "metadata": {},
   "source": [
    "#### Sorting a list\n",
    "* sometimes you want your list to be sorted, either alphabetically or by their numerical value\n",
    "* you can use either `.sort()`, which sorts in place (overwrites the original list), or `sorted()` which does not. Both accept the `reverse`-argument"
   ]
  },
  {
   "cell_type": "code",
   "execution_count": null,
   "id": "92b496d5-6de7-479f-ac1d-6e25638bf631",
   "metadata": {
    "tags": []
   },
   "outputs": [],
   "source": [
    "numbers = [1,5,103,7,66]\n",
    "print(sorted(numbers))\n",
    "print(sorted(numbers, reverse=True))"
   ]
  },
  {
   "cell_type": "markdown",
   "id": "0ae04ba9-459e-4df5-8186-b981860a2606",
   "metadata": {},
   "source": [
    "#### Exercise\n",
    "* create an empty list that should store the courses that you already passed\n",
    "* add a few courses, either one by one or all together\n",
    "* remove the courses that were not from the last semester\n",
    "* sort the courses alphabetically"
   ]
  },
  {
   "cell_type": "code",
   "execution_count": 43,
   "id": "75551d3c-1ca3-4647-bfdb-2369bc707157",
   "metadata": {
    "tags": []
   },
   "outputs": [],
   "source": [
    "# your solution "
   ]
  },
  {
   "cell_type": "markdown",
   "id": "6b6baa62-fc12-49ea-9a97-f7484a148b40",
   "metadata": {},
   "source": [
    "### Dictionaries\n",
    "* a dictionary is a collection data type that stores data in key-value pairs\n",
    "* Keys must be unique within a dictionary\n",
    "* Values can be of any data type, including lists, other dictionaries, or custom objects\n",
    "* Dictionaries are mutable, unordered (as of Python 3.7, they maintain insertion order), and highly optimized for retrieving values when the corresponding key is known\n",
    "* the general syntax looks like this:\n",
    "```dictionary_name = {key_1: value_1, key_2: value_2, key_3: value_3}```"
   ]
  },
  {
   "cell_type": "code",
   "execution_count": 4,
   "id": "f09114e0",
   "metadata": {},
   "outputs": [],
   "source": [
    "student = {\"name\": \"Alex\", \"age\": 20}"
   ]
  },
  {
   "cell_type": "code",
   "execution_count": null,
   "id": "5025ae91-cdd4-452e-a6d5-dca1a36bc54a",
   "metadata": {
    "tags": []
   },
   "outputs": [],
   "source": [
    "student[\"name\"]\n",
    "student[\"age\"]"
   ]
  },
  {
   "cell_type": "markdown",
   "id": "ddc0ec32-082d-436a-9f07-e171d75c193e",
   "metadata": {},
   "source": [
    "* we can get the keys and values or the whole items as tuples like this (this will become more interesting when we're talking about loops):"
   ]
  },
  {
   "cell_type": "code",
   "execution_count": null,
   "id": "f3e76f52-5fc4-44d0-9d42-13b23a91b868",
   "metadata": {
    "tags": []
   },
   "outputs": [],
   "source": [
    "print(student.keys())\n",
    "print(student.values())\n",
    "print(student.items())"
   ]
  },
  {
   "cell_type": "markdown",
   "id": "40282948-1412-45ed-8679-368e9fc15a5b",
   "metadata": {},
   "source": [
    "#### Adding, removing and modifying pairs\n",
    "* new key-value pairs can be added by putting the name of the new key in square brackets and the value after the '='\n",
    "* pairs can be deleted by specifying the key in the pop()-method\n",
    "* you can add overwrite the values that belong to a specific key"
   ]
  },
  {
   "cell_type": "code",
   "execution_count": null,
   "id": "0677d461-6bf4-42db-89ca-1f47e38c513e",
   "metadata": {
    "tags": []
   },
   "outputs": [],
   "source": [
    "# adding the things we already learned about\n",
    "student[\"name\"] = \"Katharina\"\n",
    "print(student)"
   ]
  },
  {
   "cell_type": "code",
   "execution_count": null,
   "id": "64a03515-fac4-4ab9-9289-e8255f060dfa",
   "metadata": {
    "tags": []
   },
   "outputs": [],
   "source": [
    "student[\"degree\"] = \"SEDS\"\n",
    "print(student)\n",
    "\n",
    "student.pop(\"degree\")\n",
    "print(student)"
   ]
  },
  {
   "cell_type": "markdown",
   "id": "96e3b907",
   "metadata": {},
   "source": [
    "Dictionaries can also hold other data structures..."
   ]
  },
  {
   "cell_type": "code",
   "execution_count": null,
   "id": "96c5f760",
   "metadata": {},
   "outputs": [],
   "source": [
    "student = {\n",
    "    \"name\": \"Alex\",\n",
    "    \"age\": 20,\n",
    "    \"grades\": [1.7, 2.3, 1.0, 2.0]\n",
    "}\n",
    "\n",
    "print(student)"
   ]
  },
  {
   "cell_type": "markdown",
   "id": "1478b672",
   "metadata": {},
   "source": [
    "...and be nested:"
   ]
  },
  {
   "cell_type": "code",
   "execution_count": null,
   "id": "75dbf730",
   "metadata": {},
   "outputs": [],
   "source": [
    "students = {\n",
    "    \"Alex\": {\n",
    "        \"age\": 20,\n",
    "        \"grades\": [1.7, 2.3, 1.0, 2.0]\n",
    "    },\n",
    "    \"Katharina\": {\n",
    "        \"age\": 22,\n",
    "        \"grades\": [2.7, 3.0, 2.0, 2.3]\n",
    "    }\n",
    "}\n",
    "\n",
    "print(students[\"Alex\"][\"age\"])"
   ]
  },
  {
   "cell_type": "markdown",
   "id": "9d45e14f-b406-4a83-ad95-dbc5478ae39b",
   "metadata": {},
   "source": [
    "#### Exercise\n",
    "* create a dictionary where you store information about you, for example name, age, occupation, friendslist, ...\n",
    "* print the keys and the values of your dictionary\n",
    "* add new information to that dictionary and delete it again"
   ]
  },
  {
   "cell_type": "code",
   "execution_count": null,
   "id": "a69cb700-e96e-49c6-9dd2-99032c98cd92",
   "metadata": {},
   "outputs": [],
   "source": [
    "# create your dictionary here"
   ]
  },
  {
   "cell_type": "markdown",
   "id": "2bc6bab7",
   "metadata": {},
   "source": [
    "### Lesser used data structures"
   ]
  },
  {
   "cell_type": "markdown",
   "id": "276be2bc",
   "metadata": {},
   "source": [
    "**Tuples:** they are basically *immutable* lists, meaning they cannot be changed after creation (no append etc.). Indexing works the same as with lists. Instead of `[]` they are created with `()`."
   ]
  },
  {
   "cell_type": "code",
   "execution_count": null,
   "id": "502fc004",
   "metadata": {},
   "outputs": [],
   "source": [
    "greetings = (\"hello\", \"hey\", \"hi\")\n",
    "print(greetings)"
   ]
  },
  {
   "cell_type": "markdown",
   "id": "fdc962cc",
   "metadata": {},
   "source": [
    "**Sets:** Unordered lists that can only contain each element once. "
   ]
  },
  {
   "cell_type": "code",
   "execution_count": null,
   "id": "957e139f",
   "metadata": {},
   "outputs": [],
   "source": [
    "list1 = ['me', 'you', 'them']\n",
    "list2 = ['you', 'others', 'me']\n",
    "set2 = set(list1 + list2)\n",
    "set2"
   ]
  },
  {
   "cell_type": "markdown",
   "id": "63563620-1616-4a9c-921c-a312356e8cf2",
   "metadata": {},
   "source": [
    "## Control Flow"
   ]
  },
  {
   "cell_type": "markdown",
   "id": "919f5ab3-133d-436b-8e3e-683b4d802d90",
   "metadata": {},
   "source": [
    "### `if`-Statements\n",
    "\n",
    "An `if`-statement lets the program make a decision based on a condition. It checks if something is true (like \"is the number bigger than 10?\") and then runs a specific section of code if that condition is met. For example:"
   ]
  },
  {
   "cell_type": "code",
   "execution_count": null,
   "id": "d5c14a9a-04e6-403e-9b7e-107cd65569c1",
   "metadata": {
    "tags": []
   },
   "outputs": [],
   "source": [
    "age = 18\n",
    "if age >= 18:\n",
    "    print(\"You can vote!\")"
   ]
  },
  {
   "cell_type": "markdown",
   "id": "fef18969",
   "metadata": {},
   "source": [
    "You can specify what to do otherwise if needed using `else`:"
   ]
  },
  {
   "cell_type": "code",
   "execution_count": null,
   "id": "3d0af229",
   "metadata": {},
   "outputs": [],
   "source": [
    "if age >= 18:\n",
    "    print(\"You can vote!\")\n",
    "else:\n",
    "    print(\"You cannot vote... :(\")"
   ]
  },
  {
   "cell_type": "markdown",
   "id": "3ddc4878",
   "metadata": {},
   "source": [
    "#### Exercise\n",
    "\n",
    "Check out what happens if you change the value of age to something below 18."
   ]
  },
  {
   "cell_type": "markdown",
   "id": "17b8f754",
   "metadata": {},
   "source": [
    "A condition for an if statement always has to be a logical test that evaluates to either `True` or `False`. Here are some of the most useful operators:"
   ]
  },
  {
   "cell_type": "markdown",
   "id": "62dd5f32-02d3-4e56-9c4f-3cb998a5a9d0",
   "metadata": {},
   "source": [
    "| Operator | Description |\n",
    "|----|---|\n",
    "| `==` | Equality |\n",
    "| `!=`  | Inequality |\n",
    "| `<` |Less than |\n",
    "| `>` | Greater than |\n",
    "| `<=`  | Less than or equal to |\n",
    "| `>=`  | Greater than or equal to |\n",
    "| `and` | Returns `True` if both statements are true |\n",
    "| `or` | Returns `True` if one of the statements is true |\n",
    "| `not` | Reverse the result |"
   ]
  },
  {
   "cell_type": "code",
   "execution_count": null,
   "id": "6ffca350-25b8-4f64-a85c-59b5c4be46d6",
   "metadata": {
    "tags": []
   },
   "outputs": [],
   "source": [
    "print(3 < 7)\n",
    "print(3 == 7)\n",
    "print(3 != 7)"
   ]
  },
  {
   "cell_type": "markdown",
   "id": "e623788e-535e-4ea1-8ecb-0551425578a7",
   "metadata": {},
   "source": [
    "You can also check if an item appears in a list using `in`:\n",
    "\n",
    "| Operator | Description |\n",
    "|--------|-------|\n",
    "| `in` | Returns True if the item is in the list |\n",
    "| `not in`  | Returns True if the item is in the list |"
   ]
  },
  {
   "cell_type": "code",
   "execution_count": null,
   "id": "79b8a9d9-0932-43b5-a36c-6ed905bc7c5e",
   "metadata": {
    "tags": []
   },
   "outputs": [],
   "source": [
    "food_of_the_day = [\"oats\", \"banana\", \"coffee\", \"lasagna\", \"salad\", \"bread\", \"cheese\", \"tomato\"]\n",
    "favorite_food = \"lasagna\"\n",
    "\n",
    "if favorite_food in food_of_the_day:\n",
    "    print(\"Today is a good day!\")"
   ]
  },
  {
   "cell_type": "markdown",
   "id": "1926a49d-5b16-496a-ba4a-ea33915697f3",
   "metadata": {},
   "source": [
    "#### Exercise\n",
    "\n",
    "* try out what happens if you change your favorite food to something that is not in the list!"
   ]
  },
  {
   "cell_type": "markdown",
   "id": "50328d5d-4773-4caf-831d-d51f4263e495",
   "metadata": {
    "tags": []
   },
   "source": [
    "#### `if`-`elif`-`else` blocks"
   ]
  },
  {
   "cell_type": "markdown",
   "id": "f94d170f",
   "metadata": {},
   "source": [
    "These blocks allow us to check multiple conditions in sequence. First, the if condition is checked; if it’s false, then the program moves to the next condition with elif (short for \"else if\"), and finally to else if none of the conditions above are true."
   ]
  },
  {
   "cell_type": "code",
   "execution_count": null,
   "id": "92f01a38",
   "metadata": {},
   "outputs": [],
   "source": [
    "age = 16\n",
    "\n",
    "if age >= 18:\n",
    "    print(\"You can vote!\")\n",
    "elif age >= 16:\n",
    "    print(\"You can drink beer!\")\n",
    "else:\n",
    "    print(\"No beer or voting for you!\")"
   ]
  },
  {
   "cell_type": "markdown",
   "id": "ae2fcdae-063a-4cb3-a4bd-5f5ca94adb5d",
   "metadata": {},
   "source": [
    "* Important: **once a test passes the rest of the conditions are ignored.**"
   ]
  },
  {
   "cell_type": "markdown",
   "id": "161e5e1d",
   "metadata": {},
   "source": [
    "#### Exercise\n",
    "\n",
    "Write a program that takes a student's score (out of 100) and prints whether they passed (= got more than half of the points) or not."
   ]
  },
  {
   "cell_type": "code",
   "execution_count": 41,
   "id": "9eec7e60",
   "metadata": {},
   "outputs": [],
   "source": [
    "# your code here"
   ]
  },
  {
   "cell_type": "markdown",
   "id": "60bd5b7d-c6f3-4cee-bc1a-745d8d43b134",
   "metadata": {},
   "source": [
    "### For-Loops\n",
    "\n",
    "A for-loop is a way to repeat a set of instructions multiple times. For example, if we want to print each item in a list, a for-loop lets us go through the list one item at a time and print each one."
   ]
  },
  {
   "cell_type": "code",
   "execution_count": null,
   "id": "40c62590-4aab-48be-9dab-5b5b0950ef45",
   "metadata": {
    "tags": []
   },
   "outputs": [],
   "source": [
    "fruits = [\"apple\", \"banana\", \"strawberry\", \"pineapple\"]\n",
    "\n",
    "for fruit in fruits:\n",
    "    print(fruit)"
   ]
  },
  {
   "cell_type": "markdown",
   "id": "50cd32bc",
   "metadata": {},
   "source": [
    "You can of course also combine loops with what we have learnt about control flow:"
   ]
  },
  {
   "cell_type": "code",
   "execution_count": null,
   "id": "ffabe90f",
   "metadata": {},
   "outputs": [],
   "source": [
    "for fruit in fruits:\n",
    "    if fruit == \"banana\":\n",
    "        print(\"Ew I don't like bananas...\")\n",
    "    else:\n",
    "        print(fruit)"
   ]
  },
  {
   "cell_type": "markdown",
   "id": "702ef5a1-3e5b-492d-83cd-531cfacc22b3",
   "metadata": {
    "tags": []
   },
   "source": [
    "Be careful with indentation: Python uses indentation to decide what happens *inside* and *outside* of the loop! You can also manipulate data structures from inside a loop:"
   ]
  },
  {
   "cell_type": "code",
   "execution_count": null,
   "id": "9946c2f3",
   "metadata": {},
   "outputs": [],
   "source": [
    "nums = [1, 2, 5, 7, 12]\n",
    "\n",
    "squared_nums = []\n",
    "\n",
    "for num in nums:\n",
    "    squared_nums.append(num ** 2)\n",
    "\n",
    "print(squared_nums)"
   ]
  },
  {
   "cell_type": "markdown",
   "id": "672a4318-a7fe-429c-a1cb-73962e4e61aa",
   "metadata": {
    "tags": []
   },
   "source": [
    "#### Iterating over dictionaries\n",
    "\n",
    "There are different ways to loop over a dictionary:"
   ]
  },
  {
   "cell_type": "code",
   "execution_count": 44,
   "id": "16457e8a",
   "metadata": {},
   "outputs": [],
   "source": [
    "student = {\"name\": \"Alex\", \"age\": 20, \"grade\": \"A\"}"
   ]
  },
  {
   "cell_type": "markdown",
   "id": "99b5cead",
   "metadata": {},
   "source": [
    "Iterating over keys:"
   ]
  },
  {
   "cell_type": "code",
   "execution_count": null,
   "id": "a2e37d55",
   "metadata": {},
   "outputs": [],
   "source": [
    "for key in student.keys():\n",
    "    print(key)"
   ]
  },
  {
   "cell_type": "markdown",
   "id": "ace8c108",
   "metadata": {},
   "source": [
    "Iterating over values:"
   ]
  },
  {
   "cell_type": "code",
   "execution_count": null,
   "id": "e26d50f6",
   "metadata": {},
   "outputs": [],
   "source": [
    "for value in student.values():\n",
    "    print(value)"
   ]
  },
  {
   "cell_type": "markdown",
   "id": "46189df3",
   "metadata": {},
   "source": [
    "Iterating over key-value pairs (\"items\"):"
   ]
  },
  {
   "cell_type": "code",
   "execution_count": null,
   "id": "d477adb5",
   "metadata": {},
   "outputs": [],
   "source": [
    "for key, value in student.items():\n",
    "    print(f\"{key} = {value}\")"
   ]
  },
  {
   "cell_type": "markdown",
   "id": "a7bf8c50-ddf7-4612-aac6-3f9e3d7f0f70",
   "metadata": {},
   "source": [
    "#### Exercise: Combining for-loops and if-statements\n",
    "\n",
    "Given the below list of students, write a `for`-loop that checks who of them has passed (achieved 50 or more points):"
   ]
  },
  {
   "cell_type": "code",
   "execution_count": 49,
   "id": "a39c0d8a-cfee-4e89-8af8-f7e4bc9bb565",
   "metadata": {
    "tags": []
   },
   "outputs": [],
   "source": [
    "students = {\n",
    "    \"Alex\": {\"grade\": 75},\n",
    "    \"Katharina\": {\"grade\": 40},\n",
    "    \"Klaus\": {\"grade\": 25},\n",
    "    \"Peter\": {\"grade\": 97}\n",
    "}"
   ]
  },
  {
   "cell_type": "markdown",
   "id": "ebb3668a",
   "metadata": {},
   "source": [
    "*Hint:*"
   ]
  },
  {
   "cell_type": "code",
   "execution_count": null,
   "id": "8bbf26f9",
   "metadata": {},
   "outputs": [],
   "source": [
    "for student in students.keys():\n",
    "    grade = students[student][\"grade\"]\n",
    "    print(grade)"
   ]
  },
  {
   "cell_type": "markdown",
   "id": "ae2bdf8d-e3ec-40af-89bf-815fed02c35d",
   "metadata": {},
   "source": [
    "### While-Loops\n",
    "\n",
    "A `while`-loop repeats a set of instructions as long as a certain condition is true. It keeps looping until the condition becomes false:"
   ]
  },
  {
   "cell_type": "code",
   "execution_count": null,
   "id": "ba250e6e-7dcc-4c9f-9ee0-adeef0157412",
   "metadata": {
    "tags": []
   },
   "outputs": [],
   "source": [
    "i = 0\n",
    "while i < 5:\n",
    "    print(i)\n",
    "    i += 1"
   ]
  },
  {
   "cell_type": "markdown",
   "id": "ff060d5b-bfc6-4c66-ae0f-2c1c5a014841",
   "metadata": {},
   "source": [
    "If you want the loop to exit once a certain condition is met, use `break`:"
   ]
  },
  {
   "cell_type": "code",
   "execution_count": null,
   "id": "bf926769-f3b3-44be-b38d-fd164136711b",
   "metadata": {
    "tags": []
   },
   "outputs": [],
   "source": [
    "i = 1\n",
    "\n",
    "while i < 100:\n",
    "    \n",
    "    i = i * 3\n",
    "    print(i)\n",
    "    \n",
    "    if i == 27:\n",
    "        print(\"Reached 27, exiting...\")\n",
    "        break # now that we know, we can stop the loop"
   ]
  },
  {
   "cell_type": "markdown",
   "id": "f3b07015-6ca3-46dd-8f0b-8be35ee9e5cf",
   "metadata": {},
   "source": [
    "## Functions"
   ]
  },
  {
   "cell_type": "markdown",
   "id": "847215ae",
   "metadata": {},
   "source": [
    "A function is a reusable block of code that performs a specific task. You define a function once and can call it multiple times throughout your program, which helps keep your code organized and avoids repetition. To define a function, use the `def`-keyword and give it a name."
   ]
  },
  {
   "cell_type": "code",
   "execution_count": null,
   "id": "685034b5",
   "metadata": {},
   "outputs": [],
   "source": [
    "def greet(name):\n",
    "    print(f\"Hello, {name}.\")\n",
    "\n",
    "greet(\"Peter\")"
   ]
  },
  {
   "cell_type": "markdown",
   "id": "393f2924",
   "metadata": {},
   "source": [
    "A function has a *name*, in this case `greet`, it has *arguments* or *parameters*, which are values passed to the function, in this case `name`, and a *body* which specifies what the function does with the arguments.\n",
    "\n",
    "You can also specify defaults for arguments, which the function will use if no arguments are explicitly specified:"
   ]
  },
  {
   "cell_type": "code",
   "execution_count": null,
   "id": "86e43b4f",
   "metadata": {},
   "outputs": [],
   "source": [
    "def greet(name=\"You\"):\n",
    "    print(f\"Hello, {name}.\")\n",
    "\n",
    "greet()\n",
    "greet(\"Tim\") # if an argument is given it simply overrides the default"
   ]
  },
  {
   "cell_type": "markdown",
   "id": "3c8fa483",
   "metadata": {},
   "source": [
    "Arguments can be matched positionally, or by name:"
   ]
  },
  {
   "cell_type": "code",
   "execution_count": null,
   "id": "b5729e60",
   "metadata": {},
   "outputs": [],
   "source": [
    "def full_name(first_name, last_name):\n",
    "    print(f\"Full name: {first_name}  {last_name}\")\n",
    "\n",
    "# Both of these have the same result:\n",
    "full_name(\"Tim\", \"Müller\")\n",
    "full_name(first_name=\"Tim\", last_name=\"Müller\")"
   ]
  },
  {
   "cell_type": "markdown",
   "id": "17be70c3",
   "metadata": {},
   "source": [
    "To not print but return a value, use the `return`-keyword:"
   ]
  },
  {
   "cell_type": "code",
   "execution_count": null,
   "id": "0396d1ed",
   "metadata": {},
   "outputs": [],
   "source": [
    "def add(a, b):\n",
    "    result = a + b\n",
    "    return result\n",
    "\n",
    "result = add(5, 3) # by returning a value, we can also e.g. assign it to a variable\n",
    "print(result)"
   ]
  },
  {
   "cell_type": "markdown",
   "id": "cbc951d0",
   "metadata": {},
   "source": [
    "#### Exercise\n",
    "\n",
    "Write a function that converts a temperature from the Fahrenheit to the Celsius scale (*Hint* $^\\circ C = (^\\circ F - 32) \\cdot \\frac{5}{9}$)"
   ]
  },
  {
   "cell_type": "code",
   "execution_count": null,
   "id": "9c91ac00",
   "metadata": {},
   "outputs": [],
   "source": [
    "# Your code here..."
   ]
  },
  {
   "cell_type": "markdown",
   "id": "2a1614bf",
   "metadata": {},
   "source": []
  },
  {
   "cell_type": "markdown",
   "id": "47a2751a-cb62-49db-ad46-0730ae4033c9",
   "metadata": {
    "tags": []
   },
   "source": [
    "### Functionals (optional)"
   ]
  },
  {
   "cell_type": "markdown",
   "id": "cf756bd7",
   "metadata": {},
   "source": [
    "Functions you write yourself work just like any other function:"
   ]
  },
  {
   "cell_type": "code",
   "execution_count": null,
   "id": "bd2f1559",
   "metadata": {},
   "outputs": [],
   "source": [
    "def square(x):\n",
    "    return x ** 2\n",
    "\n",
    "square(5)"
   ]
  },
  {
   "cell_type": "markdown",
   "id": "64e017af",
   "metadata": {},
   "source": [
    "Also when iterating:"
   ]
  },
  {
   "cell_type": "code",
   "execution_count": null,
   "id": "333e70cb",
   "metadata": {},
   "outputs": [],
   "source": [
    "nums = [1, 2, 5, 7, 12]\n",
    "\n",
    "squared_nums = []\n",
    "\n",
    "for num in nums:\n",
    "    squared_nums.append(num ** 2)\n",
    "\n",
    "print(squared_nums)"
   ]
  },
  {
   "cell_type": "markdown",
   "id": "5493bc02",
   "metadata": {},
   "source": [
    "You can write this in a more concise way using `map` (read: map this function over the given list):"
   ]
  },
  {
   "cell_type": "code",
   "execution_count": null,
   "id": "164a0182",
   "metadata": {},
   "outputs": [],
   "source": [
    "map(square, nums)"
   ]
  },
  {
   "cell_type": "markdown",
   "id": "eda39556",
   "metadata": {},
   "source": [
    "To put the result into a list, use `list()`:"
   ]
  },
  {
   "cell_type": "code",
   "execution_count": null,
   "id": "9ab8066f",
   "metadata": {},
   "outputs": [],
   "source": [
    "list(map(square, nums))"
   ]
  },
  {
   "cell_type": "markdown",
   "id": "7a0475b3",
   "metadata": {},
   "source": [
    "You can also skip the function definition using `def` by using an \"anonymous function\" (or \"lambda function\"):"
   ]
  },
  {
   "cell_type": "code",
   "execution_count": null,
   "id": "8e32e6bc",
   "metadata": {},
   "outputs": [],
   "source": [
    "list(map(lambda x: x ** 2, nums))"
   ]
  },
  {
   "cell_type": "markdown",
   "id": "855dea17",
   "metadata": {},
   "source": [
    "This can be handy for functions that fit on one line, and you only use once within your code; in that case there is no need to give them a name."
   ]
  },
  {
   "cell_type": "markdown",
   "id": "a46168da",
   "metadata": {},
   "source": [
    "Another such functional like map is `filter`, which allows you to filter a list using a check (here in the form of a function that evaluates to `True` or `False`):"
   ]
  },
  {
   "cell_type": "code",
   "execution_count": null,
   "id": "0aadedbd",
   "metadata": {},
   "outputs": [],
   "source": [
    "def is_even(x):\n",
    "    return x % 2 == 0 # = is the division remainder of x and 2 zero, i.e. is x divisible by two?\n",
    "\n",
    "list(filter(is_even, nums))"
   ]
  },
  {
   "cell_type": "markdown",
   "id": "ecaf64b4",
   "metadata": {},
   "source": [
    "Of course this also works with the lambda notation:"
   ]
  },
  {
   "cell_type": "code",
   "execution_count": null,
   "id": "04244adb",
   "metadata": {},
   "outputs": [],
   "source": [
    "list(filter(lambda x: x % 2 == 0, nums))"
   ]
  },
  {
   "cell_type": "markdown",
   "id": "e89e5df5-5486-4377-a1c8-bd7f91c6d881",
   "metadata": {},
   "source": [
    "### Exercise (more advanced)\n",
    "\n",
    "`filter` out words with more than five letters from the below list."
   ]
  },
  {
   "cell_type": "code",
   "execution_count": 90,
   "id": "5ffb03b6-398e-4b24-9074-1790f3d1815e",
   "metadata": {
    "tags": []
   },
   "outputs": [],
   "source": [
    "# your solution\n",
    "\n",
    "words = [\"hello\", \"amazing\", \"advanced\", \"goal\", \"lambda\", \"test\"]"
   ]
  }
 ],
 "metadata": {
  "kernelspec": {
   "display_name": "Python 3 (ipykernel)",
   "language": "python",
   "name": "python3"
  },
  "language_info": {
   "codemirror_mode": {
    "name": "ipython",
    "version": 3
   },
   "file_extension": ".py",
   "mimetype": "text/x-python",
   "name": "python",
   "nbconvert_exporter": "python",
   "pygments_lexer": "ipython3",
   "version": "3.11.5"
  }
 },
 "nbformat": 4,
 "nbformat_minor": 5
}
