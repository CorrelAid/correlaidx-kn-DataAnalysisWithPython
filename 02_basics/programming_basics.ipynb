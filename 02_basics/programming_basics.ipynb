{
 "cells": [
  {
   "cell_type": "markdown",
   "id": "1b8b57ff-3a91-487f-a137-e84727257074",
   "metadata": {},
   "source": [
    "# Part 1 - Programming Basics"
   ]
  },
  {
   "cell_type": "markdown",
   "id": "20d3288f-efdb-49f6-be68-8fb8f74ae201",
   "metadata": {},
   "source": [
    "## 1. Variables\n",
    "\n",
    "- variables hold values\n",
    "- values can be of different types as seen later\n",
    "- they act like a storage container for data such that this data can be accessed multiple times and also be manipulated"
   ]
  },
  {
   "cell_type": "code",
   "execution_count": 9,
   "id": "dd489d6d-09cb-4a41-8c30-c45fc39abc99",
   "metadata": {
    "tags": []
   },
   "outputs": [],
   "source": [
    "x = 5           \n",
    "name = \"Max Mustermann\"   \n",
    "pi = 3.14159"
   ]
  },
  {
   "cell_type": "markdown",
   "id": "c8258bdc-d7b0-4301-b89a-a83213cbf593",
   "metadata": {},
   "source": [
    "- to see the value of a variable, you can print it out"
   ]
  },
  {
   "cell_type": "code",
   "execution_count": 4,
   "id": "1da021bf-6606-40be-a3fd-3ce7a4db2f73",
   "metadata": {
    "tags": []
   },
   "outputs": [
    {
     "name": "stdout",
     "output_type": "stream",
     "text": [
      "Alice\n"
     ]
    }
   ],
   "source": [
    "print(name)"
   ]
  },
  {
   "cell_type": "code",
   "execution_count": 5,
   "id": "dce2aea5-6d2f-45dc-80ae-f946983d8d54",
   "metadata": {
    "tags": []
   },
   "outputs": [
    {
     "ename": "NameError",
     "evalue": "name 'naame' is not defined",
     "output_type": "error",
     "traceback": [
      "\u001b[1;31m---------------------------------------------------------------------------\u001b[0m",
      "\u001b[1;31mNameError\u001b[0m                                 Traceback (most recent call last)",
      "Cell \u001b[1;32mIn[5], line 1\u001b[0m\n\u001b[1;32m----> 1\u001b[0m \u001b[38;5;28mprint\u001b[39m(\u001b[43mnaame\u001b[49m) \u001b[38;5;66;03m# be careful with spelling!\u001b[39;00m\n",
      "\u001b[1;31mNameError\u001b[0m: name 'naame' is not defined"
     ]
    }
   ],
   "source": [
    "print(naame) # be careful with spelling!"
   ]
  },
  {
   "cell_type": "markdown",
   "id": "ce270ac1-c73f-44fd-a62e-121eaa770398",
   "metadata": {},
   "source": [
    "### Naming rules\n",
    "\n",
    "- Variables can only contain letters, numbers, and underscores. Variable names can start with a letter or an underscore, but can not start with a number. Variable names cannot contain \"-\" (minus), because it is an arithmatic operator in Python.\n",
    "- Spaces are not allowed in variable names, so we use underscores instead of spaces. For example, use student_name instead of \"student name\".\n",
    "- You cannot use [Python keywords](http://docs.python.org/3/reference/lexical_analysis.html#keywords) as variable names.\n",
    "- Variable names should be descriptive, without being too long. For example mc_wheels is better than just \"wheels\", and number_of_wheels_on_a_motorycle.\n",
    "- Be careful about using the lowercase letter l and the uppercase letter O in places where they could be confused with the numbers 1 and 0."
   ]
  },
  {
   "cell_type": "code",
   "execution_count": 1,
   "id": "ca62c3c9-1b6e-4d81-a5b8-bec67d77c417",
   "metadata": {
    "tags": []
   },
   "outputs": [
    {
     "ename": "SyntaxError",
     "evalue": "invalid syntax (4247872392.py, line 1)",
     "output_type": "error",
     "traceback": [
      "\u001b[1;36m  Cell \u001b[1;32mIn[1], line 1\u001b[1;36m\u001b[0m\n\u001b[1;33m    if = \"if\" # error because if is a python keyword\u001b[0m\n\u001b[1;37m       ^\u001b[0m\n\u001b[1;31mSyntaxError\u001b[0m\u001b[1;31m:\u001b[0m invalid syntax\n"
     ]
    }
   ],
   "source": [
    "if = \"if\" # error because if is a python keyword"
   ]
  },
  {
   "cell_type": "markdown",
   "id": "71c3b803-8736-48e2-a3af-156e5298838d",
   "metadata": {},
   "source": [
    "### Reassigning Variables\n",
    "- you can change the value of a variable by reassigning it - simply put: you just give it a new value\n",
    "- the old value is then gone so be careful when overwriting it\n",
    "- you could also store the old value in a new variable to keep the value"
   ]
  },
  {
   "cell_type": "code",
   "execution_count": 7,
   "id": "f97bd8f0-99da-4002-926f-63cb885a21b2",
   "metadata": {
    "tags": []
   },
   "outputs": [
    {
     "name": "stdout",
     "output_type": "stream",
     "text": [
      "before\n",
      "after\n",
      "before\n"
     ]
    }
   ],
   "source": [
    "update = \"before\"\n",
    "print(update)\n",
    "\n",
    "storage = update # storing the old value \n",
    "\n",
    "update = \"after\"\n",
    "\n",
    "print(update)\n",
    "print(storage)"
   ]
  },
  {
   "cell_type": "markdown",
   "id": "376ee3c8-7af2-4ba4-8af7-525e30938910",
   "metadata": {
    "tags": []
   },
   "source": [
    "### Exercise 1\n",
    "- Store your first name in a variable and print it\n",
    "- Change this variable to also include your last name"
   ]
  },
  {
   "cell_type": "code",
   "execution_count": 10,
   "id": "7b78eee0-ab10-46f7-810c-319b93494be7",
   "metadata": {
    "tags": []
   },
   "outputs": [],
   "source": [
    "# here goes your answer"
   ]
  },
  {
   "cell_type": "markdown",
   "id": "cac0e4a2-5436-4a50-a2b7-9c378f5dc7fd",
   "metadata": {},
   "source": [
    "## 2. Basic Data Types\n",
    "\n",
    "| type | description |\n",
    "|----|---|\n",
    "| string | text |\n",
    "| int | integer number |\n",
    "| float  | floating point number |\n",
    "| boolean | True or False |\n",
    "\n",
    "We can check the type of a variable with the built-in function `type()`."
   ]
  },
  {
   "cell_type": "code",
   "execution_count": 1,
   "id": "be7bd735-efa4-4679-a8b2-4a37cef77afd",
   "metadata": {
    "tags": []
   },
   "outputs": [
    {
     "data": {
      "text/plain": [
       "bool"
      ]
     },
     "execution_count": 1,
     "metadata": {},
     "output_type": "execute_result"
    }
   ],
   "source": [
    "bool1 = True\n",
    "\n",
    "type(bool1)"
   ]
  },
  {
   "cell_type": "markdown",
   "id": "397458d9-bbb7-48d7-866a-1f784c6d88dc",
   "metadata": {},
   "source": [
    "### 2.1 Strings\n",
    "- Strings are used to represent text and can include letters, numbers, symbols, and even whitespace\n",
    "- You can either put them in single ('hello') or in double (\"hello\") quotes"
   ]
  },
  {
   "cell_type": "code",
   "execution_count": 1,
   "id": "3cdc4bd2-465c-45dc-8ec0-430f42c1e9f2",
   "metadata": {
    "tags": []
   },
   "outputs": [],
   "source": [
    "first_string = \"I am proud of my first string!\"\n",
    "second_string = 'This also works perfectly well!'"
   ]
  },
  {
   "cell_type": "markdown",
   "id": "86f05066-2771-4cfa-b5f4-e4fe3fc01b44",
   "metadata": {},
   "source": [
    "- if you want to put quotes in your string, you can do it by putting double quotes and then include single quotes within your string"
   ]
  },
  {
   "cell_type": "code",
   "execution_count": 5,
   "id": "b9a3e595-95fd-4e88-8ba3-bab47a89a40d",
   "metadata": {
    "tags": []
   },
   "outputs": [
    {
     "name": "stdout",
     "output_type": "stream",
     "text": [
      "My favorite quote is: 'insert your favorite quote here'!\n"
     ]
    }
   ],
   "source": [
    "quote = \"My favorite quote is: 'insert your favorite quote here'!\"\n",
    "print(quote)"
   ]
  },
  {
   "cell_type": "markdown",
   "id": "bce53c3c-c85c-418d-985b-6c4e0b1e6fdc",
   "metadata": {
    "tags": []
   },
   "source": [
    "#### Changing Case\n",
    "- there are some ways to change your strings after creating them\n",
    "- there are build-in methods to do this "
   ]
  },
  {
   "cell_type": "code",
   "execution_count": 9,
   "id": "1c7cdd86-703e-461d-99ca-53932e1a84e4",
   "metadata": {
    "tags": []
   },
   "outputs": [
    {
     "name": "stdout",
     "output_type": "stream",
     "text": [
      "peter\n",
      "Peter\n"
     ]
    }
   ],
   "source": [
    "# make sure first letter is uppercase\n",
    "name = \"peter\"\n",
    "print(name)\n",
    "name = name.title()\n",
    "print(name)"
   ]
  },
  {
   "cell_type": "code",
   "execution_count": 10,
   "id": "59562a14-1771-4694-a181-f7c54244fcae",
   "metadata": {
    "tags": []
   },
   "outputs": [
    {
     "name": "stdout",
     "output_type": "stream",
     "text": [
      "peter\n"
     ]
    }
   ],
   "source": [
    "# put everything to lowercase again\n",
    "name = name.lower()\n",
    "print(name)"
   ]
  },
  {
   "cell_type": "code",
   "execution_count": 11,
   "id": "259ce204-724c-4cd5-850a-844b6bd45131",
   "metadata": {
    "tags": []
   },
   "outputs": [
    {
     "name": "stdout",
     "output_type": "stream",
     "text": [
      "PETER\n"
     ]
    }
   ],
   "source": [
    "# or everything to uppercase\n",
    "name = name.upper()\n",
    "print(name)"
   ]
  },
  {
   "cell_type": "markdown",
   "id": "c97f5faf-594c-4fc2-8b03-12dea3766755",
   "metadata": {},
   "source": [
    "You will see this syntax quite often, where a variable name is followed by a dot and then the name of an action, followed by a set of parentheses. The parentheses may be empty, or they may contain some values.\n",
    "\n",
    "variable_name.action()\n",
    "\n",
    "In this example, the word \"action\" is the name of a method. A method is something that can be done to a variable. The methods 'lower', 'title', and 'upper' are all functions that have been written into the Python language, which do something to strings. Later on, you will learn to write your own methods."
   ]
  },
  {
   "cell_type": "markdown",
   "id": "502ce4ed-3192-46e2-901f-658ef0dccba9",
   "metadata": {},
   "source": [
    "#### String Concatenation\n",
    "- concatenating strings means adding strings together to form a longer string\n",
    "- it can be done by just putting a + inbetween"
   ]
  },
  {
   "cell_type": "code",
   "execution_count": 12,
   "id": "a7483d5f-0ac6-4824-9090-1939d5bd4445",
   "metadata": {
    "tags": []
   },
   "outputs": [
    {
     "name": "stdout",
     "output_type": "stream",
     "text": [
      "This is how the sentence startsandthis is how it ends.\n"
     ]
    }
   ],
   "source": [
    "start = \"This is how the sentence starts\"\n",
    "end = \"this is how it ends.\"\n",
    "\n",
    "together = start + \"and\" + end\n",
    "print(together)"
   ]
  },
  {
   "cell_type": "markdown",
   "id": "139b20ac-83c2-44ae-a48a-e59982591332",
   "metadata": {},
   "source": [
    "- as you can see you have to be careful with the whitespace, it is not added automatically"
   ]
  },
  {
   "cell_type": "code",
   "execution_count": 13,
   "id": "7f5d0792-8e50-43f8-8f81-9d0216c1b40d",
   "metadata": {
    "tags": []
   },
   "outputs": [
    {
     "name": "stdout",
     "output_type": "stream",
     "text": [
      "This is how the sentence starts and this is how it ends.\n"
     ]
    }
   ],
   "source": [
    "better_together = start + \" and \" + end\n",
    "print(better_together)"
   ]
  },
  {
   "cell_type": "markdown",
   "id": "ef63be74-2293-452c-8933-5cb57f037abf",
   "metadata": {},
   "source": [
    "#### Accessing Characters\n",
    "- if you are only interested in a part of a string, you can access single or multiple characters by indexing\n",
    "- you just have to state which position of a string you want to access by putting the position into squared brackets"
   ]
  },
  {
   "cell_type": "code",
   "execution_count": 16,
   "id": "d0561722-825c-46df-942b-5a5ad308f38f",
   "metadata": {
    "tags": []
   },
   "outputs": [
    {
     "name": "stdout",
     "output_type": "stream",
     "text": [
      "P\n"
     ]
    }
   ],
   "source": [
    "word = \"Python\"\n",
    "first_letter = word[0]  # first letter with 0\n",
    "last_letter = word[-1]  # last letter with -1 \n",
    "middle_letter = word[2] # third letter with 2\n",
    "\n",
    "print(first_letter)"
   ]
  },
  {
   "cell_type": "markdown",
   "id": "7aeb42a6-ccd6-490c-8d10-e128c078efb9",
   "metadata": {},
   "source": [
    "! always remember: counting in Python starts with 0 !"
   ]
  },
  {
   "cell_type": "code",
   "execution_count": 19,
   "id": "124638a8-e9e9-44f9-b081-14c8853eac8b",
   "metadata": {
    "tags": []
   },
   "outputs": [
    {
     "name": "stdout",
     "output_type": "stream",
     "text": [
      "Hello\n",
      "Peter\n",
      "Hello Peter\n"
     ]
    }
   ],
   "source": [
    "greeting = \"Hello Peter\"\n",
    "\n",
    "hello = greeting[0:5] # the letter at position 5 is not included!\n",
    "name = greeting[-5:]\n",
    "\n",
    "whole_string = greeting[:]\n",
    "\n",
    "print(hello)\n",
    "print(name)\n",
    "print(whole_string)"
   ]
  },
  {
   "cell_type": "markdown",
   "id": "5b9b7959-0cb6-41a7-a631-3fac6ba0f560",
   "metadata": {},
   "source": [
    "##### Important notes:\n",
    "- you can either start counting from the beginning or the end\n",
    "   * if you start from the beginning you start counting with 0\n",
    "   * if you start from the end, you have to put a minus and the last letter is -1\n",
    "- you can also index parts of the string, called slicing, by defining an interval with \":\"\n",
    "   * important: the letter at the position after the ':' is not included, so you have to define your interval one position larger than you want\n",
    "   * if you don't put anything before the ':', it means that you want to start at the beginning of the string\n",
    "   * if you don't put anything after the ':', it means that you want to go until the end of the string\n",
    "   * therefore just putting ':' in the square brackets gives you the whole string\n"
   ]
  },
  {
   "cell_type": "markdown",
   "id": "182d7f71-6f78-4050-a503-d75478880c97",
   "metadata": {},
   "source": [
    "#### More methods\n",
    "- there exists a vast amount of methods to manipulate your string that cannot all be listed here\n",
    "- check for example here: https://www.w3schools.com/python/python_ref_string.asp to see more"
   ]
  },
  {
   "cell_type": "code",
   "execution_count": 20,
   "id": "e5ae93ad-4498-4c4e-8050-46589e0ae942",
   "metadata": {
    "tags": []
   },
   "outputs": [
    {
     "name": "stdout",
     "output_type": "stream",
     "text": [
      "Hello Peter\n",
      "Hello Franz\n"
     ]
    }
   ],
   "source": [
    "# for example replacing words\n",
    "\n",
    "print(greeting)\n",
    "greeting = greeting.replace(\"Peter\", \"Franz\")\n",
    "print(greeting)"
   ]
  },
  {
   "cell_type": "markdown",
   "id": "a41b5eeb-e2c9-47e3-a650-820c907a53c8",
   "metadata": {},
   "source": [
    "- be careful to reassign the varible, otherwise the original string will be kept with some methods"
   ]
  },
  {
   "cell_type": "code",
   "execution_count": 21,
   "id": "cd14172f-f0e1-47a7-9bec-57173995ffa0",
   "metadata": {
    "tags": []
   },
   "outputs": [
    {
     "name": "stdout",
     "output_type": "stream",
     "text": [
      "Hello Franz\n",
      "Hello Franz\n",
      "Hello Herbert\n"
     ]
    }
   ],
   "source": [
    "print(greeting)\n",
    "\n",
    "greeting.replace(\"Franz\", \"Herbert\")\n",
    "print(greeting)\n",
    "\n",
    "greeting = greeting.replace(\"Franz\", \"Herbert\")\n",
    "print(greeting)"
   ]
  },
  {
   "cell_type": "markdown",
   "id": "aa7d01fe-06b9-4608-892a-5fdea04d93ea",
   "metadata": {},
   "source": [
    "- one more important method is to fill in parts of a string with a variable: you can personalize a generic string like this\n",
    "    * this can be done with the method format\n",
    "    * you can leave gaps in your string with curly brackets '{}' and then put the variables that you want to fill the gaps with in the brackets after the format"
   ]
  },
  {
   "cell_type": "code",
   "execution_count": 28,
   "id": "c75385a8-7ede-4903-a25d-9ddb2761459b",
   "metadata": {
    "tags": []
   },
   "outputs": [
    {
     "name": "stdout",
     "output_type": "stream",
     "text": [
      "Hello, I am Peter and I am 60 years old\n",
      "Hello, I am 60 and I am Peter years old\n"
     ]
    }
   ],
   "source": [
    "name = \"Peter\"\n",
    "age = 60\n",
    "\n",
    "introduction = \"Hello, I am {} and I am {} years old\"\n",
    "\n",
    "print(introduction.format(name, age))\n",
    "\n",
    "print(introduction.format(age, name)) # be careful with the order!"
   ]
  },
  {
   "cell_type": "markdown",
   "id": "71647bb6-00b0-48e2-ba9a-f6d6e8f04288",
   "metadata": {},
   "source": [
    "#### Exercise 2\n",
    "- store your first and your last name in two seperate variables\n",
    "- then combine the two variables to form your whole name\n",
    "- print your name in uppercase\n",
    "- write a generic introduction and add in your name afterwards"
   ]
  },
  {
   "cell_type": "code",
   "execution_count": 29,
   "id": "91b0d141-6cb4-4127-b2c2-05c57a20a6aa",
   "metadata": {
    "tags": []
   },
   "outputs": [],
   "source": [
    "# try it out here"
   ]
  },
  {
   "cell_type": "markdown",
   "id": "994a12dd-fbb1-4945-9991-adc6dcf24d43",
   "metadata": {},
   "source": [
    "### 2.2 Numbers\n",
    "\n",
    "Dealing with simple numerical data is fairly straightforward in Python, but there are a few things you should know about.\n",
    "\n",
    "Some Arithmetic Operators:\n",
    "\n",
    "| Symbol | Task Performed |\n",
    "|----|---|\n",
    "| +  | Addition |\n",
    "| -  | Subtraction |\n",
    "| *  | multiplication |\n",
    "| /  | division |\n",
    "| //  | floor division |\n",
    "| %  | modulus |\n",
    "| **  | to the power of |"
   ]
  },
  {
   "cell_type": "markdown",
   "id": "36ba2396-cdaa-438b-9a3a-2b8ee1e3d85d",
   "metadata": {},
   "source": [
    "#### Integers\n",
    "\n",
    "- You can do all of the basic operations with integers, and everything should behave as you expect\n",
    "- Addition and subtraction use the standard plus and minus symbols\n",
    "- Multiplication uses the asterisk\n",
    "- Division uses a forward slash\n",
    "- Exponents use two asterisks\n",
    "- You can either use variables for calculating or just the numbers themselves"
   ]
  },
  {
   "cell_type": "code",
   "execution_count": 30,
   "id": "89659d5a-e1b7-4ac6-bc4a-a3b69e57a252",
   "metadata": {
    "tags": []
   },
   "outputs": [
    {
     "data": {
      "text/plain": [
       "5"
      ]
     },
     "execution_count": 30,
     "metadata": {},
     "output_type": "execute_result"
    }
   ],
   "source": [
    "3+2"
   ]
  },
  {
   "cell_type": "code",
   "execution_count": 31,
   "id": "db6a2018-cf01-4663-91fd-b39a369e09a9",
   "metadata": {
    "tags": []
   },
   "outputs": [
    {
     "data": {
      "text/plain": [
       "2"
      ]
     },
     "execution_count": 31,
     "metadata": {},
     "output_type": "execute_result"
    }
   ],
   "source": [
    "3-1"
   ]
  },
  {
   "cell_type": "code",
   "execution_count": 32,
   "id": "c6a89647-5c43-45d9-b314-25cdfa8d7a36",
   "metadata": {
    "tags": []
   },
   "outputs": [
    {
     "data": {
      "text/plain": [
       "15"
      ]
     },
     "execution_count": 32,
     "metadata": {},
     "output_type": "execute_result"
    }
   ],
   "source": [
    "3*5"
   ]
  },
  {
   "cell_type": "code",
   "execution_count": 33,
   "id": "0e17e75c-9c8c-48ad-abbe-99c4862a41fa",
   "metadata": {
    "tags": []
   },
   "outputs": [
    {
     "data": {
      "text/plain": [
       "3.0"
      ]
     },
     "execution_count": 33,
     "metadata": {},
     "output_type": "execute_result"
    }
   ],
   "source": [
    "9/3"
   ]
  },
  {
   "cell_type": "code",
   "execution_count": 34,
   "id": "a506ae2f-3f4d-4a0b-ae14-431da92786ea",
   "metadata": {
    "tags": []
   },
   "outputs": [
    {
     "data": {
      "text/plain": [
       "16"
      ]
     },
     "execution_count": 34,
     "metadata": {},
     "output_type": "execute_result"
    }
   ],
   "source": [
    "2**4"
   ]
  },
  {
   "cell_type": "code",
   "execution_count": 35,
   "id": "5169fab6-32de-4cb4-b314-3305eaba1a0a",
   "metadata": {
    "tags": []
   },
   "outputs": [
    {
     "name": "stdout",
     "output_type": "stream",
     "text": [
      "3\n"
     ]
    }
   ],
   "source": [
    "x = 2\n",
    "x = x + 1\n",
    "print(x)"
   ]
  },
  {
   "cell_type": "markdown",
   "id": "9142256b-a69c-48d0-a48a-b3c8a7ca5d6d",
   "metadata": {
    "tags": []
   },
   "source": [
    "- you can also use parenthesis to change the order"
   ]
  },
  {
   "cell_type": "code",
   "execution_count": 37,
   "id": "80a4a50d-a7f1-4632-9874-40799e8f3132",
   "metadata": {
    "tags": []
   },
   "outputs": [
    {
     "name": "stdout",
     "output_type": "stream",
     "text": [
      "20\n",
      "11\n"
     ]
    }
   ],
   "source": [
    "x1 = (3+2) * 4\n",
    "x2 = 3 + 2 * 4\n",
    "\n",
    "print(x1)\n",
    "print(x2)"
   ]
  },
  {
   "cell_type": "markdown",
   "id": "d88d1fe3-987d-4485-b6ed-f5a21ebd2478",
   "metadata": {},
   "source": [
    "#### Floating-Point Numbers\n",
    "- any number with a decimal point\n"
   ]
  },
  {
   "cell_type": "code",
   "execution_count": 38,
   "id": "9318d1be-0bdb-4673-a84a-c3fd7a574fbc",
   "metadata": {
    "tags": []
   },
   "outputs": [
    {
     "name": "stdout",
     "output_type": "stream",
     "text": [
      "10.5\n"
     ]
    }
   ],
   "source": [
    "y1 = 4.2\n",
    "y2 = 6.3\n",
    "\n",
    "print(y1+y2)"
   ]
  },
  {
   "cell_type": "markdown",
   "id": "d868ebb0-345f-4f5f-bc70-843bd4e6049e",
   "metadata": {},
   "source": [
    "- if you calculate with both integers and floating-point numbers, python will convert it automatically into a floating-point number"
   ]
  },
  {
   "cell_type": "code",
   "execution_count": 39,
   "id": "d573c2e5-1025-4bf5-a925-c577fbb7b213",
   "metadata": {
    "tags": []
   },
   "outputs": [
    {
     "name": "stdout",
     "output_type": "stream",
     "text": [
      "9.5\n"
     ]
    }
   ],
   "source": [
    "z1 = 8\n",
    "z2 = 1.5\n",
    "\n",
    "print(z1 + z2)"
   ]
  },
  {
   "cell_type": "markdown",
   "id": "95707453-bf26-486b-8c3d-3d2d437d5916",
   "metadata": {
    "tags": []
   },
   "source": [
    "## 3. Comments\n",
    "- you already saw some comments in the notebook\n",
    "- comments are just what the name indicates: a possibility to comment your code\n",
    "- it makes your code more readable and understandable for yourself and others\n",
    "- comments start with a '#' and are ignored by the Python interpreter"
   ]
  },
  {
   "cell_type": "code",
   "execution_count": 41,
   "id": "9c3a868e-219f-45e8-a6d9-c81ddc5e6463",
   "metadata": {
    "tags": []
   },
   "outputs": [
    {
     "name": "stdout",
     "output_type": "stream",
     "text": [
      "This line is not a comment, it is code.\n"
     ]
    }
   ],
   "source": [
    "# This line is a comment.\n",
    "print(\"This line is not a comment, it is code.\")  # This is another comment."
   ]
  },
  {
   "cell_type": "markdown",
   "id": "827d265e-d439-4639-83c4-cb0efef9eba9",
   "metadata": {
    "tags": []
   },
   "source": [
    "#### What makes a good comment?\n",
    "\n",
    "- It is short and to the point, but a complete thought. Most comments should be written in complete sentences.\n",
    "- It explains your thinking, so that when you return to the code later you will understand how you were approaching the problem.\n",
    "- It explains your thinking, so that others who work with your code will understand your overall approach to a problem.\n",
    "- It explains particularly difficult sections of code in detail.\n",
    "\n",
    "#### When should you write comments?\n",
    "\n",
    "- When you have to think about code before writing it.\n",
    "- When you are likely to forget later exactly how you were approaching a problem.\n",
    "- When there is more than one way to solve a problem.\n",
    "- When others are unlikely to anticipate your way of thinking about a problem.\n",
    "\n",
    "Writing good comments is one of the clear signs of a good programmer. If you have any real interest in taking programming seriously, start using comments now. "
   ]
  },
  {
   "cell_type": "markdown",
   "id": "fc0072e6-8c15-4158-944a-ea6bdd58310c",
   "metadata": {},
   "source": [
    "## 4. Basic Data Structures\n",
    "* a data structure is a collection or arrangement of data\n",
    "* used to organize data efficiently\n",
    "* provides ways to access, store and modify data"
   ]
  },
  {
   "cell_type": "markdown",
   "id": "f1b5fd3d-34c6-4ff6-b897-4ebdb29a9f78",
   "metadata": {},
   "source": [
    "### 4.1 Lists\n",
    "* most commonly used data structure\n",
    "* mutable, ordered collection of data \n",
    "* lists can hold items of any data type\n",
    "* can change size dynamically by adding or removing elements"
   ]
  },
  {
   "cell_type": "code",
   "execution_count": 2,
   "id": "9414955e-3054-4642-bb4e-0e484c67c45f",
   "metadata": {
    "tags": []
   },
   "outputs": [],
   "source": [
    "empty_list = []\n",
    "\n",
    "list1 = [1,2,3,4] # all values are integers\n",
    "list2 = [\"a\", 1, True, 5.4] # but it is also possible to mix data types"
   ]
  },
  {
   "cell_type": "markdown",
   "id": "c3255d1d-bd51-4901-8fef-afaa8080c7f3",
   "metadata": {},
   "source": [
    "* as you can see, lists are defined by square brackets and elements are seperated by commas\n",
    "* try to give your lists meaningful names"
   ]
  },
  {
   "cell_type": "markdown",
   "id": "2340ab3b-1908-4500-bcfb-a74eb364ecf4",
   "metadata": {},
   "source": [
    "#### Accessing items of a list\n",
    "* as with strings, we can access single elements of a list by indexing\n",
    "* it works in the same fashion as with strings:\n",
    "    * put the number of the element in squared brackets, starting with 0 for the first element\n",
    "    * you can also start at the end with -1\n",
    "    * you can also access multiple elements by defining the interval with ':' (be careful, the element behind the ':' is not included)"
   ]
  },
  {
   "cell_type": "code",
   "execution_count": 20,
   "id": "6b1f34c7-9d69-4362-8ba2-451e6d866db9",
   "metadata": {
    "tags": []
   },
   "outputs": [
    {
     "name": "stdout",
     "output_type": "stream",
     "text": [
      "First element: Peter\n",
      "Last element: Emily\n",
      "First two elements: ['Peter', 'Carla']\n"
     ]
    }
   ],
   "source": [
    "friends = [\"Peter\", \"Carla\", \"David\", \"Richard\", \"Emily\"]\n",
    "\n",
    "print(\"First element:\", friends[0])\n",
    "\n",
    "print(\"Last element:\", friends[-1])\n",
    "\n",
    "print(\"First two elements:\", friends[0:2]) # the element at position 2 is not included anymore, only 0 and 1"
   ]
  },
  {
   "cell_type": "code",
   "execution_count": 5,
   "id": "4fb62493-bb6e-4a76-be19-22e596e566ee",
   "metadata": {
    "tags": []
   },
   "outputs": [
    {
     "ename": "IndexError",
     "evalue": "list index out of range",
     "output_type": "error",
     "traceback": [
      "\u001b[1;31m---------------------------------------------------------------------------\u001b[0m",
      "\u001b[1;31mIndexError\u001b[0m                                Traceback (most recent call last)",
      "Cell \u001b[1;32mIn[5], line 1\u001b[0m\n\u001b[1;32m----> 1\u001b[0m \u001b[43mfriends\u001b[49m\u001b[43m[\u001b[49m\u001b[38;5;241;43m5\u001b[39;49m\u001b[43m]\u001b[49m\n",
      "\u001b[1;31mIndexError\u001b[0m: list index out of range"
     ]
    }
   ],
   "source": [
    "friends[5] # be careful to index only positions that exist"
   ]
  },
  {
   "cell_type": "markdown",
   "id": "ee25c4e6-29f1-49ec-a742-fc2634b27a35",
   "metadata": {
    "tags": []
   },
   "source": [
    "#### Adding, removing or manipulating elements of a list\n",
    "* lists can be changed after creating them\n",
    "* for example you can add elements, remove them or change their values"
   ]
  },
  {
   "cell_type": "code",
   "execution_count": 21,
   "id": "3ec9be19-8d90-4f23-b464-87f40841b6dd",
   "metadata": {
    "tags": []
   },
   "outputs": [
    {
     "name": "stdout",
     "output_type": "stream",
     "text": [
      "['Peter', 'Carla', 'David', 'Richard', 'Emily', 'Margarete']\n",
      "['Peter', 'Carla', 'David', 'Richard', 'Emily', 'Margarete', 'Paul', 'Isabel']\n",
      "['Peter', 'Victor', 'Carla', 'David', 'Richard', 'Emily', 'Margarete', 'Paul', 'Isabel']\n"
     ]
    }
   ],
   "source": [
    "friends.append(\"Margarete\") # adding one element\n",
    "\n",
    "print(friends)\n",
    "\n",
    "friends.extend([\"Paul\", \"Isabel\"]) # adding multiple elements\n",
    "\n",
    "print(friends)\n",
    "\n",
    "friends.insert(1, \"Victor\") # inserting at position 1\n",
    "\n",
    "print(friends)"
   ]
  },
  {
   "cell_type": "markdown",
   "id": "0709d685-302b-4503-8324-6c180d1b3875",
   "metadata": {},
   "source": [
    "* with append, elements are added to the end of the list\n",
    "* you can also add multiple elements by extending the list with a list\n",
    "* when you want to insert an element in a certain position, you have to use insert"
   ]
  },
  {
   "cell_type": "code",
   "execution_count": 22,
   "id": "eb3285c4-fdd3-44c6-8786-aaa01ccc9932",
   "metadata": {
    "tags": []
   },
   "outputs": [
    {
     "name": "stdout",
     "output_type": "stream",
     "text": [
      "['Peter', 'Victor', 'Carl', 'David', 'Richard', 'Emily', 'Margarete', 'Paul', 'Isabel']\n"
     ]
    }
   ],
   "source": [
    "friends[2] = \"Carl\" # correcting a typo\n",
    "\n",
    "print(friends)"
   ]
  },
  {
   "cell_type": "markdown",
   "id": "b211122d-777a-49bb-8eed-b2076286c90f",
   "metadata": {},
   "source": [
    "* you can also change the value of certain elements by indexing them and setting their value to a new one"
   ]
  },
  {
   "cell_type": "code",
   "execution_count": 23,
   "id": "87d8ebd4-2256-4de2-8824-e1a1000c4d2a",
   "metadata": {
    "tags": []
   },
   "outputs": [
    {
     "name": "stdout",
     "output_type": "stream",
     "text": [
      "9\n",
      "['Peter', 'Victor', 'Carl', 'David', 'Richard', 'Emily', 'Margarete', 'Paul']\n",
      "8\n"
     ]
    }
   ],
   "source": [
    "print(len(friends))\n",
    "\n",
    "friends.pop() # deleting the last element\n",
    "\n",
    "print(friends)\n",
    "print(len(friends))"
   ]
  },
  {
   "cell_type": "markdown",
   "id": "cf45b45a-5088-44a1-bbe6-9495e1790a5e",
   "metadata": {},
   "source": [
    "* with the len() method, you can check the length of the list\n",
    "* pop() deletes the last element of your list, therefore the length here reduces by 1"
   ]
  },
  {
   "cell_type": "code",
   "execution_count": 24,
   "id": "04e1e5ae-351b-402f-ae54-c884dadcb9d8",
   "metadata": {
    "tags": []
   },
   "outputs": [
    {
     "name": "stdout",
     "output_type": "stream",
     "text": [
      "['Victor', 'Carl', 'David', 'Richard', 'Emily', 'Margarete', 'Paul']\n",
      "['Victor', 'Carl', 'David', 'Emily', 'Margarete', 'Paul']\n"
     ]
    }
   ],
   "source": [
    "friends.pop(0) # deleting the first element\n",
    "\n",
    "print(friends)\n",
    "\n",
    "friends.remove(\"Richard\") # removing \"Richard\"\n",
    "\n",
    "print(friends)\n"
   ]
  },
  {
   "cell_type": "markdown",
   "id": "0277a6d9-3742-45a3-a193-571a0d8814f0",
   "metadata": {},
   "source": [
    "* if you want to delete a certain element, you can either add the position to pop()\n",
    "* or you can specify the element with remove\n",
    "     * remove deletes the first occurence of the element"
   ]
  },
  {
   "cell_type": "markdown",
   "id": "44126521-daf3-465d-9fa5-17666096c6e9",
   "metadata": {},
   "source": [
    "#### Sorting a list\n",
    "* sometimes you want your list to be sorted, either alphabetically or by their numerical value"
   ]
  },
  {
   "cell_type": "code",
   "execution_count": 26,
   "id": "92b496d5-6de7-479f-ac1d-6e25638bf631",
   "metadata": {
    "tags": []
   },
   "outputs": [
    {
     "name": "stdout",
     "output_type": "stream",
     "text": [
      "[1, 5, 103, 7, 66]\n",
      "[1, 5, 7, 66, 103]\n",
      "[103, 66, 7, 5, 1]\n"
     ]
    }
   ],
   "source": [
    "numbers = [1,5,103,7,66]\n",
    "\n",
    "print(numbers)\n",
    "\n",
    "numbers.sort()\n",
    "print(numbers)\n",
    "\n",
    "numbers.sort(reverse = True)\n",
    "print(numbers)"
   ]
  },
  {
   "cell_type": "code",
   "execution_count": 28,
   "id": "7ed1172d-e490-4633-8753-2aaeb6b85953",
   "metadata": {
    "tags": []
   },
   "outputs": [
    {
     "name": "stdout",
     "output_type": "stream",
     "text": [
      "[2, 4, 16, 67, 99]\n",
      "[4, 2, 99, 67, 16]\n"
     ]
    }
   ],
   "source": [
    "numbers2 = [4, 2, 99, 67, 16]\n",
    "\n",
    "print(sorted(numbers2)) # printing it in a sorted way\n",
    "\n",
    "print(numbers2) # but original list is not changed\n",
    "\n",
    "numbers2_sorted = sorted(numbers2) # we can define a new list without changing the old one\n",
    "print(numbers2_sorted)"
   ]
  },
  {
   "cell_type": "markdown",
   "id": "0979cb3c-d13d-4c41-a846-4b31e80869b0",
   "metadata": {},
   "source": [
    "* *sorted()* vs. *sort()*:\n",
    "Whenever you consider sorting a list, keep in mind that you can not recover the original order. If you want to display a list in sorted order, but preserve the original order, you can use the *sorted()* function. The *sorted()* function also accepts the optional *reverse=True* argument."
   ]
  },
  {
   "cell_type": "markdown",
   "id": "0ae04ba9-459e-4df5-8186-b981860a2606",
   "metadata": {},
   "source": [
    "#### Exercise\n",
    "* create an empty list that should store the courses that you already passed\n",
    "* add a few courses, either one by one or all together\n",
    "* remove the courses that were not from the last semester\n",
    "* sort the courses alphabetically"
   ]
  },
  {
   "cell_type": "code",
   "execution_count": 43,
   "id": "75551d3c-1ca3-4647-bfdb-2369bc707157",
   "metadata": {
    "tags": []
   },
   "outputs": [],
   "source": [
    "# your solution "
   ]
  },
  {
   "cell_type": "markdown",
   "id": "ae33ace0-0e41-469c-bec9-cb97a785dfc8",
   "metadata": {},
   "source": [
    "### 4.3 Tuples\n",
    "* Tuples are basically lists that cannot be changed after creating them: they are immutable\n",
    "* they can be defined almost exactly like lists but you have to use parenthesis instead of squared brackets"
   ]
  },
  {
   "cell_type": "code",
   "execution_count": 29,
   "id": "7495992f-a490-43d9-9465-994229460fbf",
   "metadata": {
    "tags": []
   },
   "outputs": [
    {
     "name": "stdout",
     "output_type": "stream",
     "text": [
      "('hello', 'hey', 'hi')\n"
     ]
    }
   ],
   "source": [
    "greetings = (\"hello\", \"hey\", \"hi\")\n",
    "print(greetings)"
   ]
  },
  {
   "cell_type": "code",
   "execution_count": 30,
   "id": "a31daa86-96df-4fbf-91e2-b72e66a98c91",
   "metadata": {
    "tags": []
   },
   "outputs": [
    {
     "ename": "AttributeError",
     "evalue": "'tuple' object has no attribute 'append'",
     "output_type": "error",
     "traceback": [
      "\u001b[1;31m---------------------------------------------------------------------------\u001b[0m",
      "\u001b[1;31mAttributeError\u001b[0m                            Traceback (most recent call last)",
      "Cell \u001b[1;32mIn[30], line 1\u001b[0m\n\u001b[1;32m----> 1\u001b[0m \u001b[43mgreetings\u001b[49m\u001b[38;5;241;43m.\u001b[39;49m\u001b[43mappend\u001b[49m(\u001b[38;5;124m\"\u001b[39m\u001b[38;5;124mGood morning\u001b[39m\u001b[38;5;124m\"\u001b[39m)\n",
      "\u001b[1;31mAttributeError\u001b[0m: 'tuple' object has no attribute 'append'"
     ]
    }
   ],
   "source": [
    "greetings.append(\"Good morning\")"
   ]
  },
  {
   "cell_type": "markdown",
   "id": "271012a7-6e6e-4741-8e98-b207331f979b",
   "metadata": {},
   "source": [
    "* as you can see, trying to add things just gives you an error message"
   ]
  },
  {
   "cell_type": "code",
   "execution_count": 33,
   "id": "d3b95187-4aae-469e-9e52-539e76e7a165",
   "metadata": {
    "tags": []
   },
   "outputs": [
    {
     "name": "stdout",
     "output_type": "stream",
     "text": [
      "hello\n",
      "hi\n",
      "('hello', 'hey')\n"
     ]
    }
   ],
   "source": [
    "print(greetings[0])\n",
    "print(greetings[-1])\n",
    "print(greetings[-3:-1])"
   ]
  },
  {
   "cell_type": "markdown",
   "id": "622c50c5-9960-4f9a-a1a5-cdb63220fa23",
   "metadata": {},
   "source": [
    "* indexing works just the same as with lists"
   ]
  },
  {
   "cell_type": "markdown",
   "id": "037674d0-ab2a-4403-a346-852da2355754",
   "metadata": {},
   "source": [
    "### 4.3 Sets\n",
    "* another data strucure that is rarely used\n",
    "* Sets are similar to lists, but are not ordered and cannot contain the same element multiple times."
   ]
  },
  {
   "cell_type": "code",
   "execution_count": 41,
   "id": "2e4f9725-8aaf-4d81-b519-e73761902a35",
   "metadata": {
    "tags": []
   },
   "outputs": [
    {
     "name": "stdout",
     "output_type": "stream",
     "text": [
      "{1, 2, 3, 4}\n"
     ]
    }
   ],
   "source": [
    "set1 = set([1,2,3,4,3,2,1])\n",
    "print(set1)"
   ]
  },
  {
   "cell_type": "code",
   "execution_count": 35,
   "id": "e080f576-844e-4c6d-aa0a-1a43767fb703",
   "metadata": {
    "tags": []
   },
   "outputs": [
    {
     "data": {
      "text/plain": [
       "{'me', 'others', 'them', 'you'}"
      ]
     },
     "execution_count": 35,
     "metadata": {},
     "output_type": "execute_result"
    }
   ],
   "source": [
    "list1 = ['me', 'you', 'them']\n",
    "list2 = ['you', 'others', 'me']\n",
    "set2 = set(list1+list2)\n",
    "set2"
   ]
  },
  {
   "cell_type": "markdown",
   "id": "c5a2bdf2-bb80-44c3-b9de-205c7c512016",
   "metadata": {},
   "source": [
    "* you can do similar things as with lists: adding and removing elements, checking if an element is in the set"
   ]
  },
  {
   "cell_type": "code",
   "execution_count": 42,
   "id": "587352cf-18ac-46a6-88b8-1c204789b185",
   "metadata": {
    "tags": []
   },
   "outputs": [
    {
     "name": "stdout",
     "output_type": "stream",
     "text": [
      "{1, 2, 3, 4}\n",
      "{1, 2, 3, 4, 5}\n",
      "{2, 3, 4, 5}\n",
      "False\n"
     ]
    }
   ],
   "source": [
    "print(set1)\n",
    "\n",
    "set1.add(5)\n",
    "print(set1)\n",
    "\n",
    "set1.pop() # pop removes a random element since the elements are unordered\n",
    "print(set1)\n",
    "\n",
    "print(1 in set1)"
   ]
  },
  {
   "cell_type": "markdown",
   "id": "6b6baa62-fc12-49ea-9a97-f7484a148b40",
   "metadata": {},
   "source": [
    "### 4.4 Dictionaries\n",
    "* a dictionary is a collection data type that stores data in key-value pairs\n",
    "* Keys must be unique within a dictionary\n",
    "* Values can be of any data type, including lists, other dictionaries, or custom objects\n",
    "* Dictionaries are mutable, unordered (as of Python 3.7, they maintain insertion order), and highly optimized for retrieving values when the corresponding key is known\n",
    "* the general syntax looks like this:\n",
    "```dictionary_name = {key_1: value_1, key_2: value_2, key_3: value_3}```"
   ]
  },
  {
   "cell_type": "code",
   "execution_count": 45,
   "id": "408f0d5a-b5a8-4a47-a8cd-bf8829204ed7",
   "metadata": {
    "tags": []
   },
   "outputs": [],
   "source": [
    "python_words = {'list': 'A collection of values that are not connected, but have an order.',\n",
    "                'dictionary': 'A collection of key-value pairs.',\n",
    "                'function': 'A named set of instructions that defines a set of actions in Python.',\n",
    "                }"
   ]
  },
  {
   "cell_type": "markdown",
   "id": "257285d8-734f-4430-953c-25e52bbb8221",
   "metadata": {},
   "source": [
    "* we can access individual values by giving the key in square brackets\n",
    "* it does not work the other way around: we cannot get the keys by putting the values in square brackets"
   ]
  },
  {
   "cell_type": "code",
   "execution_count": 46,
   "id": "5025ae91-cdd4-452e-a6d5-dca1a36bc54a",
   "metadata": {
    "tags": []
   },
   "outputs": [
    {
     "name": "stdout",
     "output_type": "stream",
     "text": [
      "A collection of values that are not connected, but have an order.\n",
      "A named set of instructions that defines a set of actions in Python.\n",
      "A collection of key-value pairs.\n"
     ]
    }
   ],
   "source": [
    "print(python_words['list'])\n",
    "\n",
    "print(python_words['function'])\n",
    "\n",
    "print(python_words['dictionary'])"
   ]
  },
  {
   "cell_type": "markdown",
   "id": "ddc0ec32-082d-436a-9f07-e171d75c193e",
   "metadata": {},
   "source": [
    "* we can get the keys and values or the whole items as tuples like this (this will become more interesting when we're talking about loops):"
   ]
  },
  {
   "cell_type": "code",
   "execution_count": 48,
   "id": "f3e76f52-5fc4-44d0-9d42-13b23a91b868",
   "metadata": {
    "tags": []
   },
   "outputs": [
    {
     "name": "stdout",
     "output_type": "stream",
     "text": [
      "dict_keys(['list', 'dictionary', 'function'])\n",
      "dict_values(['A collection of values that are not connected, but have an order.', 'A collection of key-value pairs.', 'A named set of instructions that defines a set of actions in Python.'])\n",
      "dict_items([('list', 'A collection of values that are not connected, but have an order.'), ('dictionary', 'A collection of key-value pairs.'), ('function', 'A named set of instructions that defines a set of actions in Python.')])\n"
     ]
    }
   ],
   "source": [
    "print(python_words.keys())\n",
    "print(python_words.values())\n",
    "\n",
    "print(python_words.items())"
   ]
  },
  {
   "cell_type": "markdown",
   "id": "40282948-1412-45ed-8679-368e9fc15a5b",
   "metadata": {},
   "source": [
    "#### Adding, removing and modifying pairs\n",
    "* new key-value pairs can be added by putting the name of the new key in square brackets and the value after the '='\n",
    "* pairs can be deleted by specifying the key in the pop()-method\n",
    "* you can add overwrite the values that belong to a specific key"
   ]
  },
  {
   "cell_type": "code",
   "execution_count": 50,
   "id": "0677d461-6bf4-42db-89ca-1f47e38c513e",
   "metadata": {
    "tags": []
   },
   "outputs": [
    {
     "name": "stdout",
     "output_type": "stream",
     "text": [
      "{'list': 'A collection of values that are not connected, but have an order.', 'dictionary': 'A collection of key-value pairs.', 'function': 'A named set of instructions that defines a set of actions in Python.', 'tuple': 'A collection of values that are ordered but immutable.', 'sets': 'An unordered collection of values where each value can exist only once.'}\n"
     ]
    }
   ],
   "source": [
    "# adding the things we already learned about\n",
    "python_words['tuple'] = 'A collection of values that are ordered but immutable.'\n",
    "python_words['sets'] = 'An unordered collection of values where each value can exist only once.'\n",
    "\n",
    "print(python_words)"
   ]
  },
  {
   "cell_type": "code",
   "execution_count": 51,
   "id": "64a03515-fac4-4ab9-9289-e8255f060dfa",
   "metadata": {
    "tags": []
   },
   "outputs": [
    {
     "name": "stdout",
     "output_type": "stream",
     "text": [
      "dict_keys(['list', 'dictionary', 'function', 'tuple', 'sets', 'xy'])\n",
      "dict_keys(['list', 'dictionary', 'function', 'tuple', 'sets'])\n"
     ]
    }
   ],
   "source": [
    "python_words['xy'] = 'This does not exist'\n",
    "print(python_words.keys())\n",
    "\n",
    "# removing xy again \n",
    "python_words.pop('xy')\n",
    "print(python_words.keys())\n"
   ]
  },
  {
   "cell_type": "code",
   "execution_count": 53,
   "id": "0e6da9d5-62cf-4288-9a4d-a0d4ec20d77f",
   "metadata": {
    "tags": []
   },
   "outputs": [
    {
     "name": "stdout",
     "output_type": "stream",
     "text": [
      "A collection of key-value pairs, that is mutable and ordered.\n"
     ]
    }
   ],
   "source": [
    "# adding our newly gathered knowledge about dictionaries by changing the value\n",
    "python_words['dictionary'] = 'A collection of key-value pairs, that is mutable and ordered.'\n",
    "\n",
    "print(python_words['dictionary'])"
   ]
  },
  {
   "cell_type": "markdown",
   "id": "c59990e0-a57a-4474-b8a4-72efd1dcda97",
   "metadata": {
    "tags": []
   },
   "source": [
    "#### Dictionaries can be more complex\n",
    "* values of dictionaries do not have to be basic data types, they can also be data structures like dictionaries again\n",
    "* values do not have to be of the same type"
   ]
  },
  {
   "cell_type": "code",
   "execution_count": 55,
   "id": "f93ded3b-9c4f-488c-97c9-9b5bec3265e7",
   "metadata": {
    "tags": []
   },
   "outputs": [
    {
     "name": "stdout",
     "output_type": "stream",
     "text": [
      "{'greetings': ['hello', 'hey', 'hi'], 'person': {'name': 'Michael', 'age': 23, 'height': 172}, 'parents': ('Beate', 'Reiner'), 'country': 'Germany'}\n"
     ]
    }
   ],
   "source": [
    "random_dict = {\"greetings\": [\"hello\", \"hey\", \"hi\"],\n",
    "              \"person\": {\"name\": \"Michael\", \"age\": 23, \"height\": 172},\n",
    "              \"parents\": (\"Beate\", \"Reiner\"),\n",
    "              \"country\": \"Germany\"}\n",
    "\n",
    "print(random_dict)"
   ]
  },
  {
   "cell_type": "markdown",
   "id": "68cefc4c-434f-4e27-8611-9f4491f65bd9",
   "metadata": {},
   "source": [
    "* we can also access the values inside the dictionary of the dictionary by just listing the keys:"
   ]
  },
  {
   "cell_type": "code",
   "execution_count": 56,
   "id": "83fb57e3-e00d-4bef-bcd1-348a8f3b51d9",
   "metadata": {
    "tags": []
   },
   "outputs": [
    {
     "data": {
      "text/plain": [
       "'Michael'"
      ]
     },
     "execution_count": 56,
     "metadata": {},
     "output_type": "execute_result"
    }
   ],
   "source": [
    "random_dict[\"person\"][\"name\"]"
   ]
  },
  {
   "cell_type": "markdown",
   "id": "9d45e14f-b406-4a83-ad95-dbc5478ae39b",
   "metadata": {},
   "source": [
    "#### Exercise\n",
    "* create a dictionary where you store information about you, for example name, age, occupation, friendslist, ...\n",
    "* print the keys and the values of your dictionary\n",
    "* add new information to that dictionary and delete it again"
   ]
  },
  {
   "cell_type": "code",
   "execution_count": null,
   "id": "a69cb700-e96e-49c6-9dd2-99032c98cd92",
   "metadata": {},
   "outputs": [],
   "source": [
    "# create your dictionary here"
   ]
  },
  {
   "cell_type": "markdown",
   "id": "1e01a865-be43-4095-b609-bedec4b6b684",
   "metadata": {},
   "source": [
    "### 4.5 Chapter Recap \n",
    "* Think about the data structures we just learned about\n",
    "* Give an example for each when you would use it and why it fits the best in this scenario"
   ]
  },
  {
   "cell_type": "markdown",
   "id": "261c80b2-a11b-452a-83fb-483d2c271d61",
   "metadata": {},
   "source": [
    "> Your Thoughts can go here:\n",
    "- \n"
   ]
  },
  {
   "cell_type": "markdown",
   "id": "63563620-1616-4a9c-921c-a312356e8cf2",
   "metadata": {},
   "source": [
    "## 5. Control Flow & Iterations\n",
    "* Control flow in programming refers to the order in which individual instructions, statements, or function calls are executed or evaluated within a program\n",
    "* by now, everything is executed line by line and only once\n",
    "* we will now see cases in which only certain lines are executed (conditional execution) or lines are executed multiple times (looping)"
   ]
  },
  {
   "cell_type": "markdown",
   "id": "919f5ab3-133d-436b-8e3e-683b4d802d90",
   "metadata": {},
   "source": [
    "### 5.1 If-Statements\n",
    "* An if statement is a conditional control flow structure in programming that allows a program to execute certain blocks of code based on whether a given condition is true or false\n",
    "* It evaluates a logical expression, and if the expression is true, the code inside the if block is executed\n",
    "* If it is false, the program skips that block."
   ]
  },
  {
   "cell_type": "code",
   "execution_count": 1,
   "id": "d5c14a9a-04e6-403e-9b7e-107cd65569c1",
   "metadata": {
    "tags": []
   },
   "outputs": [
    {
     "name": "stdout",
     "output_type": "stream",
     "text": [
      "Condition is true\n"
     ]
    }
   ],
   "source": [
    "# Basic syntax:\n",
    "\n",
    "# condition = False\n",
    "condition = True\n",
    "\n",
    "if condition:\n",
    "    print(\"Condition is true\")\n",
    "    \n",
    "# you can try it out by setting condition to False and commenting out condition = True"
   ]
  },
  {
   "cell_type": "markdown",
   "id": "62dd5f32-02d3-4e56-9c4f-3cb998a5a9d0",
   "metadata": {},
   "source": [
    "#### Logical Tests\n",
    "* to see if the block should be executed or not, the expression after the if must be evaluated to either True or False\n",
    "* Herefore it uses the following operators:\n",
    "| Operator | Description |\n",
    "|----|---|\n",
    "| == | True, if both sides are equal |\n",
    "| !=  | True, if both sides are not equal |\n",
    "| < |True, if the left side is smaller |\n",
    "| > | True, if the left side is greater |\n",
    "| <=  | True, if the left side is smaller or equal to the right side |\n",
    "| >=  | True, if the left side is greater or equal to the right side |"
   ]
  },
  {
   "cell_type": "code",
   "execution_count": 2,
   "id": "6ffca350-25b8-4f64-a85c-59b5c4be46d6",
   "metadata": {
    "tags": []
   },
   "outputs": [
    {
     "name": "stdout",
     "output_type": "stream",
     "text": [
      "True\n",
      "False\n",
      "True\n"
     ]
    }
   ],
   "source": [
    "print(3 < 7)\n",
    "print(3 == 7)\n",
    "print(3 != 7)"
   ]
  },
  {
   "cell_type": "markdown",
   "id": "e623788e-535e-4ea1-8ecb-0551425578a7",
   "metadata": {},
   "source": [
    "* you can also check if an item is in a list with the membership operators:\n",
    "\n",
    "| Operator | Description |\n",
    "|--------|-------|\n",
    "| in | Returns True if the item is in the list |\n",
    "| not in  | Returns True if the item is in the list |"
   ]
  },
  {
   "cell_type": "markdown",
   "id": "d232ada8-607f-40dc-ba96-312c15284d33",
   "metadata": {},
   "source": [
    "* with logical operators you can combine your tests, you can test multiple conditions together.\n",
    "\n",
    "| Operator | Description |\n",
    "|--------|-------|\n",
    "| and | Returns True if both statements are true |\n",
    "| or | Returns True if one of the statements is true |\n",
    "| not | Reverse the result |"
   ]
  },
  {
   "cell_type": "code",
   "execution_count": 4,
   "id": "79b8a9d9-0932-43b5-a36c-6ed905bc7c5e",
   "metadata": {
    "tags": []
   },
   "outputs": [
    {
     "name": "stdout",
     "output_type": "stream",
     "text": [
      "Today is a good day!\n"
     ]
    }
   ],
   "source": [
    "food_of_the_day = [\"oats\", \"banana\", \"coffee\", \"lasagna\", \"salad\", \"bread\", \"cheese\", \"tomato\"]\n",
    "favorite_food = \"lasagna\"\n",
    "\n",
    "if favorite_food in food_of_the_day:\n",
    "    print(\"Today is a good day!\")"
   ]
  },
  {
   "cell_type": "markdown",
   "id": "1926a49d-5b16-496a-ba4a-ea33915697f3",
   "metadata": {},
   "source": [
    "* try out what happens if you change your favorite food to something that is not in the list!"
   ]
  },
  {
   "cell_type": "markdown",
   "id": "50328d5d-4773-4caf-831d-d51f4263e495",
   "metadata": {
    "tags": []
   },
   "source": [
    "#### Variants of If-Statements: if-else and if-elif-else\n",
    "* sometimes you want to check multiple conditions or execute something else in case the condition is wrong\n",
    "* that is when elif and else come into play\n",
    "* if-else-statements define what should be executed when the condition is true but also what to do when the condition is wrong\n",
    "* with if-elif-else-chains you can check more than one condition in the elif blocks"
   ]
  },
  {
   "cell_type": "code",
   "execution_count": 8,
   "id": "130cbd91-eaea-41d1-bc21-4f9c3c8188fb",
   "metadata": {
    "tags": []
   },
   "outputs": [
    {
     "name": "stdout",
     "output_type": "stream",
     "text": [
      "Today is a bad day!\n"
     ]
    }
   ],
   "source": [
    "food_of_the_day = [\"oats\", \"banana\", \"coffee\", \"lasagna\", \"salad\", \"bread\", \"cheese\", \"tomato\"]\n",
    "favorite_food = \"pizza\"\n",
    "\n",
    "if favorite_food in food_of_the_day:\n",
    "    print(\"Today is a good day!\")\n",
    "else:\n",
    "    print(\"Today is a bad day!\")"
   ]
  },
  {
   "cell_type": "code",
   "execution_count": 10,
   "id": "2ce22ccc-59f5-417c-9deb-e975758a9b3c",
   "metadata": {
    "tags": []
   },
   "outputs": [
    {
     "name": "stdout",
     "output_type": "stream",
     "text": [
      "Today is an okay day!\n"
     ]
    }
   ],
   "source": [
    "food_of_the_day = [\"oats\", \"banana\", \"coffee\", \"lasagna\", \"salad\", \"bread\", \"cheese\", \"tomato\"]\n",
    "favorite_food = \"pizza\"\n",
    "second_best_food = \"lasagna\"\n",
    "\n",
    "if favorite_food in food_of_the_day and second_best_food in food_of_the_day:\n",
    "    print(\"Today is a perfect day!\")\n",
    "elif favorite_food in food_of_the_day:\n",
    "    print(\"Today is a good day!\")\n",
    "elif second_best_food in food_of_the_day:\n",
    "    print(\"Today is an okay day!\")\n",
    "else:\n",
    "    print(\"Today is a bad day!\")"
   ]
  },
  {
   "cell_type": "markdown",
   "id": "ae2fcdae-063a-4cb3-a4bd-5f5ca94adb5d",
   "metadata": {},
   "source": [
    "* There is no limit to how many conditions you can test\n",
    "* You always need one if statement to start the chain, and you can never have more than one else statement. But you can have as many elif statements as you want\n",
    "* Important: **once a test passes the rest of the conditions are ignored.**"
   ]
  },
  {
   "cell_type": "markdown",
   "id": "60bd5b7d-c6f3-4cee-bc1a-745d8d43b134",
   "metadata": {},
   "source": [
    "### 5.2 For-Loops\n",
    "* A for loop is a control flow structure in programming that allows code to be repeated for a fixed number of times or iterated over a collection of items, such as a list, string, or array\n",
    "* In Python, a for loop is typically used to iterate over a collection (like a list or a string) or a range of numbers."
   ]
  },
  {
   "cell_type": "markdown",
   "id": "2bad86f0-573b-4380-b48c-f6d7700c0b95",
   "metadata": {},
   "source": [
    "#### Iterating over a range of numbers"
   ]
  },
  {
   "cell_type": "code",
   "execution_count": 11,
   "id": "9b9af4a8-f95a-4a51-91fb-2cc3bfbc8b8b",
   "metadata": {
    "tags": []
   },
   "outputs": [
    {
     "name": "stdout",
     "output_type": "stream",
     "text": [
      "0\n",
      "1\n",
      "2\n",
      "3\n",
      "4\n"
     ]
    }
   ],
   "source": [
    "for i in range(5):\n",
    "    print(i)"
   ]
  },
  {
   "cell_type": "markdown",
   "id": "b670c501-6c5a-4ba6-be9e-29114afa7ec5",
   "metadata": {},
   "source": [
    "* range(5) generates numbers from 0 to 4\n",
    "* i takes on the values one after the other\n",
    "* the loop will print the numbers 0, 1, 2, 3, 4, with each iteration increasing i by 1."
   ]
  },
  {
   "cell_type": "markdown",
   "id": "97e66224-8642-4e26-949d-50e45bc9c9b6",
   "metadata": {
    "tags": []
   },
   "source": [
    "#### Iterating over a list"
   ]
  },
  {
   "cell_type": "code",
   "execution_count": 13,
   "id": "40c62590-4aab-48be-9dab-5b5b0950ef45",
   "metadata": {
    "tags": []
   },
   "outputs": [
    {
     "name": "stdout",
     "output_type": "stream",
     "text": [
      "apple\n",
      "banana\n",
      "strawberry\n",
      "pineapple\n"
     ]
    }
   ],
   "source": [
    "fruits = [\"apple\", \"banana\", \"strawberry\", \"pineapple\"]\n",
    "\n",
    "for fruit in fruits:\n",
    "    print(fruit)"
   ]
  },
  {
   "cell_type": "markdown",
   "id": "c2daac92-c7e6-401d-9d6c-bdd9a7c34036",
   "metadata": {},
   "source": [
    "* The variable \"fruit\", with no \"s\" on it, is a temporary placeholder variable. This is the variable that Python will place each item in the list into, one at a time.\n",
    "* The first time through the loop, the value of \"fruit\" will be 'apple'.\n",
    "* The second time through the loop, the value of \"fruit\" will be 'banana'.\n",
    "* The third time through, \"fruit\" will be 'strawberry'.\n",
    "* Finally, \"fruit\" will be the last element \"pineapple\"\n",
    "* After this, there are no more items in the list, and the loop will end."
   ]
  },
  {
   "cell_type": "markdown",
   "id": "702ef5a1-3e5b-492d-83cd-531cfacc22b3",
   "metadata": {
    "tags": []
   },
   "source": [
    "#### Inside and outside the loop\n",
    "\n",
    "* Python uses indentation to decide what is inside the loop and what is outside the loop\n",
    "* Code that is inside the loop will be run for every item in the list\n",
    "* Code that is not indented, which comes after the loop, will be run once just like regular code"
   ]
  },
  {
   "cell_type": "code",
   "execution_count": 19,
   "id": "929de7f4-7f94-4029-87f7-f6218c9bab7c",
   "metadata": {
    "tags": []
   },
   "outputs": [
    {
     "name": "stdout",
     "output_type": "stream",
     "text": [
      "I like apple.\n",
      "I like banana.\n",
      "I like strawberry.\n",
      "I like pineapple.\n",
      "\n",
      "I like fruits.\n"
     ]
    }
   ],
   "source": [
    "fruits = [\"apple\", \"banana\", \"strawberry\", \"pineapple\"]\n",
    "\n",
    "for fruit in fruits:\n",
    "    print(\"I like \"+ fruit + \".\")\n",
    "    \n",
    "print(\"\\nI like fruits.\") # '\\n' adds an extra line"
   ]
  },
  {
   "cell_type": "markdown",
   "id": "672a4318-a7fe-429c-a1cb-73962e4e61aa",
   "metadata": {
    "tags": []
   },
   "source": [
    "#### Looping through dictionaries\n",
    "* There are several ways to loop through dictionaries:\n",
    "    * You can loop through all key-value pairs\n",
    "    * You can loop through the keys, and pull out the values for any keys that you care about\n",
    "    * You can loop through the values"
   ]
  },
  {
   "cell_type": "markdown",
   "id": "b10bdf6e-7a4a-4d80-8d6d-114438884b31",
   "metadata": {
    "tags": []
   },
   "source": [
    "##### Looping through all key-value pairs:\n",
    "* General Syntax:\n",
    "\n"
   ]
  },
  {
   "cell_type": "code",
   "execution_count": 25,
   "id": "fa680551-9894-4b34-a151-7139f8c5f6e9",
   "metadata": {
    "tags": []
   },
   "outputs": [
    {
     "name": "stdout",
     "output_type": "stream",
     "text": [
      "key_1\n",
      "value_1\n",
      "key_2\n",
      "value_2\n",
      "key_3\n",
      "value_3\n"
     ]
    }
   ],
   "source": [
    "my_dict = {\"key_1\": \"value_1\", \"key_2\": \"value_2\", \"key_3\": \"value_3\"}\n",
    "\n",
    "for key_name, value_name in my_dict.items():\n",
    "    print(key_name) # The key is stored in whatever you called the first variable.\n",
    "    print(value_name) # The value associated with that key is stored in your second variable."
   ]
  },
  {
   "cell_type": "code",
   "execution_count": 24,
   "id": "bfe4bdfc-ea84-4bc7-8b32-19a3e4477639",
   "metadata": {
    "tags": []
   },
   "outputs": [
    {
     "name": "stdout",
     "output_type": "stream",
     "text": [
      "list\n",
      "A collection of values that are not connected, but have an order.\n",
      "dictionary\n",
      "A collection of key-value pairs.\n",
      "function\n",
      "A named set of instructions that defines a set of actions in Python.\n"
     ]
    }
   ],
   "source": [
    "python_words = {'list': 'A collection of values that are not connected, but have an order.',\n",
    "                'dictionary': 'A collection of key-value pairs.',\n",
    "                'function': 'A named set of instructions that defines a set of actions in Python.',\n",
    "                }\n",
    "\n",
    "# Print out the items (key-value pairs, separated by commas) in the dictionary.\n",
    "for word, meaning in python_words.items():\n",
    "    print(word)\n",
    "    print(meaning)"
   ]
  },
  {
   "cell_type": "markdown",
   "id": "3544f0f7-edca-4d70-b1b4-ce964037c04d",
   "metadata": {},
   "source": [
    "##### Looping through all keys\n",
    "* General Syntax:"
   ]
  },
  {
   "cell_type": "code",
   "execution_count": 26,
   "id": "778a41cd-bc94-431a-a813-841acc7ed7e1",
   "metadata": {
    "tags": []
   },
   "outputs": [
    {
     "name": "stdout",
     "output_type": "stream",
     "text": [
      "Key: key_1\n",
      "Key: key_2\n",
      "Key: key_3\n"
     ]
    }
   ],
   "source": [
    "for key in my_dict.keys():\n",
    "    print('Key: '+ key)"
   ]
  },
  {
   "cell_type": "code",
   "execution_count": 27,
   "id": "2dfc9fb4-fa72-4057-837e-0e8a3269e6d7",
   "metadata": {
    "tags": []
   },
   "outputs": [
    {
     "name": "stdout",
     "output_type": "stream",
     "text": [
      "Key: key_1\n",
      "Key: key_2\n",
      "Key: key_3\n"
     ]
    }
   ],
   "source": [
    "# it also works like this:\n",
    "for key in my_dict:\n",
    "    print('Key: '+ key)"
   ]
  },
  {
   "cell_type": "markdown",
   "id": "6aa35f19-eed9-4e38-a64a-35daa2ee6377",
   "metadata": {},
   "source": [
    "* with this syntax, you can also get the values by just putting the keys in square brackets"
   ]
  },
  {
   "cell_type": "code",
   "execution_count": 29,
   "id": "66683a7d-5b3b-425f-9a73-2dd59043324c",
   "metadata": {
    "tags": []
   },
   "outputs": [
    {
     "name": "stdout",
     "output_type": "stream",
     "text": [
      "Word: list\n",
      "Meaning:A collection of values that are not connected, but have an order.\n",
      "Word: dictionary\n",
      "Meaning:A collection of key-value pairs.\n",
      "Word: function\n",
      "Meaning:A named set of instructions that defines a set of actions in Python.\n"
     ]
    }
   ],
   "source": [
    "for word in python_words:\n",
    "    print('Word: '+ word)\n",
    "    print('Meaning:'+ python_words[word])"
   ]
  },
  {
   "cell_type": "markdown",
   "id": "bbc2b0a8-9e26-43f0-aeb3-fa10d8c048f6",
   "metadata": {},
   "source": [
    "##### Looping through the values\n",
    "* this is rarely done but there is also a general syntax for this:"
   ]
  },
  {
   "cell_type": "code",
   "execution_count": 30,
   "id": "bc29972f-224d-4460-ab6b-38b1eea95ba3",
   "metadata": {
    "tags": []
   },
   "outputs": [
    {
     "name": "stdout",
     "output_type": "stream",
     "text": [
      "Value: value_1\n",
      "Value: value_2\n",
      "Value: value_3\n"
     ]
    }
   ],
   "source": [
    "my_dict = {'key_1': 'value_1',\n",
    "    'key_2': 'value_2',\n",
    "    'key_3': 'value_3',\n",
    "    }\n",
    "\n",
    "for value in my_dict.values():\n",
    "    print('Value:', value)"
   ]
  },
  {
   "cell_type": "markdown",
   "id": "6c10fa9f-5f5f-4298-8593-a817d0be1da5",
   "metadata": {},
   "source": [
    "#### Nested Loops\n",
    "* there can also be loops inside loops\n",
    "* for example if the values of a dictionary are lists through which we want to iterate"
   ]
  },
  {
   "cell_type": "code",
   "execution_count": 31,
   "id": "0a559d16-b3ce-498a-86eb-9c661abe5b8c",
   "metadata": {
    "tags": []
   },
   "outputs": [
    {
     "name": "stdout",
     "output_type": "stream",
     "text": [
      "We know the names of the students:\n",
      "Max\n",
      "Nina\n",
      "Tom\n",
      "Lily\n",
      "We know the ages of the students:\n",
      "25\n",
      "23\n",
      "22\n",
      "25\n",
      "We know the origins of the students:\n",
      "Cologne\n",
      "Mannheim\n",
      "Stuttgart\n",
      "Munich\n"
     ]
    }
   ],
   "source": [
    "students = {\"names\": [\"Max\", \"Nina\", \"Tom\", \"Lily\"],\n",
    "           \"ages\": [25,23,22,25],\n",
    "           \"origins\": [\"Cologne\", \"Mannheim\", \"Stuttgart\", \"Munich\"]}\n",
    "\n",
    "for fact, persons in students.items():\n",
    "    \n",
    "    print(\"We know the \"+ fact + \" of the students:\")\n",
    "    \n",
    "    # The loop inside goes through the current value which is a list\n",
    "    for person in persons:\n",
    "        print(person)"
   ]
  },
  {
   "cell_type": "markdown",
   "id": "1c98ee8b-8430-456b-85a0-d9e05a727690",
   "metadata": {},
   "source": [
    "* you have to think of it like this:\n",
    "     * the outer loops starts with the first key-value pair and the key is printed in a sentence\n",
    "     * then we go into the inner loop which iterates through the value of the first key which is a list\n",
    "     * we are still in the first iteration of the outer loop but the inner loop goes through all elements of the list\n",
    "     * when the inner loop is finished, we start the next iteration of the outer loop and go to the next key (here: ages)\n",
    "     * for this key we also loop through the values and print all of them\n",
    "     * after finishing the inner loop for this list, we start the third and final iteration of the outer loop with origins as key\n",
    "     * here we start one more inner loop \n",
    "     * now the outer loop is finished so our program stops\n",
    "     \n",
    "- One more example with nested dictionaries:"
   ]
  },
  {
   "cell_type": "code",
   "execution_count": 32,
   "id": "f10f44ae-a359-46fd-b258-8b4e1967c4e5",
   "metadata": {
    "tags": []
   },
   "outputs": [
    {
     "name": "stdout",
     "output_type": "stream",
     "text": [
      "\n",
      "Here is what I know about willie\n",
      "kind: dog\n",
      "owner: eric\n",
      "vaccinated: True\n",
      "\n",
      "Here is what I know about walter\n",
      "kind: cockroach\n",
      "owner: eric\n",
      "vaccinated: False\n",
      "\n",
      "Here is what I know about peso\n",
      "kind: dog\n",
      "owner: chloe\n",
      "vaccinated: True\n"
     ]
    }
   ],
   "source": [
    "# This program stores information about pets. For each pet,\n",
    "#   we store the kind of animal, the owner's name, and\n",
    "#   the breed.\n",
    "pets = {'willie': {'kind': 'dog', 'owner': 'eric', 'vaccinated': True},\n",
    "        'walter': {'kind': 'cockroach', 'owner': 'eric', 'vaccinated': False},\n",
    "        'peso': {'kind': 'dog', 'owner': 'chloe', 'vaccinated': True},\n",
    "        }\n",
    "\n",
    "# Let's show all the information for each pet.\n",
    "for pet_name, pet_information in pets.items():\n",
    "    print(\"\\nHere is what I know about \" + pet_name)\n",
    "    # Each animal's dictionary is in 'information'\n",
    "    for key in pet_information:\n",
    "        print(key + \": \" + str(pet_information[key]))"
   ]
  },
  {
   "cell_type": "markdown",
   "id": "a7bf8c50-ddf7-4612-aac6-3f9e3d7f0f70",
   "metadata": {},
   "source": [
    "#### Exercise: Combining for-loops and if-statements\n",
    "* you have the list \"grades\" defined below\n",
    "* every grade gives a different amount of points:\n",
    "    * \"excellent\" gives 5 points\n",
    "    * \"very good\" gives 4 points\n",
    "    * \"good\" gives 3 points\n",
    "    * \"okay\" gives 2 points\n",
    "    * \"insufficient\" gives 1 point \n",
    "* create a variable points in which you sum up the points by looping over the list, checking the grade and adding the matching points\n",
    "* in the end check the points again\n",
    "    * if the person has more than 20 points, you should print a message that the person passed\n",
    "    * otherwise the person should receive the message that he/she did not pass"
   ]
  },
  {
   "cell_type": "code",
   "execution_count": 20,
   "id": "a39c0d8a-cfee-4e89-8af8-f7e4bc9bb565",
   "metadata": {
    "tags": []
   },
   "outputs": [],
   "source": [
    "grades = [\"excellent\", \"very good\", \"okay\", \"insufficient\", \"excellent\"]"
   ]
  },
  {
   "cell_type": "markdown",
   "id": "ae2bdf8d-e3ec-40af-89bf-815fed02c35d",
   "metadata": {},
   "source": [
    "### 5.3 While-Loops\n",
    "* A while loop is another type of loop in programming that repeatedly executes a block of code as long as a specified condition remains True\n",
    "* Unlike a for loop, which runs for a predefined number of times or through a collection, a while loop continues to run as long as its condition stays valid\n",
    "* Once the condition becomes False, the loop stops"
   ]
  },
  {
   "cell_type": "code",
   "execution_count": 33,
   "id": "46f192af-c5c0-4491-a194-d566bb707003",
   "metadata": {
    "tags": []
   },
   "outputs": [
    {
     "ename": "SyntaxError",
     "evalue": "incomplete input (3012576322.py, line 2)",
     "output_type": "error",
     "traceback": [
      "\u001b[1;36m  Cell \u001b[1;32mIn[33], line 2\u001b[1;36m\u001b[0m\n\u001b[1;33m    # Code block that runs as long as the condition is True\u001b[0m\n\u001b[1;37m                                                           ^\u001b[0m\n\u001b[1;31mSyntaxError\u001b[0m\u001b[1;31m:\u001b[0m incomplete input\n"
     ]
    }
   ],
   "source": [
    "while condition:\n",
    "    # Code block that runs as long as the condition is True"
   ]
  },
  {
   "cell_type": "markdown",
   "id": "c602030c-ffe1-493e-ab3c-4038f231620b",
   "metadata": {},
   "source": [
    "* while loops only make sense when the variable that is checked in the condition changes\n",
    "* otherwise the loop either runs forever or the loop never starts\n",
    "* one basic example:"
   ]
  },
  {
   "cell_type": "code",
   "execution_count": 34,
   "id": "ba250e6e-7dcc-4c9f-9ee0-adeef0157412",
   "metadata": {
    "tags": []
   },
   "outputs": [
    {
     "name": "stdout",
     "output_type": "stream",
     "text": [
      "0\n",
      "1\n",
      "2\n",
      "3\n",
      "4\n"
     ]
    }
   ],
   "source": [
    "i = 0\n",
    "while i < 5:\n",
    "    print(i)\n",
    "    i += 1"
   ]
  },
  {
   "cell_type": "markdown",
   "id": "ff060d5b-bfc6-4c66-ae0f-2c1c5a014841",
   "metadata": {},
   "source": [
    "#### While loop with continue and break\n",
    "* Sometimes, you may want to break out of a while loop or skip certain iterations\n",
    "* break: Exits the loop immediately\n",
    "* continue: Skips the rest of the current iteration and goes to the next one"
   ]
  },
  {
   "cell_type": "code",
   "execution_count": 39,
   "id": "bf926769-f3b3-44be-b38d-fd164136711b",
   "metadata": {
    "tags": []
   },
   "outputs": [
    {
     "name": "stdout",
     "output_type": "stream",
     "text": [
      "27 is reached by multiplying with 3\n"
     ]
    }
   ],
   "source": [
    "i = 1\n",
    "\n",
    "while i < 100:\n",
    "    \n",
    "    i = i * 3\n",
    "    \n",
    "    if i == 27:\n",
    "        print(\"27 is reached by multiplying with 3\")\n",
    "        break # now that we know, we can stop the loop"
   ]
  },
  {
   "cell_type": "code",
   "execution_count": 41,
   "id": "55e2c017-fe42-47d8-96a0-36e9c93c3cf6",
   "metadata": {},
   "outputs": [
    {
     "name": "stdout",
     "output_type": "stream",
     "text": [
      "1\n",
      "3\n",
      "5\n",
      "7\n",
      "9\n",
      "11\n",
      "13\n",
      "15\n",
      "17\n",
      "19\n",
      "21\n",
      "23\n",
      "25\n",
      "27\n",
      "29\n"
     ]
    }
   ],
   "source": [
    "i = 1\n",
    "\n",
    "while i < 30:\n",
    "    \n",
    "    if i % 2 == 0: # checking if number is even\n",
    "        i = i + 1\n",
    "        continue\n",
    "    else:\n",
    "        print(i)\n",
    "        i = i + 1\n",
    "        \n",
    "    "
   ]
  },
  {
   "cell_type": "markdown",
   "id": "5e56f05e-8b35-4e97-80b4-7be2687c70b3",
   "metadata": {},
   "source": [
    "##### Short Modulo(%)-Explanation\n",
    "* '%' is the sign for modulo\n",
    "* The modulo operator (%) is a mathematical operator that returns the remainder of a division between two numbers\n",
    "* It’s useful in many programming situations, particularly when you need to check divisibility (i % 2 == 0 checks if the number is divisible by 2)"
   ]
  },
  {
   "cell_type": "code",
   "execution_count": 44,
   "id": "0faa90aa-fda9-42d2-8b52-ef4ce1594609",
   "metadata": {
    "tags": []
   },
   "outputs": [
    {
     "name": "stdout",
     "output_type": "stream",
     "text": [
      "1\n",
      "0\n",
      "0\n",
      "2\n"
     ]
    }
   ],
   "source": [
    "print(10%3) # 9 is divisable by 3, so the remainder is 1\n",
    "print(10%5) # 0 because 10 is divisible by 5\n",
    "print(10%2) # also 0\n",
    "print(10%4) # 2 because 8 is divisible by 4"
   ]
  },
  {
   "cell_type": "markdown",
   "id": "f3b07015-6ca3-46dd-8f0b-8be35ee9e5cf",
   "metadata": {},
   "source": [
    "## 6. Functions\n",
    "* a function is a reusable block of code that performs a specific task\n",
    "* functions are used to organize code, make it more readable, and avoid repetition\n",
    "* functions allow you to pass data (called arguments), process that data, and optionally return a result"
   ]
  },
  {
   "cell_type": "code",
   "execution_count": null,
   "id": "5548be80-1c32-4d3d-b15f-9b732db662eb",
   "metadata": {
    "tags": []
   },
   "outputs": [],
   "source": [
    "# defining a function\n",
    "def function_name(parameters):\n",
    "    # Code block (body of the function)\n",
    "    # Perform some operations\n",
    "    return result  # Optional: return a value"
   ]
  },
  {
   "cell_type": "code",
   "execution_count": null,
   "id": "8fceecc4-1ff9-422e-868c-d476c4f55018",
   "metadata": {},
   "outputs": [],
   "source": [
    "# calling a function\n",
    "function_name(parameter1)"
   ]
  },
  {
   "cell_type": "markdown",
   "id": "656d588a-85d5-4564-8dda-78799ccbe6cb",
   "metadata": {},
   "source": [
    "- **Defining a function**\n",
    "    - Give the keyword `def`, which tells Python that you are about to *define* a function.\n",
    "    - Give your function a name. A variable name tells you what kind of value the variable contains; a function name should tell you what the function does.\n",
    "    - Give names for each value the function needs in order to do its work.\n",
    "        - These are basically variable names, but they are only used **inside** the function.\n",
    "        - They can be different names than what you use in the rest of your program.\n",
    "        - These are called the function's *arguments*.\n",
    "    - Make sure the function definition line ends with a colon.\n",
    "    - Inside the function, write whatever code you need to make the function do its work.\n",
    "    - Make sure that you defined your function before calling it\n",
    "- **Using your function**\n",
    "    - To *call* your function, write its name followed by parentheses.\n",
    "    - Inside the parentheses, give the values you want the function to work with.\n",
    "        - These can be variables such as `current_name` and `current_age`, or they can be actual values such as 'eric' and 5."
   ]
  },
  {
   "cell_type": "code",
   "execution_count": 46,
   "id": "c0b20100-2522-4787-a7f3-882a41908f02",
   "metadata": {
    "tags": []
   },
   "outputs": [
    {
     "name": "stdout",
     "output_type": "stream",
     "text": [
      "Hello, Tim!\n",
      "Hello, Marcus!\n"
     ]
    }
   ],
   "source": [
    "# Simple function\n",
    "def greet(name):\n",
    "    print(\"Hello, \" + name + \"!\")\n",
    "\n",
    "# Calling the function\n",
    "greet(\"Tim\")\n",
    "greet(\"Marcus\")"
   ]
  },
  {
   "cell_type": "markdown",
   "id": "b5b6ebc4-4bf3-467a-a51e-b6889bab5e77",
   "metadata": {},
   "source": [
    "### Returning a value\n",
    "* if you want to use the result of the processing steps inside the function, you have to return the result\n",
    "* this can be done with the return keyword and the variable that you want to use outside of the function\n",
    "* after you returned a value, the function ends - so be sure to end with this return-statement"
   ]
  },
  {
   "cell_type": "code",
   "execution_count": 47,
   "id": "96b18638-4bce-4c1b-af23-eeb99a82b248",
   "metadata": {
    "tags": []
   },
   "outputs": [
    {
     "name": "stdout",
     "output_type": "stream",
     "text": [
      "8\n"
     ]
    }
   ],
   "source": [
    "def add_numbers(a, b):\n",
    "    result = a + b\n",
    "    return result\n",
    "\n",
    "# Calling the function and storing the result in a variable\n",
    "sum_value = add_numbers(5, 3)\n",
    "print(sum_value)  # Output: 8"
   ]
  },
  {
   "cell_type": "markdown",
   "id": "d6214176-c9c4-4c6a-8cd6-e584fc738a83",
   "metadata": {
    "tags": []
   },
   "source": [
    "### Default-Values\n",
    "* If you want your function to do something by default, even if no information is passed to it, you can do so by giving your arguments default values\n",
    "* You do this by specifying the default values when you define the function"
   ]
  },
  {
   "cell_type": "code",
   "execution_count": 49,
   "id": "3fb63939-cb9c-4d3a-9ec2-6decd8238658",
   "metadata": {
    "tags": []
   },
   "outputs": [
    {
     "name": "stdout",
     "output_type": "stream",
     "text": [
      "Hello Unknown!\n",
      "Hello Marcus!\n",
      "Hello Tim!\n"
     ]
    }
   ],
   "source": [
    "def greet(name = \"Unknown\"):\n",
    "    print(\"Hello \" + name + \"!\")\n",
    "    \n",
    "greet()\n",
    "greet(\"Marcus\")\n",
    "greet(\"Tim\")"
   ]
  },
  {
   "cell_type": "markdown",
   "id": "5cd52eb1-8636-4de2-9843-ffadd5aeb29f",
   "metadata": {},
   "source": [
    "* if you don't pass any values, the function uses the default-values\n",
    "* if values are passed into the function, it uses them instead of the default "
   ]
  },
  {
   "cell_type": "markdown",
   "id": "2420ab0f-9783-46c5-9740-db3992c017e7",
   "metadata": {},
   "source": [
    "### Positional Arguments\n",
    "* if we only have to pass one parameter, there is no order to be careful about\n",
    "* if you have more than 1 parameter, you have to make sure that the order when defining the function is the same as when calling it"
   ]
  },
  {
   "cell_type": "code",
   "execution_count": 51,
   "id": "571df437-a5e0-4109-8ac2-6f0e28123896",
   "metadata": {
    "tags": []
   },
   "outputs": [
    {
     "name": "stdout",
     "output_type": "stream",
     "text": [
      "First name: Brian\n",
      "Last name: Kernighan\n",
      "Age: 71\n",
      "\n",
      "\n",
      "First name: Ken\n",
      "Last name: Thompson\n",
      "Age: 70\n",
      "\n",
      "\n",
      "First name: Adele\n",
      "Last name: Goldberg\n",
      "Age: 68\n"
     ]
    }
   ],
   "source": [
    "def describe_person(first_name, last_name, age):\n",
    "    # This function takes in a person's first and last name, and their age.\n",
    "    # It then prints this information out in a simple format.\n",
    "    print(\"First name:\", first_name.title())\n",
    "    print(\"Last name:\", last_name.title())\n",
    "    print(\"Age:\", age)\n",
    "\n",
    "describe_person('brian', 'kernighan', 71)\n",
    "print(\"\\n\") # to make it more readable\n",
    "describe_person('ken', 'thompson', 70)\n",
    "print(\"\\n\")\n",
    "describe_person('adele', 'goldberg', 68)"
   ]
  },
  {
   "cell_type": "code",
   "execution_count": 52,
   "id": "8c2b982a-d144-4ca2-8ea8-494ec64b5ece",
   "metadata": {
    "tags": []
   },
   "outputs": [
    {
     "ename": "AttributeError",
     "evalue": "'int' object has no attribute 'title'",
     "output_type": "error",
     "traceback": [
      "\u001b[1;31m---------------------------------------------------------------------------\u001b[0m",
      "\u001b[1;31mAttributeError\u001b[0m                            Traceback (most recent call last)",
      "Cell \u001b[1;32mIn[52], line 1\u001b[0m\n\u001b[1;32m----> 1\u001b[0m \u001b[43mdescribe_person\u001b[49m\u001b[43m(\u001b[49m\u001b[38;5;241;43m53\u001b[39;49m\u001b[43m,\u001b[49m\u001b[43m \u001b[49m\u001b[38;5;124;43m\"\u001b[39;49m\u001b[38;5;124;43mmax\u001b[39;49m\u001b[38;5;124;43m\"\u001b[39;49m\u001b[43m,\u001b[49m\u001b[43m \u001b[49m\u001b[38;5;124;43m\"\u001b[39;49m\u001b[38;5;124;43mmustermann\u001b[39;49m\u001b[38;5;124;43m\"\u001b[39;49m\u001b[43m)\u001b[49m\n",
      "Cell \u001b[1;32mIn[51], line 4\u001b[0m, in \u001b[0;36mdescribe_person\u001b[1;34m(first_name, last_name, age)\u001b[0m\n\u001b[0;32m      1\u001b[0m \u001b[38;5;28;01mdef\u001b[39;00m \u001b[38;5;21mdescribe_person\u001b[39m(first_name, last_name, age):\n\u001b[0;32m      2\u001b[0m     \u001b[38;5;66;03m# This function takes in a person's first and last name, and their age.\u001b[39;00m\n\u001b[0;32m      3\u001b[0m     \u001b[38;5;66;03m# It then prints this information out in a simple format.\u001b[39;00m\n\u001b[1;32m----> 4\u001b[0m     \u001b[38;5;28mprint\u001b[39m(\u001b[38;5;124m\"\u001b[39m\u001b[38;5;124mFirst name:\u001b[39m\u001b[38;5;124m\"\u001b[39m, \u001b[43mfirst_name\u001b[49m\u001b[38;5;241;43m.\u001b[39;49m\u001b[43mtitle\u001b[49m())\n\u001b[0;32m      5\u001b[0m     \u001b[38;5;28mprint\u001b[39m(\u001b[38;5;124m\"\u001b[39m\u001b[38;5;124mLast name:\u001b[39m\u001b[38;5;124m\"\u001b[39m, last_name\u001b[38;5;241m.\u001b[39mtitle())\n\u001b[0;32m      6\u001b[0m     \u001b[38;5;28mprint\u001b[39m(\u001b[38;5;124m\"\u001b[39m\u001b[38;5;124mAge:\u001b[39m\u001b[38;5;124m\"\u001b[39m, age)\n",
      "\u001b[1;31mAttributeError\u001b[0m: 'int' object has no attribute 'title'"
     ]
    }
   ],
   "source": [
    "describe_person(53, \"max\", \"mustermann\")"
   ]
  },
  {
   "cell_type": "markdown",
   "id": "8688af93-847b-419e-94e7-0142259aa068",
   "metadata": {},
   "source": [
    "* this gives us an error because we passed an integer at the first position but our function expects a string\n",
    "* because an integer cannot be used with the method .title() inside the function we get the message \"'int' object has no attribute 'title'\"\n",
    "* so be careful when ordering the parameters you pass into the function"
   ]
  },
  {
   "cell_type": "markdown",
   "id": "98682148-78a0-471f-a87f-6fb067f690f3",
   "metadata": {},
   "source": [
    "### Keyword Arguments\n",
    "* if you are not sure about the order of the parameters, you can just use keywords with them\n",
    "* this means that we use the name of the arguments when we pass them into the function"
   ]
  },
  {
   "cell_type": "code",
   "execution_count": 54,
   "id": "cc593ab3-e9cc-4b81-a4b5-d2a8f81aebf9",
   "metadata": {
    "tags": []
   },
   "outputs": [
    {
     "name": "stdout",
     "output_type": "stream",
     "text": [
      "First name: Max\n",
      "Last name: Mustermann\n",
      "Age: 53\n"
     ]
    }
   ],
   "source": [
    "describe_person(age = 53, first_name = \"Max\", last_name = \"Mustermann\")\n",
    "# now it works perfectly well"
   ]
  },
  {
   "cell_type": "markdown",
   "id": "b763e8d4-8ce0-430c-a535-940858784e8c",
   "metadata": {},
   "source": [
    "### Exercise\n",
    "* Write a function that takes as input the current temperature in °C and returns it in °F. Call that function with the current outside-temperature and print out a message telling you about the result."
   ]
  },
  {
   "cell_type": "code",
   "execution_count": 55,
   "id": "476eecb3-0558-4d20-a60b-497a9e2a3794",
   "metadata": {
    "tags": []
   },
   "outputs": [],
   "source": [
    "# here goes your first function"
   ]
  },
  {
   "cell_type": "markdown",
   "id": "47a2751a-cb62-49db-ad46-0730ae4033c9",
   "metadata": {
    "tags": []
   },
   "source": [
    "## 7. More about functions"
   ]
  },
  {
   "cell_type": "markdown",
   "id": "a88e724b-ad0f-4a42-9325-1310ad2e0cde",
   "metadata": {
    "tags": []
   },
   "source": [
    "### 7.1 Anonymous / Lambda Functions\n",
    "* an anonymous function is a function without a name\n",
    "* anonymous function in Python are definded with the keyword \"lambda\", hence the name \"Lambda Function\"\n",
    "* they are useful for creating simple functions on-the-fly without the need to formally define them using def\n",
    "* the syntax is very easy:\n"
   ]
  },
  {
   "cell_type": "code",
   "execution_count": null,
   "id": "63b5f330-3dfe-464d-a451-4a04d8d33de7",
   "metadata": {},
   "outputs": [],
   "source": [
    "lambda arguments: expression"
   ]
  },
  {
   "cell_type": "code",
   "execution_count": 58,
   "id": "9dabf46a-fc22-411f-9f0e-bb4e8ec66d55",
   "metadata": {
    "tags": []
   },
   "outputs": [
    {
     "name": "stdout",
     "output_type": "stream",
     "text": [
      "8\n"
     ]
    }
   ],
   "source": [
    "add = lambda a, b: a + b\n",
    "\n",
    "# Using the lambda function\n",
    "result = add(5, 3)\n",
    "print(result)  # Output: 8"
   ]
  },
  {
   "cell_type": "markdown",
   "id": "18201bf1-62c5-4bb6-8f58-7534b5378aeb",
   "metadata": {},
   "source": [
    "* for now you probably don't see the point of using it but be patient, we will come to better usecases in a second"
   ]
  },
  {
   "cell_type": "markdown",
   "id": "5a9ffbaf-7df2-4813-9839-75237d7d21ce",
   "metadata": {},
   "source": [
    "### 7.2 Map\n",
    "* the map() function in Python is a built-in higher-order function that allows you to apply a given function to each item of an iterable (such as a list, tuple, etc.)\n",
    "* it returns a map object (an iterator) with the results"
   ]
  },
  {
   "cell_type": "markdown",
   "id": "412272eb-d81d-4e7c-8128-80fa3266950a",
   "metadata": {},
   "source": [
    "Basic Syntax:\n",
    "**map(function, iterable)**\n",
    "* function: The function to apply to each item in the iterable. This can be a built-in function, a user-defined function, or a lambda function.\n",
    "* iterable: The iterable (like a list, tuple, etc.) whose items will be processed by the function\n",
    "* to get the results, you usually convert the result to a list or another iterable like tuple()"
   ]
  },
  {
   "cell_type": "code",
   "execution_count": 59,
   "id": "69f2275f-f731-46f1-985f-92a626f885ac",
   "metadata": {
    "tags": []
   },
   "outputs": [
    {
     "name": "stdout",
     "output_type": "stream",
     "text": [
      "[1, 4, 9, 16, 25]\n"
     ]
    }
   ],
   "source": [
    "# defining a function that squares the input \n",
    "def square(x):\n",
    "    return x * x\n",
    "\n",
    "numbers = [1, 2, 3, 4, 5]\n",
    "\n",
    "# Applying the square function to each element in the list\n",
    "squared_numbers = map(square, numbers)\n",
    "\n",
    "# Converting the map object to a list\n",
    "squared_numbers_list = list(squared_numbers)\n",
    "print(squared_numbers_list)"
   ]
  },
  {
   "cell_type": "code",
   "execution_count": 62,
   "id": "96b27d77-c10b-4c4a-87e5-0b7d3b7a8baa",
   "metadata": {
    "tags": []
   },
   "outputs": [
    {
     "name": "stdout",
     "output_type": "stream",
     "text": [
      "[5, 6, 6]\n"
     ]
    }
   ],
   "source": [
    "# you can also use pre-defined functions like len()\n",
    "words = [\"apple\", \"banana\", \"cherry\"]\n",
    "\n",
    "# Get the length of each word\n",
    "word_lengths = list(map(len, words))\n",
    "print(word_lengths)  "
   ]
  },
  {
   "cell_type": "markdown",
   "id": "6669fdcc-8dd5-46b1-9735-631fb927c248",
   "metadata": {
    "tags": []
   },
   "source": [
    "#### Combining map() with a lambda function\n",
    "* now it makes sense to use lambda functions because with them there is no need to define a function in advance"
   ]
  },
  {
   "cell_type": "code",
   "execution_count": 61,
   "id": "3a9a48e0-8c78-41f4-aa1a-beb5afe3ba5a",
   "metadata": {
    "tags": []
   },
   "outputs": [
    {
     "name": "stdout",
     "output_type": "stream",
     "text": [
      "[1, 4, 9, 16, 25]\n"
     ]
    }
   ],
   "source": [
    "numbers = [1, 2, 3, 4, 5]\n",
    "\n",
    "# Using lambda to square each number\n",
    "squared_numbers = map(lambda x: x ** 2, numbers)\n",
    "\n",
    "# converting and printing result\n",
    "squared_numbers_list = list(squared_numbers)\n",
    "print(squared_numbers_list)  # Output: [1, 4, 9, 16, 25]"
   ]
  },
  {
   "cell_type": "markdown",
   "id": "c3b882cf-60ee-418b-92e6-fce9c76a10f1",
   "metadata": {},
   "source": [
    "### 7.3 Filter\n",
    "* the filter() function in Python is a built-in function that allows you to filter elements from an iterable (like a list, tuple, etc.) based on a condition\n",
    "* The condition is specified by a function that returns either True or False for each element. Only the elements for which the function returns True are kept"
   ]
  },
  {
   "cell_type": "markdown",
   "id": "a53f6f1d-2c5f-4cdc-8069-1f8d0666cc67",
   "metadata": {},
   "source": [
    "Basic Syntax:\n",
    "**filter(function, iterable)**\n",
    "* function: A function that tests each element of the iterable. It should return True or False. If the function returns True, the element is included in the result; otherwise, it’s excluded.\n",
    "* iterable: The iterable (such as a list, tuple, etc.) whose elements will be filtered\n",
    "* You often need to convert the result to a list or tuple to access the filtered elements"
   ]
  },
  {
   "cell_type": "code",
   "execution_count": 63,
   "id": "e54cbd3b-65b7-4931-8be3-d89e7a1cf552",
   "metadata": {
    "tags": []
   },
   "outputs": [
    {
     "name": "stdout",
     "output_type": "stream",
     "text": [
      "[1, 3, 5]\n"
     ]
    }
   ],
   "source": [
    "def is_odd(number):\n",
    "    return number % 2 != 0\n",
    "\n",
    "numbers = [1, 2, 3, 4, 5, 6]\n",
    "\n",
    "# Using filter to get odd numbers\n",
    "odd_numbers = filter(is_odd, numbers)\n",
    "\n",
    "# Convert the filter object to a list\n",
    "odd_numbers_list = list(odd_numbers)\n",
    "print(odd_numbers_list)  \n"
   ]
  },
  {
   "cell_type": "markdown",
   "id": "b1666979-4faf-4acf-8c2f-36f3aed6b834",
   "metadata": {},
   "source": [
    "#### Combining filter() with a lambda function"
   ]
  },
  {
   "cell_type": "code",
   "execution_count": null,
   "id": "e80e9ce7-5512-4342-8d5f-e65898a45d8e",
   "metadata": {},
   "outputs": [],
   "source": [
    "numbers = [1, 2, 3, 4, 5, 6]\n",
    "\n",
    "# Using filter with a lambda to get odd numbers\n",
    "odd_numbers = list(filter(lambda x: x % 2 != 0, numbers))\n",
    "print(odd_numbers)  # Output: [1, 3, 5]"
   ]
  },
  {
   "cell_type": "markdown",
   "id": "e89e5df5-5486-4377-a1c8-bd7f91c6d881",
   "metadata": {},
   "source": [
    "### Exercise (more advanced)\n",
    "* write code to filter out words from the given list that are shorter than 5 letters\n",
    "* print the remaining list of words\n",
    "* try to do it once with a self-defined function and once with a lambda function"
   ]
  },
  {
   "cell_type": "code",
   "execution_count": 64,
   "id": "5ffb03b6-398e-4b24-9074-1790f3d1815e",
   "metadata": {
    "tags": []
   },
   "outputs": [],
   "source": [
    "# your solution\n",
    "\n",
    "words = [\"hello\", \"amazing\", \"advanced\", \"goal\", \"lambda\", \"test\"]"
   ]
  }
 ],
 "metadata": {
  "kernelspec": {
   "display_name": "Python 3 (ipykernel)",
   "language": "python",
   "name": "python3"
  },
  "language_info": {
   "codemirror_mode": {
    "name": "ipython",
    "version": 3
   },
   "file_extension": ".py",
   "mimetype": "text/x-python",
   "name": "python",
   "nbconvert_exporter": "python",
   "pygments_lexer": "ipython3",
   "version": "3.11.5"
  }
 },
 "nbformat": 4,
 "nbformat_minor": 5
}
