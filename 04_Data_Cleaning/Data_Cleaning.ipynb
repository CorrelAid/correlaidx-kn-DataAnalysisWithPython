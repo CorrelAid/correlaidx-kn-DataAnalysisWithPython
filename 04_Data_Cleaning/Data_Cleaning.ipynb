{
 "cells": [
  {
   "cell_type": "markdown",
   "metadata": {},
   "source": [
    "# Data Cleaning"
   ]
  },
  {
   "cell_type": "markdown",
   "metadata": {},
   "source": [
    "What is Data Cleaning?\n",
    "\n",
    "1. Definition of data cleaning\n",
    "2. Importance of clean data for analysis\n",
    "3. Common data issues (missing values, duplicates, inconsistent formats)\n",
    "4. Impact of unclean data on analysis -> Examples of data errors in real-life scenarios"
   ]
  },
  {
   "cell_type": "code",
   "execution_count": null,
   "metadata": {},
   "outputs": [],
   "source": [
    "# import packages\n",
    "\n",
    "import numpy as np\n",
    "import pandas as pd"
   ]
  },
  {
   "cell_type": "code",
   "execution_count": null,
   "metadata": {},
   "outputs": [],
   "source": [
    "# Artificial dataset\n",
    "\n",
    "data = {\n",
    "    'student_id': [1001, 1002, 1003, 1004, 1005, 1006, 1007, 1008, 1009, 1010],\n",
    "    'name': ['Alice', 'Bob', 'C@rla', 'David', 'Eve', 'Frank', np.nan, 'Hannah', 'Ian', 'Jessica'],\n",
    "    'age': [20, 'twenty-one', 22, 21, np.nan, 23, 22, 24, 'unknown', 22],\n",
    "    'gpa': [3.8, 2.9, 3.5, 4.1, np.nan, 2.5, 'n/a', 3.0, 2.7, 3.9],\n",
    "    'major': ['Physics', 'Mathematics', 'Computer Science', 'History', 'Physics', 'History', 'Psychology', 'Computer Science', np.nan, 'Mathematics'],\n",
    "    'enrollment_year': [2020, 2019, 2021, 2018, 2019, 2019, 2018, 2020, 2017, '2020ish'],\n",
    "    'credits_earned': [90, 120, np.nan, 100, 115, -5, 140, 100, 85, 'seventy'],\n",
    "    'clubs': ['Drama, Tennis', 'Chess', 'Coding Club, AI Club', np.nan, 'Drama, Football', 'Football', 'Chess', 'Drama', np.nan, 'Chess, AI Club'],\n",
    "    'grad_date': ['2023-05-10', np.nan, '2024-06-15', '2022-12-01', '2023-07-07', 'invalid', np.nan, '2024-06-15', 'NaT', '2023-05-10']\n",
    "}\n",
    "\n",
    "df = pd.DataFrame(data)"
   ]
  },
  {
   "cell_type": "markdown",
   "metadata": {},
   "source": [
    "*Task 1*: What problems/ issues do you detect in this data set?"
   ]
  },
  {
   "cell_type": "markdown",
   "metadata": {},
   "source": [
    "*Answer*: \n"
   ]
  },
  {
   "cell_type": "markdown",
   "metadata": {},
   "source": [
    "In the first step, check how much and what kind of data is missing.\n",
    "\n",
    "Keep in mind: missing data can be labeled differently. NA, 0, negative evalues (e.g. -99, -77) etc. --> always check the data documentation first. A value might be an NA in one column and a regular value in another one. be cautious, otherwise it ill mess up your analysis."
   ]
  },
  {
   "cell_type": "code",
   "execution_count": null,
   "metadata": {},
   "outputs": [],
   "source": [
    "# show a truth table for the whole data set - FALSE: regular value - TRUE: NA\n",
    "print(df.isnull())"
   ]
  },
  {
   "cell_type": "code",
   "execution_count": null,
   "metadata": {},
   "outputs": [],
   "source": [
    "# show summarizes number of NAs per column\n",
    "print(df.isnull().sum())"
   ]
  },
  {
   "cell_type": "markdown",
   "metadata": {},
   "source": [
    "How are you going to deal with the missing data?\n",
    "\n",
    "Drop all rows that have a missing value? Drop all colums? "
   ]
  },
  {
   "cell_type": "code",
   "execution_count": null,
   "metadata": {},
   "outputs": [],
   "source": [
    "# drop all rows that include at least one NA\n",
    "\n",
    "df.dropna()"
   ]
  },
  {
   "cell_type": "code",
   "execution_count": null,
   "metadata": {},
   "outputs": [],
   "source": [
    "# drop only variables in the c1 column\n",
    "\n",
    "df.dropna(subset=[\"clubs\"])"
   ]
  },
  {
   "cell_type": "code",
   "execution_count": null,
   "metadata": {},
   "outputs": [],
   "source": [
    "# drop all columns that include at least one NA\n",
    "\n",
    "df.dropna(axis=1)"
   ]
  },
  {
   "cell_type": "code",
   "execution_count": null,
   "metadata": {},
   "outputs": [],
   "source": [
    "# What if you want to change the value of the NA to something else? e.g. -99\n",
    "\n",
    "df.fillna(-99)"
   ]
  },
  {
   "cell_type": "markdown",
   "metadata": {},
   "source": [
    "## Cleaning of variable 'Age'"
   ]
  },
  {
   "cell_type": "code",
   "execution_count": null,
   "metadata": {},
   "outputs": [],
   "source": [
    "# Instead of dropping observations, you can also fill the NAs with the mean of the column -> of course this is only possible for numeric data like the age variable\n",
    "\n",
    "def convert_age(age):\n",
    "    if isinstance(age, str):\n",
    "        age = age.lower()\n",
    "        if age == 'twenty-one':\n",
    "            age = 21\n",
    "        elif age == 'unknown':\n",
    "            age = np.nan\n",
    "    return pd.to_numeric(age, errors='coerce')\n",
    "\n",
    "# Non-numeric strings are converted to numeric values or NaN\n",
    "df['age'] = df['age'].apply(convert_age)\n",
    "\n",
    "# Missing values are then filled with the median age\n",
    "df['age'].fillna(df['age'].median(), inplace=True)\n",
    "\n",
    "print(df.isnull().sum())"
   ]
  },
  {
   "cell_type": "markdown",
   "metadata": {},
   "source": [
    "## Cleaning of variable 'GPA'"
   ]
  },
  {
   "cell_type": "code",
   "execution_count": null,
   "metadata": {},
   "outputs": [],
   "source": [
    "# GPA values are coerced to numeric, and invalid values (outside 0.0-4.0) are set to NaN\n",
    "df['gpa'] = pd.to_numeric(df['gpa'], errors='coerce')\n",
    "df['gpa'] = df['gpa'].apply(lambda x: np.nan if x > 4.0 or x < 0.0 else x)\n",
    "\n",
    "# Missing GPAs are filled with the mean GPA\n",
    "df['gpa'].fillna(df['gpa'].mean(), inplace=True)\n",
    "\n",
    "print(df.isnull().sum())\n",
    "df['gpa']"
   ]
  },
  {
   "cell_type": "markdown",
   "metadata": {},
   "source": [
    "## Cleaning of variable 'Enrollment Year'"
   ]
  },
  {
   "cell_type": "markdown",
   "metadata": {},
   "source": [
    "Task 2: Clean the variable 'Enrollment Year'"
   ]
  },
  {
   "cell_type": "code",
   "execution_count": null,
   "metadata": {},
   "outputs": [],
   "source": [
    "# Non-numeric values are converted to numeric\n",
    "\n",
    "# Missing values are filled with the most common year\n"
   ]
  },
  {
   "cell_type": "markdown",
   "metadata": {},
   "source": [
    "## Cleaning of variable 'Credits Earned'"
   ]
  },
  {
   "cell_type": "code",
   "execution_count": null,
   "metadata": {},
   "outputs": [],
   "source": [
    "# A function is written that is supposed to automate the cleaning process\n",
    "def convert_credits(credits):\n",
    "    if isinstance(credits, str):\n",
    "        if credits.lower() == 'seventy':\n",
    "            credits = 70\n",
    "    credits = pd.to_numeric(credits, errors='coerce')\n",
    "\n",
    "    if credits >= 0:\n",
    "        return credits\n",
    "    else:\n",
    "        return np.nan\n",
    "    \n",
    "# Strings are converted to numeric, and negative or invalid values are replaced with NaN.\n",
    "df['credits_earned'] = df['credits_earned'].apply(convert_credits)\n",
    "\n",
    "# Missing values are filled with the median\n",
    "df['credits_earned'].fillna(df['credits_earned'].median(), inplace=True)\n",
    "\n",
    "print(df.isnull().sum())\n",
    "\n",
    "df['credits_earned']"
   ]
  },
  {
   "cell_type": "markdown",
   "metadata": {},
   "source": [
    "## Cleaning of variable 'Graduation Date'"
   ]
  },
  {
   "cell_type": "code",
   "execution_count": null,
   "metadata": {},
   "outputs": [],
   "source": [
    "# Invalid graduation dates are converted to NaT (Not a Time), and proper date formatting is ensured\n",
    "df['grad_date'] = pd.to_datetime(df['grad_date'], errors='coerce')\n",
    "\n",
    "print(df.isnull().sum())\n",
    "# we can see that we have actually increased the number of NAs in the grad_date column\n",
    "df['grad_date']"
   ]
  },
  {
   "cell_type": "markdown",
   "metadata": {},
   "source": [
    "## Cleaning of variable 'Name'\n",
    "\n",
    "Task 3: Clean the 'name' column yourself"
   ]
  },
  {
   "cell_type": "code",
   "execution_count": null,
   "metadata": {},
   "outputs": [],
   "source": []
  },
  {
   "cell_type": "markdown",
   "metadata": {},
   "source": [
    "## Cleaning of variable 'Club Membership'\n",
    "\n",
    "Task 4: Replace missing values in the clubs column with 'No Clubs'"
   ]
  },
  {
   "cell_type": "code",
   "execution_count": null,
   "metadata": {},
   "outputs": [],
   "source": []
  }
 ],
 "metadata": {
  "kernelspec": {
   "display_name": "venv",
   "language": "python",
   "name": "venv"
  },
  "language_info": {
   "codemirror_mode": {
    "name": "ipython",
    "version": 3
   },
   "file_extension": ".py",
   "mimetype": "text/x-python",
   "name": "python",
   "nbconvert_exporter": "python",
   "pygments_lexer": "ipython3",
   "version": "3.12.5"
  }
 },
 "nbformat": 4,
 "nbformat_minor": 2
}
