{
 "cells": [
  {
   "cell_type": "markdown",
   "metadata": {},
   "source": [
    "# Data Analysis with pandas"
   ]
  },
  {
   "cell_type": "markdown",
   "metadata": {},
   "source": [
    "Today's session will introduce two libraries central to data analysis in python.\n",
    "\n",
    "First things first: What is a library?\n",
    "\n",
    "Python like any other programming language has a finite number of native functions. It does however allow anyone to write and share extentions. These are called \"packages\" or \"libraries\" and can usually be downloaded from the internet.\n",
    "\n",
    "Anaconda comes with pandas and numpy pre-installed so we can get started immediately! If you have another python installation you might need to install the packages first to your machine.\n",
    "\n",
    "Example code for installing:\n",
    "\n",
    "`!pip install pandas`\\\n",
    "`!pip install numpy`\n",
    "\n",
    "the ! operator sends a line of code from your markdown chunk to your terminal\n"
   ]
  },
  {
   "cell_type": "code",
   "execution_count": null,
   "metadata": {},
   "outputs": [],
   "source": [
    "import pandas as pd "
   ]
  },
  {
   "cell_type": "markdown",
   "metadata": {},
   "source": [
    "### 1 ) Back to data structures"
   ]
  },
  {
   "cell_type": "markdown",
   "metadata": {},
   "source": [
    "What do we call these guys? Hint: If you can't remember use the `type()` function."
   ]
  },
  {
   "cell_type": "code",
   "execution_count": null,
   "metadata": {},
   "outputs": [],
   "source": [
    "x = [\"Allmannsdorf\",\n",
    "    \"Altstadt\",\n",
    "    \"Fürstenberg\",\n",
    "    \"Königsbau\",\n",
    "    \"Paradies\",\n",
    "    \"Petershausen-E\",\n",
    "    \"Petershausen-W\",\n",
    "    \"Wollmatingen\"]\n",
    "\n",
    "\n",
    "y = [5348,\n",
    "    12138,\n",
    "    12500,\n",
    "    6181,\n",
    "    6097,\n",
    "    7248,\n",
    "    16021,\n",
    "    6775]\n",
    "\n",
    "z = [1,2,\"three\", 4, 5, 6, \"seven\", 8]"
   ]
  },
  {
   "cell_type": "markdown",
   "metadata": {},
   "source": [
    "Our objects are 1-dimensional but a lot of real-world data is 2-dimensional or tabular. How do we model this in python?\n",
    "\n",
    "pandas introduces a new datatype called `DataFrames` for 2-dimensional data that consists of 1-dim. `Series`.\n",
    "\n",
    "### Creating dataframes from existing data\n"
   ]
  },
  {
   "cell_type": "markdown",
   "metadata": {},
   "source": [
    "To create a dataframe we can use existing objects like arrays, dictionaries and other dataframes but sticking to dictionaries is best for our purposes today."
   ]
  },
  {
   "cell_type": "code",
   "execution_count": null,
   "metadata": {},
   "outputs": [],
   "source": [
    "# Create a dictionary and use it as an argument to construct a df\n",
    "KN_dict = {\"Part\":x,\n",
    "           \"Population\":y,\n",
    "           \"Number\": z}\n",
    "\n",
    "df1 = pd.DataFrame(data = KN_dict)\n",
    "#     pd.DataFrame({\"Part\":x, \"Population\":y, \"Number\": z}) # shorthand notation\n",
    "\n",
    "print(df1.shape)\n",
    "df1"
   ]
  },
  {
   "cell_type": "markdown",
   "metadata": {},
   "source": [
    "The shape of our dataframe is (8, 3 ) meaning 8 rows and 3 columns. Each column is a pandas specific datatype called a `Series` . We can select columns by specifying the name, and row by specifying the index:"
   ]
  },
  {
   "cell_type": "code",
   "execution_count": null,
   "metadata": {},
   "outputs": [],
   "source": [
    "print(type(df1['Population']))\n",
    "df1['Population'] # Select column"
   ]
  },
  {
   "cell_type": "code",
   "execution_count": null,
   "metadata": {},
   "outputs": [],
   "source": [
    "df1.iloc[1] # select row"
   ]
  },
  {
   "cell_type": "code",
   "execution_count": null,
   "metadata": {},
   "outputs": [],
   "source": [
    "df1['Part'].iloc[2] # select col-row by location"
   ]
  },
  {
   "cell_type": "code",
   "execution_count": null,
   "metadata": {},
   "outputs": [],
   "source": [
    "df1['Part'][2]  # This searches for index label! Can fail if you have messy indeces"
   ]
  },
  {
   "cell_type": "markdown",
   "metadata": {},
   "source": [
    "We can evaluate logical statements on a pd Series object: This returns `True` for every part of town with more than 7000 people."
   ]
  },
  {
   "cell_type": "code",
   "execution_count": null,
   "metadata": {},
   "outputs": [],
   "source": [
    "df1['Population'] > 7000"
   ]
  },
  {
   "cell_type": "markdown",
   "metadata": {},
   "source": [
    "Series are 1-dim arrays like lists, but they allow only one datatype. What happens when we create one from a mixed list like z?"
   ]
  },
  {
   "cell_type": "code",
   "execution_count": null,
   "metadata": {},
   "outputs": [],
   "source": [
    "df1['Number']"
   ]
  },
  {
   "cell_type": "markdown",
   "metadata": {},
   "source": [
    "We can make use of series and dataframes with pandas extensive methods catalogue, e.g basic statistics like min / max / mean / median."
   ]
  },
  {
   "cell_type": "code",
   "execution_count": null,
   "metadata": {},
   "outputs": [],
   "source": [
    "print('Mean:', df1['Population'].mean(),\n",
    "      '\\nMax:', df1['Population'].median())"
   ]
  },
  {
   "cell_type": "markdown",
   "metadata": {},
   "source": [
    "### Exercise:\n",
    "- Select the first element from the Population column\n",
    "- Select the last row of the dataframe \n",
    "- print all names in the `Part` column\n",
    "- How many people live in the biggest part of town?"
   ]
  },
  {
   "cell_type": "code",
   "execution_count": null,
   "metadata": {},
   "outputs": [],
   "source": [
    "df1['Population'][0]"
   ]
  },
  {
   "cell_type": "code",
   "execution_count": null,
   "metadata": {},
   "outputs": [],
   "source": [
    "df1.iloc[-1]"
   ]
  },
  {
   "cell_type": "code",
   "execution_count": null,
   "metadata": {},
   "outputs": [],
   "source": [
    "for part in df1['Part']:\n",
    "    print(part)"
   ]
  },
  {
   "cell_type": "code",
   "execution_count": null,
   "metadata": {},
   "outputs": [],
   "source": [
    "df1['Population'].max()"
   ]
  },
  {
   "cell_type": "markdown",
   "metadata": {},
   "source": [
    "## 2) Loading real world data"
   ]
  },
  {
   "cell_type": "markdown",
   "metadata": {},
   "source": [
    "pandas has `read` and `write` functions that works with most common data filetypes such as\n",
    "- `csv`\n",
    "- `json`\n",
    "- `sql`\n",
    "- `excel`\n",
    "- `stata`\n",
    "\n",
    "In the most basic case we just specify a filepath and read in our data. If you use a relative filepath as we do in the example below, make sure to check that your file is actually in your working directory. \n",
    "\n",
    "Sometimes we have to specify certain arguments such as seperators or index columns."
   ]
  },
  {
   "cell_type": "code",
   "execution_count": null,
   "metadata": {},
   "outputs": [],
   "source": [
    "movies = pd.read_csv(\"imdb_top_1000.csv\")"
   ]
  },
  {
   "cell_type": "markdown",
   "metadata": {},
   "source": [
    "## 3) Inspecting our data"
   ]
  },
  {
   "cell_type": "markdown",
   "metadata": {},
   "source": [
    "What methods does pandas offer us for a quick overview of our data?"
   ]
  },
  {
   "cell_type": "code",
   "execution_count": null,
   "metadata": {},
   "outputs": [],
   "source": [
    "print(movies.shape)\n",
    "movies.head(3)"
   ]
  },
  {
   "cell_type": "code",
   "execution_count": null,
   "metadata": {},
   "outputs": [],
   "source": [
    "movies.info()"
   ]
  },
  {
   "cell_type": "code",
   "execution_count": null,
   "metadata": {},
   "outputs": [],
   "source": [
    "movies.describe()"
   ]
  },
  {
   "cell_type": "markdown",
   "metadata": {},
   "source": [
    "Let's check our column names.\n",
    "\n",
    "\"Series_Title\" is too long for our taste. Let's rename it:\n",
    "\n",
    "By assigning to the same name we overwrite our object, the old version of `movies` is now gone!"
   ]
  },
  {
   "cell_type": "code",
   "execution_count": null,
   "metadata": {},
   "outputs": [],
   "source": [
    "movies.columns"
   ]
  },
  {
   "cell_type": "code",
   "execution_count": null,
   "metadata": {},
   "outputs": [],
   "source": [
    "movies = movies.rename(columns={'Series_Title':'Title'})\n",
    "movies.columns"
   ]
  },
  {
   "cell_type": "markdown",
   "metadata": {},
   "source": [
    "Getting some more info on individual variables"
   ]
  },
  {
   "cell_type": "code",
   "execution_count": null,
   "metadata": {},
   "outputs": [],
   "source": [
    "movies['Genre'].value_counts()"
   ]
  },
  {
   "cell_type": "code",
   "execution_count": null,
   "metadata": {},
   "outputs": [],
   "source": [
    "movies['Director'].unique()"
   ]
  },
  {
   "cell_type": "markdown",
   "metadata": {},
   "source": [
    "## 4) Subsets and Filtering\n",
    "\n",
    "This is how we subset by specific variables: \n",
    "We can also subset our observations by selecting specifc columns. As we save to a different name, `movies` remains untouched.\n",
    "\n",
    "A similar logic applies to sorting, where we either have to assign the sorted object to something or perform the operation inplace."
   ]
  },
  {
   "cell_type": "code",
   "execution_count": null,
   "metadata": {},
   "outputs": [],
   "source": [
    "times = movies[['Runtime', 'Title']]\n",
    "times"
   ]
  },
  {
   "cell_type": "code",
   "execution_count": null,
   "metadata": {},
   "outputs": [],
   "source": [
    "times.sort_values(\"Title\") # This just prints a sorted df, object is unaltered"
   ]
  },
  {
   "cell_type": "code",
   "execution_count": null,
   "metadata": {},
   "outputs": [],
   "source": [
    "# This actually assigns the sorted output but from back to front\n",
    "times_sorted = times.sort_values(\"Title\", ascending = False) \n",
    "times_sorted"
   ]
  },
  {
   "cell_type": "markdown",
   "metadata": {},
   "source": [
    "Or subset by datatype"
   ]
  },
  {
   "cell_type": "code",
   "execution_count": null,
   "metadata": {},
   "outputs": [],
   "source": [
    "numeric_movies = movies.select_dtypes(include = 'number')\n",
    "numeric_movies"
   ]
  },
  {
   "cell_type": "code",
   "execution_count": null,
   "metadata": {},
   "outputs": [],
   "source": [
    "numeric_movies.corr()"
   ]
  },
  {
   "cell_type": "markdown",
   "metadata": {},
   "source": [
    "To filter your data by specific values we specify the condition in square brackets.\n",
    "\n",
    "We filter by evaluating logical statements.\n",
    "- Exactly matching values `==`\n",
    "- comparing values `<` / `>`\n",
    "- link conditions with: `&` (and) `|` (or)\n",
    "\n",
    "- Drop undesired observations with `!=`"
   ]
  },
  {
   "cell_type": "code",
   "execution_count": null,
   "metadata": {},
   "outputs": [],
   "source": [
    "movies_2014 = movies[movies['Released_Year'] == '2014']\n",
    "movies_2014\n"
   ]
  },
  {
   "cell_type": "code",
   "execution_count": 43,
   "metadata": {},
   "outputs": [
    {
     "data": {
      "text/html": [
       "<div>\n",
       "<style scoped>\n",
       "    .dataframe tbody tr th:only-of-type {\n",
       "        vertical-align: middle;\n",
       "    }\n",
       "\n",
       "    .dataframe tbody tr th {\n",
       "        vertical-align: top;\n",
       "    }\n",
       "\n",
       "    .dataframe thead th {\n",
       "        text-align: right;\n",
       "    }\n",
       "</style>\n",
       "<table border=\"1\" class=\"dataframe\">\n",
       "  <thead>\n",
       "    <tr style=\"text-align: right;\">\n",
       "      <th></th>\n",
       "      <th>Poster_Link</th>\n",
       "      <th>Title</th>\n",
       "      <th>Released_Year</th>\n",
       "      <th>Certificate</th>\n",
       "      <th>Runtime</th>\n",
       "      <th>Genre</th>\n",
       "      <th>IMDB_Rating</th>\n",
       "      <th>Overview</th>\n",
       "      <th>Meta_score</th>\n",
       "      <th>Director</th>\n",
       "      <th>Star1</th>\n",
       "      <th>Star2</th>\n",
       "      <th>Star3</th>\n",
       "      <th>Star4</th>\n",
       "      <th>No_of_Votes</th>\n",
       "      <th>Gross</th>\n",
       "    </tr>\n",
       "  </thead>\n",
       "  <tbody>\n",
       "    <tr>\n",
       "      <th>1</th>\n",
       "      <td>https://m.media-amazon.com/images/M/MV5BM2MyNj...</td>\n",
       "      <td>The Godfather</td>\n",
       "      <td>1972</td>\n",
       "      <td>A</td>\n",
       "      <td>175 min</td>\n",
       "      <td>Crime, Drama</td>\n",
       "      <td>9.2</td>\n",
       "      <td>An organized crime dynasty's aging patriarch t...</td>\n",
       "      <td>100.0</td>\n",
       "      <td>Francis Ford Coppola</td>\n",
       "      <td>Marlon Brando</td>\n",
       "      <td>Al Pacino</td>\n",
       "      <td>James Caan</td>\n",
       "      <td>Diane Keaton</td>\n",
       "      <td>1620367</td>\n",
       "      <td>134,966,411</td>\n",
       "    </tr>\n",
       "    <tr>\n",
       "      <th>50</th>\n",
       "      <td>https://m.media-amazon.com/images/M/MV5BY2IzZG...</td>\n",
       "      <td>Casablanca</td>\n",
       "      <td>1942</td>\n",
       "      <td>U</td>\n",
       "      <td>102 min</td>\n",
       "      <td>Drama, Romance, War</td>\n",
       "      <td>8.5</td>\n",
       "      <td>A cynical expatriate American cafe owner strug...</td>\n",
       "      <td>100.0</td>\n",
       "      <td>Michael Curtiz</td>\n",
       "      <td>Humphrey Bogart</td>\n",
       "      <td>Ingrid Bergman</td>\n",
       "      <td>Paul Henreid</td>\n",
       "      <td>Claude Rains</td>\n",
       "      <td>522093</td>\n",
       "      <td>1,024,560</td>\n",
       "    </tr>\n",
       "    <tr>\n",
       "      <th>81</th>\n",
       "      <td>https://m.media-amazon.com/images/M/MV5BNGUxYW...</td>\n",
       "      <td>Rear Window</td>\n",
       "      <td>1954</td>\n",
       "      <td>U</td>\n",
       "      <td>112 min</td>\n",
       "      <td>Mystery, Thriller</td>\n",
       "      <td>8.4</td>\n",
       "      <td>A wheelchair-bound photographer spies on his n...</td>\n",
       "      <td>100.0</td>\n",
       "      <td>Alfred Hitchcock</td>\n",
       "      <td>James Stewart</td>\n",
       "      <td>Grace Kelly</td>\n",
       "      <td>Wendell Corey</td>\n",
       "      <td>Thelma Ritter</td>\n",
       "      <td>444074</td>\n",
       "      <td>36,764,313</td>\n",
       "    </tr>\n",
       "    <tr>\n",
       "      <th>116</th>\n",
       "      <td>https://m.media-amazon.com/images/M/MV5BYWY5Zj...</td>\n",
       "      <td>Lawrence of Arabia</td>\n",
       "      <td>1962</td>\n",
       "      <td>U</td>\n",
       "      <td>228 min</td>\n",
       "      <td>Adventure, Biography, Drama</td>\n",
       "      <td>8.3</td>\n",
       "      <td>The story of T.E. Lawrence, the English office...</td>\n",
       "      <td>100.0</td>\n",
       "      <td>David Lean</td>\n",
       "      <td>Peter O'Toole</td>\n",
       "      <td>Alec Guinness</td>\n",
       "      <td>Anthony Quinn</td>\n",
       "      <td>Jack Hawkins</td>\n",
       "      <td>268085</td>\n",
       "      <td>44,824,144</td>\n",
       "    </tr>\n",
       "    <tr>\n",
       "      <th>119</th>\n",
       "      <td>https://m.media-amazon.com/images/M/MV5BYTE4OD...</td>\n",
       "      <td>Vertigo</td>\n",
       "      <td>1958</td>\n",
       "      <td>A</td>\n",
       "      <td>128 min</td>\n",
       "      <td>Mystery, Romance, Thriller</td>\n",
       "      <td>8.3</td>\n",
       "      <td>A former police detective juggles wrestling wi...</td>\n",
       "      <td>100.0</td>\n",
       "      <td>Alfred Hitchcock</td>\n",
       "      <td>James Stewart</td>\n",
       "      <td>Kim Novak</td>\n",
       "      <td>Barbara Bel Geddes</td>\n",
       "      <td>Tom Helmore</td>\n",
       "      <td>364368</td>\n",
       "      <td>3,200,000</td>\n",
       "    </tr>\n",
       "    <tr>\n",
       "      <th>124</th>\n",
       "      <td>https://m.media-amazon.com/images/M/MV5BYjBiOT...</td>\n",
       "      <td>Citizen Kane</td>\n",
       "      <td>1941</td>\n",
       "      <td>UA</td>\n",
       "      <td>119 min</td>\n",
       "      <td>Drama, Mystery</td>\n",
       "      <td>8.3</td>\n",
       "      <td>Following the death of publishing tycoon Charl...</td>\n",
       "      <td>100.0</td>\n",
       "      <td>Orson Welles</td>\n",
       "      <td>Orson Welles</td>\n",
       "      <td>Joseph Cotten</td>\n",
       "      <td>Dorothy Comingore</td>\n",
       "      <td>Agnes Moorehead</td>\n",
       "      <td>403351</td>\n",
       "      <td>1,585,634</td>\n",
       "    </tr>\n",
       "    <tr>\n",
       "      <th>260</th>\n",
       "      <td>https://m.media-amazon.com/images/M/MV5BYTg1Mm...</td>\n",
       "      <td>Trois couleurs: Rouge</td>\n",
       "      <td>1994</td>\n",
       "      <td>U</td>\n",
       "      <td>99 min</td>\n",
       "      <td>Drama, Mystery, Romance</td>\n",
       "      <td>8.1</td>\n",
       "      <td>A model discovers a retired judge is keen on i...</td>\n",
       "      <td>100.0</td>\n",
       "      <td>Krzysztof Kieslowski</td>\n",
       "      <td>Irène Jacob</td>\n",
       "      <td>Jean-Louis Trintignant</td>\n",
       "      <td>Frédérique Feder</td>\n",
       "      <td>Jean-Pierre Lorit</td>\n",
       "      <td>90729</td>\n",
       "      <td>4,043,686</td>\n",
       "    </tr>\n",
       "    <tr>\n",
       "      <th>274</th>\n",
       "      <td>https://m.media-amazon.com/images/M/MV5BZmQzMD...</td>\n",
       "      <td>Fanny och Alexander</td>\n",
       "      <td>1982</td>\n",
       "      <td>A</td>\n",
       "      <td>188 min</td>\n",
       "      <td>Drama</td>\n",
       "      <td>8.1</td>\n",
       "      <td>Two young Swedish children experience the many...</td>\n",
       "      <td>100.0</td>\n",
       "      <td>Ingmar Bergman</td>\n",
       "      <td>Bertil Guve</td>\n",
       "      <td>Pernilla Allwin</td>\n",
       "      <td>Kristina Adolphson</td>\n",
       "      <td>Börje Ahlstedt</td>\n",
       "      <td>57784</td>\n",
       "      <td>4,971,340</td>\n",
       "    </tr>\n",
       "    <tr>\n",
       "      <th>423</th>\n",
       "      <td>https://m.media-amazon.com/images/M/MV5BODFlYz...</td>\n",
       "      <td>Il conformista</td>\n",
       "      <td>1970</td>\n",
       "      <td>UA</td>\n",
       "      <td>113 min</td>\n",
       "      <td>Drama</td>\n",
       "      <td>8.0</td>\n",
       "      <td>A weak-willed Italian man becomes a fascist fl...</td>\n",
       "      <td>100.0</td>\n",
       "      <td>Bernardo Bertolucci</td>\n",
       "      <td>Jean-Louis Trintignant</td>\n",
       "      <td>Stefania Sandrelli</td>\n",
       "      <td>Gastone Moschin</td>\n",
       "      <td>Enzo Tarascio</td>\n",
       "      <td>27067</td>\n",
       "      <td>541,940</td>\n",
       "    </tr>\n",
       "    <tr>\n",
       "      <th>440</th>\n",
       "      <td>https://m.media-amazon.com/images/M/MV5BMjE5NT...</td>\n",
       "      <td>Sweet Smell of Success</td>\n",
       "      <td>1957</td>\n",
       "      <td>Approved</td>\n",
       "      <td>96 min</td>\n",
       "      <td>Drama, Film-Noir</td>\n",
       "      <td>8.0</td>\n",
       "      <td>Powerful but unethical Broadway columnist J.J....</td>\n",
       "      <td>100.0</td>\n",
       "      <td>Alexander Mackendrick</td>\n",
       "      <td>Burt Lancaster</td>\n",
       "      <td>Tony Curtis</td>\n",
       "      <td>Susan Harrison</td>\n",
       "      <td>Martin Milner</td>\n",
       "      <td>28137</td>\n",
       "      <td>NaN</td>\n",
       "    </tr>\n",
       "    <tr>\n",
       "      <th>491</th>\n",
       "      <td>https://m.media-amazon.com/images/M/MV5BMTYzND...</td>\n",
       "      <td>Boyhood</td>\n",
       "      <td>2014</td>\n",
       "      <td>A</td>\n",
       "      <td>165 min</td>\n",
       "      <td>Drama</td>\n",
       "      <td>7.9</td>\n",
       "      <td>The life of Mason, from early childhood to his...</td>\n",
       "      <td>100.0</td>\n",
       "      <td>Richard Linklater</td>\n",
       "      <td>Ellar Coltrane</td>\n",
       "      <td>Patricia Arquette</td>\n",
       "      <td>Ethan Hawke</td>\n",
       "      <td>Elijah Smith</td>\n",
       "      <td>335533</td>\n",
       "      <td>25,379,975</td>\n",
       "    </tr>\n",
       "    <tr>\n",
       "      <th>559</th>\n",
       "      <td>https://m.media-amazon.com/images/M/MV5BYTc1NG...</td>\n",
       "      <td>Notorious</td>\n",
       "      <td>1946</td>\n",
       "      <td>U</td>\n",
       "      <td>102 min</td>\n",
       "      <td>Drama, Film-Noir, Romance</td>\n",
       "      <td>7.9</td>\n",
       "      <td>A woman is asked to spy on a group of Nazi fri...</td>\n",
       "      <td>100.0</td>\n",
       "      <td>Alfred Hitchcock</td>\n",
       "      <td>Cary Grant</td>\n",
       "      <td>Ingrid Bergman</td>\n",
       "      <td>Claude Rains</td>\n",
       "      <td>Louis Calhern</td>\n",
       "      <td>92306</td>\n",
       "      <td>10,464,000</td>\n",
       "    </tr>\n",
       "  </tbody>\n",
       "</table>\n",
       "</div>"
      ],
      "text/plain": [
       "                                           Poster_Link  \\\n",
       "1    https://m.media-amazon.com/images/M/MV5BM2MyNj...   \n",
       "50   https://m.media-amazon.com/images/M/MV5BY2IzZG...   \n",
       "81   https://m.media-amazon.com/images/M/MV5BNGUxYW...   \n",
       "116  https://m.media-amazon.com/images/M/MV5BYWY5Zj...   \n",
       "119  https://m.media-amazon.com/images/M/MV5BYTE4OD...   \n",
       "124  https://m.media-amazon.com/images/M/MV5BYjBiOT...   \n",
       "260  https://m.media-amazon.com/images/M/MV5BYTg1Mm...   \n",
       "274  https://m.media-amazon.com/images/M/MV5BZmQzMD...   \n",
       "423  https://m.media-amazon.com/images/M/MV5BODFlYz...   \n",
       "440  https://m.media-amazon.com/images/M/MV5BMjE5NT...   \n",
       "491  https://m.media-amazon.com/images/M/MV5BMTYzND...   \n",
       "559  https://m.media-amazon.com/images/M/MV5BYTc1NG...   \n",
       "\n",
       "                      Title Released_Year Certificate  Runtime  \\\n",
       "1             The Godfather          1972           A  175 min   \n",
       "50               Casablanca          1942           U  102 min   \n",
       "81              Rear Window          1954           U  112 min   \n",
       "116      Lawrence of Arabia          1962           U  228 min   \n",
       "119                 Vertigo          1958           A  128 min   \n",
       "124            Citizen Kane          1941          UA  119 min   \n",
       "260   Trois couleurs: Rouge          1994           U   99 min   \n",
       "274     Fanny och Alexander          1982           A  188 min   \n",
       "423          Il conformista          1970          UA  113 min   \n",
       "440  Sweet Smell of Success          1957    Approved   96 min   \n",
       "491                 Boyhood          2014           A  165 min   \n",
       "559               Notorious          1946           U  102 min   \n",
       "\n",
       "                           Genre  IMDB_Rating  \\\n",
       "1                   Crime, Drama          9.2   \n",
       "50           Drama, Romance, War          8.5   \n",
       "81             Mystery, Thriller          8.4   \n",
       "116  Adventure, Biography, Drama          8.3   \n",
       "119   Mystery, Romance, Thriller          8.3   \n",
       "124               Drama, Mystery          8.3   \n",
       "260      Drama, Mystery, Romance          8.1   \n",
       "274                        Drama          8.1   \n",
       "423                        Drama          8.0   \n",
       "440             Drama, Film-Noir          8.0   \n",
       "491                        Drama          7.9   \n",
       "559    Drama, Film-Noir, Romance          7.9   \n",
       "\n",
       "                                              Overview  Meta_score  \\\n",
       "1    An organized crime dynasty's aging patriarch t...       100.0   \n",
       "50   A cynical expatriate American cafe owner strug...       100.0   \n",
       "81   A wheelchair-bound photographer spies on his n...       100.0   \n",
       "116  The story of T.E. Lawrence, the English office...       100.0   \n",
       "119  A former police detective juggles wrestling wi...       100.0   \n",
       "124  Following the death of publishing tycoon Charl...       100.0   \n",
       "260  A model discovers a retired judge is keen on i...       100.0   \n",
       "274  Two young Swedish children experience the many...       100.0   \n",
       "423  A weak-willed Italian man becomes a fascist fl...       100.0   \n",
       "440  Powerful but unethical Broadway columnist J.J....       100.0   \n",
       "491  The life of Mason, from early childhood to his...       100.0   \n",
       "559  A woman is asked to spy on a group of Nazi fri...       100.0   \n",
       "\n",
       "                  Director                   Star1                   Star2  \\\n",
       "1     Francis Ford Coppola           Marlon Brando               Al Pacino   \n",
       "50          Michael Curtiz         Humphrey Bogart          Ingrid Bergman   \n",
       "81        Alfred Hitchcock           James Stewart             Grace Kelly   \n",
       "116             David Lean           Peter O'Toole           Alec Guinness   \n",
       "119       Alfred Hitchcock           James Stewart               Kim Novak   \n",
       "124           Orson Welles            Orson Welles           Joseph Cotten   \n",
       "260   Krzysztof Kieslowski             Irène Jacob  Jean-Louis Trintignant   \n",
       "274         Ingmar Bergman             Bertil Guve         Pernilla Allwin   \n",
       "423    Bernardo Bertolucci  Jean-Louis Trintignant      Stefania Sandrelli   \n",
       "440  Alexander Mackendrick          Burt Lancaster             Tony Curtis   \n",
       "491      Richard Linklater          Ellar Coltrane       Patricia Arquette   \n",
       "559       Alfred Hitchcock              Cary Grant          Ingrid Bergman   \n",
       "\n",
       "                  Star3              Star4  No_of_Votes        Gross  \n",
       "1            James Caan       Diane Keaton      1620367  134,966,411  \n",
       "50         Paul Henreid       Claude Rains       522093    1,024,560  \n",
       "81        Wendell Corey      Thelma Ritter       444074   36,764,313  \n",
       "116       Anthony Quinn       Jack Hawkins       268085   44,824,144  \n",
       "119  Barbara Bel Geddes        Tom Helmore       364368    3,200,000  \n",
       "124   Dorothy Comingore    Agnes Moorehead       403351    1,585,634  \n",
       "260    Frédérique Feder  Jean-Pierre Lorit        90729    4,043,686  \n",
       "274  Kristina Adolphson     Börje Ahlstedt        57784    4,971,340  \n",
       "423     Gastone Moschin      Enzo Tarascio        27067      541,940  \n",
       "440      Susan Harrison      Martin Milner        28137          NaN  \n",
       "491         Ethan Hawke       Elijah Smith       335533   25,379,975  \n",
       "559        Claude Rains      Louis Calhern        92306   10,464,000  "
      ]
     },
     "execution_count": 43,
     "metadata": {},
     "output_type": "execute_result"
    }
   ],
   "source": [
    "top_movies = movies[movies['Meta_score'] > 99]\n",
    "top_movies"
   ]
  },
  {
   "cell_type": "code",
   "execution_count": 44,
   "metadata": {},
   "outputs": [
    {
     "data": {
      "text/html": [
       "<div>\n",
       "<style scoped>\n",
       "    .dataframe tbody tr th:only-of-type {\n",
       "        vertical-align: middle;\n",
       "    }\n",
       "\n",
       "    .dataframe tbody tr th {\n",
       "        vertical-align: top;\n",
       "    }\n",
       "\n",
       "    .dataframe thead th {\n",
       "        text-align: right;\n",
       "    }\n",
       "</style>\n",
       "<table border=\"1\" class=\"dataframe\">\n",
       "  <thead>\n",
       "    <tr style=\"text-align: right;\">\n",
       "      <th></th>\n",
       "      <th>Poster_Link</th>\n",
       "      <th>Title</th>\n",
       "      <th>Released_Year</th>\n",
       "      <th>Certificate</th>\n",
       "      <th>Runtime</th>\n",
       "      <th>Genre</th>\n",
       "      <th>IMDB_Rating</th>\n",
       "      <th>Overview</th>\n",
       "      <th>Meta_score</th>\n",
       "      <th>Director</th>\n",
       "      <th>Star1</th>\n",
       "      <th>Star2</th>\n",
       "      <th>Star3</th>\n",
       "      <th>Star4</th>\n",
       "      <th>No_of_Votes</th>\n",
       "      <th>Gross</th>\n",
       "    </tr>\n",
       "  </thead>\n",
       "  <tbody>\n",
       "    <tr>\n",
       "      <th>491</th>\n",
       "      <td>https://m.media-amazon.com/images/M/MV5BMTYzND...</td>\n",
       "      <td>Boyhood</td>\n",
       "      <td>2014</td>\n",
       "      <td>A</td>\n",
       "      <td>165 min</td>\n",
       "      <td>Drama</td>\n",
       "      <td>7.9</td>\n",
       "      <td>The life of Mason, from early childhood to his...</td>\n",
       "      <td>100.0</td>\n",
       "      <td>Richard Linklater</td>\n",
       "      <td>Ellar Coltrane</td>\n",
       "      <td>Patricia Arquette</td>\n",
       "      <td>Ethan Hawke</td>\n",
       "      <td>Elijah Smith</td>\n",
       "      <td>335533</td>\n",
       "      <td>25,379,975</td>\n",
       "    </tr>\n",
       "  </tbody>\n",
       "</table>\n",
       "</div>"
      ],
      "text/plain": [
       "                                           Poster_Link    Title Released_Year  \\\n",
       "491  https://m.media-amazon.com/images/M/MV5BMTYzND...  Boyhood          2014   \n",
       "\n",
       "    Certificate  Runtime  Genre  IMDB_Rating  \\\n",
       "491           A  165 min  Drama          7.9   \n",
       "\n",
       "                                              Overview  Meta_score  \\\n",
       "491  The life of Mason, from early childhood to his...       100.0   \n",
       "\n",
       "              Director           Star1              Star2        Star3  \\\n",
       "491  Richard Linklater  Ellar Coltrane  Patricia Arquette  Ethan Hawke   \n",
       "\n",
       "            Star4  No_of_Votes       Gross  \n",
       "491  Elijah Smith       335533  25,379,975  "
      ]
     },
     "execution_count": 44,
     "metadata": {},
     "output_type": "execute_result"
    }
   ],
   "source": [
    "top_2014 = movies[(movies['Released_Year'] == '2014')  &  (movies['Meta_score'] > 99) ]\n",
    "top_2014"
   ]
  },
  {
   "cell_type": "code",
   "execution_count": 45,
   "metadata": {},
   "outputs": [
    {
     "data": {
      "text/plain": [
       "999"
      ]
     },
     "execution_count": 45,
     "metadata": {},
     "output_type": "execute_result"
    }
   ],
   "source": [
    "he_messed_up_avatar = movies[movies['Director'] != 'M. Night Shyamalan' ]\n",
    "len(he_messed_up_avatar)"
   ]
  },
  {
   "cell_type": "markdown",
   "metadata": {},
   "source": [
    "### Exercise\n",
    "- Create an object called df2 that includes only a movies title, director, IMDB rating and year\n",
    "\n",
    "- Find the Steven Spielberg movie that audiences rated the lowest\n",
    "\n",
    "- Which director appears the most on our data?\n",
    "\n",
    "### Exercise (Difficult):\n",
    "- Try to get the mean for the year of release variable.\\\n",
    "You will run into an issue! Use some of the methods introduced in 3) to find out whats wrong\n"
   ]
  },
  {
   "cell_type": "code",
   "execution_count": 47,
   "metadata": {},
   "outputs": [
    {
     "data": {
      "text/html": [
       "<div>\n",
       "<style scoped>\n",
       "    .dataframe tbody tr th:only-of-type {\n",
       "        vertical-align: middle;\n",
       "    }\n",
       "\n",
       "    .dataframe tbody tr th {\n",
       "        vertical-align: top;\n",
       "    }\n",
       "\n",
       "    .dataframe thead th {\n",
       "        text-align: right;\n",
       "    }\n",
       "</style>\n",
       "<table border=\"1\" class=\"dataframe\">\n",
       "  <thead>\n",
       "    <tr style=\"text-align: right;\">\n",
       "      <th></th>\n",
       "      <th>Title</th>\n",
       "      <th>Director</th>\n",
       "      <th>Released_Year</th>\n",
       "      <th>IMDB_Rating</th>\n",
       "    </tr>\n",
       "  </thead>\n",
       "  <tbody>\n",
       "    <tr>\n",
       "      <th>0</th>\n",
       "      <td>The Shawshank Redemption</td>\n",
       "      <td>Frank Darabont</td>\n",
       "      <td>1994</td>\n",
       "      <td>9.3</td>\n",
       "    </tr>\n",
       "    <tr>\n",
       "      <th>1</th>\n",
       "      <td>The Godfather</td>\n",
       "      <td>Francis Ford Coppola</td>\n",
       "      <td>1972</td>\n",
       "      <td>9.2</td>\n",
       "    </tr>\n",
       "  </tbody>\n",
       "</table>\n",
       "</div>"
      ],
      "text/plain": [
       "                      Title              Director Released_Year  IMDB_Rating\n",
       "0  The Shawshank Redemption        Frank Darabont          1994          9.3\n",
       "1             The Godfather  Francis Ford Coppola          1972          9.2"
      ]
     },
     "execution_count": 47,
     "metadata": {},
     "output_type": "execute_result"
    }
   ],
   "source": [
    "df2 = movies[['Title', 'Director', 'Released_Year', 'IMDB_Rating']]\n",
    "df2.head(2)"
   ]
  },
  {
   "cell_type": "code",
   "execution_count": 53,
   "metadata": {},
   "outputs": [
    {
     "data": {
      "text/plain": [
       "Poster_Link      https://m.media-amazon.com/images/M/MV5BMjIxOT...\n",
       "Title                                              Bridge of Spies\n",
       "Released_Year                                                 2015\n",
       "Certificate                                                     UA\n",
       "Runtime                                                    142 min\n",
       "Genre                                     Drama, History, Thriller\n",
       "IMDB_Rating                                                    7.6\n",
       "Overview         During the Cold War, an American lawyer is rec...\n",
       "Meta_score                                                    81.0\n",
       "Director                                          Steven Spielberg\n",
       "Star1                                                    Tom Hanks\n",
       "Star2                                                 Mark Rylance\n",
       "Star3                                                    Alan Alda\n",
       "Star4                                                     Amy Ryan\n",
       "No_of_Votes                                                 287659\n",
       "Gross                                                   72,313,754\n",
       "Name: 890, dtype: object"
      ]
     },
     "execution_count": 53,
     "metadata": {},
     "output_type": "execute_result"
    }
   ],
   "source": [
    "steve = movies[movies['Director'] == 'Steven Spielberg'].sort_values('IMDB_Rating')\n",
    "steve.iloc[0]"
   ]
  },
  {
   "cell_type": "code",
   "execution_count": 54,
   "metadata": {},
   "outputs": [
    {
     "data": {
      "text/plain": [
       "Director\n",
       "Alfred Hitchcock    14\n",
       "Steven Spielberg    13\n",
       "Hayao Miyazaki      11\n",
       "Martin Scorsese     10\n",
       "Akira Kurosawa      10\n",
       "                    ..\n",
       "Neill Blomkamp       1\n",
       "Tomas Alfredson      1\n",
       "Duncan Jones         1\n",
       "Jacques Audiard      1\n",
       "George Stevens       1\n",
       "Name: count, Length: 548, dtype: int64"
      ]
     },
     "execution_count": 54,
     "metadata": {},
     "output_type": "execute_result"
    }
   ],
   "source": [
    "movies['Director'].value_counts()"
   ]
  },
  {
   "cell_type": "code",
   "execution_count": 56,
   "metadata": {},
   "outputs": [
    {
     "data": {
      "text/plain": [
       "array(['1994', '1972', '2008', '1974', '1957', '2003', '1993', '2010',\n",
       "       '1999', '2001', '1966', '2002', '1990', '1980', '1975', '2020',\n",
       "       '2019', '2014', '1998', '1997', '1995', '1991', '1977', '1962',\n",
       "       '1954', '1946', '2011', '2006', '2000', '1988', '1985', '1968',\n",
       "       '1960', '1942', '1936', '1931', '2018', '2017', '2016', '2012',\n",
       "       '2009', '2007', '1984', '1981', '1979', '1971', '1963', '1964',\n",
       "       '1950', '1940', '2013', '2005', '2004', '1992', '1987', '1986',\n",
       "       '1983', '1976', '1973', '1965', '1959', '1958', '1952', '1948',\n",
       "       '1944', '1941', '1927', '1921', '2015', '1996', '1989', '1978',\n",
       "       '1961', '1955', '1953', '1925', '1924', '1982', '1967', '1951',\n",
       "       '1949', '1939', '1937', '1934', '1928', '1926', '1920', '1970',\n",
       "       '1969', '1956', '1947', '1945', '1930', '1938', '1935', '1933',\n",
       "       '1932', '1922', '1943', 'PG'], dtype=object)"
      ]
     },
     "execution_count": 56,
     "metadata": {},
     "output_type": "execute_result"
    }
   ],
   "source": [
    "movies['Released_Year'].unique()"
   ]
  },
  {
   "cell_type": "markdown",
   "metadata": {},
   "source": [
    "## 5) Data Manipulation\n",
    "\n",
    "\n",
    "We can perform calculations and other manipulations directly on our columns / series objects.\n",
    "\n",
    "Currently IMDB_Rating is measured from 1 to 10, thile Meta_score is from 1 to 100. Let's rescale our variable and assign it to a new column"
   ]
  },
  {
   "cell_type": "code",
   "execution_count": 57,
   "metadata": {},
   "outputs": [
    {
     "name": "stdout",
     "output_type": "stream",
     "text": [
      "7.949299999999999 77.97153024911032\n"
     ]
    }
   ],
   "source": [
    "movies_old = movies.copy() # This saves an actual copy instead of a reference --> needed for permanent changes\n",
    "\n",
    "print(movies['IMDB_Rating'].mean(),\n",
    "      movies['Meta_score'].mean())"
   ]
  },
  {
   "cell_type": "markdown",
   "metadata": {},
   "source": [
    "By assigning `IMDB_rescaled` to a previously nonexistant column name, we create a new column."
   ]
  },
  {
   "cell_type": "code",
   "execution_count": 58,
   "metadata": {},
   "outputs": [
    {
     "name": "stdout",
     "output_type": "stream",
     "text": [
      "Pre: (1000, 16)\n",
      "Post: (1000, 17)\n"
     ]
    }
   ],
   "source": [
    "IMDB_rescaled = movies['IMDB_Rating'] * 10\n",
    "movies['IMDB_rescaled'] = IMDB_rescaled\n",
    "\n",
    "print(\"Pre:\", movies_old.shape)\n",
    "print(\"Post:\", movies.shape)"
   ]
  },
  {
   "cell_type": "code",
   "execution_count": 59,
   "metadata": {},
   "outputs": [
    {
     "name": "stdout",
     "output_type": "stream",
     "text": [
      "79.493 77.97153024911032\n"
     ]
    }
   ],
   "source": [
    "print(movies['IMDB_rescaled'].mean(),\n",
    "      movies['Meta_score'].mean())"
   ]
  },
  {
   "cell_type": "markdown",
   "metadata": {},
   "source": [
    "Now that we know how to manipulate data and create subsets let's get back to our problem with the year variable. "
   ]
  },
  {
   "cell_type": "code",
   "execution_count": 60,
   "metadata": {},
   "outputs": [],
   "source": [
    "movies_clean = movies[movies['Released_Year'] != 'PG'].copy()\n",
    "movies_clean['Released_Year'] = pd.to_numeric(movies_clean['Released_Year'])"
   ]
  },
  {
   "cell_type": "code",
   "execution_count": 63,
   "metadata": {},
   "outputs": [
    {
     "data": {
      "text/plain": [
       "1991.2172172172172"
      ]
     },
     "execution_count": 63,
     "metadata": {},
     "output_type": "execute_result"
    }
   ],
   "source": [
    "movies_clean['Released_Year'].mean()"
   ]
  },
  {
   "cell_type": "markdown",
   "metadata": {},
   "source": [
    "## 6) Replace and apply\n",
    "\n",
    "We talked about the \"simple\" case of rowwise deletion to deal with problems in our data. But there are cases where we have to do some more work:"
   ]
  },
  {
   "cell_type": "code",
   "execution_count": 64,
   "metadata": {},
   "outputs": [
    {
     "ename": "ValueError",
     "evalue": "Unable to parse string \"142 min\" at position 0",
     "output_type": "error",
     "traceback": [
      "\u001b[1;31m---------------------------------------------------------------------------\u001b[0m",
      "\u001b[1;31mValueError\u001b[0m                                Traceback (most recent call last)",
      "File \u001b[1;32mlib.pyx:2391\u001b[0m, in \u001b[0;36mpandas._libs.lib.maybe_convert_numeric\u001b[1;34m()\u001b[0m\n",
      "\u001b[1;31mValueError\u001b[0m: Unable to parse string \"142 min\"",
      "\nDuring handling of the above exception, another exception occurred:\n",
      "\u001b[1;31mValueError\u001b[0m                                Traceback (most recent call last)",
      "Cell \u001b[1;32mIn[64], line 1\u001b[0m\n\u001b[1;32m----> 1\u001b[0m runtime_col \u001b[38;5;241m=\u001b[39m \u001b[43mpd\u001b[49m\u001b[38;5;241;43m.\u001b[39;49m\u001b[43mto_numeric\u001b[49m\u001b[43m(\u001b[49m\u001b[43mmovies_clean\u001b[49m\u001b[43m[\u001b[49m\u001b[38;5;124;43m'\u001b[39;49m\u001b[38;5;124;43mRuntime\u001b[39;49m\u001b[38;5;124;43m'\u001b[39;49m\u001b[43m]\u001b[49m\u001b[43m)\u001b[49m\n",
      "File \u001b[1;32mc:\\Users\\Nutzer\\Documents\\Uni\\NNV\\Emnist_NN\\venv\\Lib\\site-packages\\pandas\\core\\tools\\numeric.py:232\u001b[0m, in \u001b[0;36mto_numeric\u001b[1;34m(arg, errors, downcast, dtype_backend)\u001b[0m\n\u001b[0;32m    230\u001b[0m coerce_numeric \u001b[38;5;241m=\u001b[39m errors \u001b[38;5;129;01mnot\u001b[39;00m \u001b[38;5;129;01min\u001b[39;00m (\u001b[38;5;124m\"\u001b[39m\u001b[38;5;124mignore\u001b[39m\u001b[38;5;124m\"\u001b[39m, \u001b[38;5;124m\"\u001b[39m\u001b[38;5;124mraise\u001b[39m\u001b[38;5;124m\"\u001b[39m)\n\u001b[0;32m    231\u001b[0m \u001b[38;5;28;01mtry\u001b[39;00m:\n\u001b[1;32m--> 232\u001b[0m     values, new_mask \u001b[38;5;241m=\u001b[39m \u001b[43mlib\u001b[49m\u001b[38;5;241;43m.\u001b[39;49m\u001b[43mmaybe_convert_numeric\u001b[49m\u001b[43m(\u001b[49m\u001b[43m  \u001b[49m\u001b[38;5;66;43;03m# type: ignore[call-overload]\u001b[39;49;00m\n\u001b[0;32m    233\u001b[0m \u001b[43m        \u001b[49m\u001b[43mvalues\u001b[49m\u001b[43m,\u001b[49m\n\u001b[0;32m    234\u001b[0m \u001b[43m        \u001b[49m\u001b[38;5;28;43mset\u001b[39;49m\u001b[43m(\u001b[49m\u001b[43m)\u001b[49m\u001b[43m,\u001b[49m\n\u001b[0;32m    235\u001b[0m \u001b[43m        \u001b[49m\u001b[43mcoerce_numeric\u001b[49m\u001b[38;5;241;43m=\u001b[39;49m\u001b[43mcoerce_numeric\u001b[49m\u001b[43m,\u001b[49m\n\u001b[0;32m    236\u001b[0m \u001b[43m        \u001b[49m\u001b[43mconvert_to_masked_nullable\u001b[49m\u001b[38;5;241;43m=\u001b[39;49m\u001b[43mdtype_backend\u001b[49m\u001b[43m \u001b[49m\u001b[38;5;129;43;01mis\u001b[39;49;00m\u001b[43m \u001b[49m\u001b[38;5;129;43;01mnot\u001b[39;49;00m\u001b[43m \u001b[49m\u001b[43mlib\u001b[49m\u001b[38;5;241;43m.\u001b[39;49m\u001b[43mno_default\u001b[49m\n\u001b[0;32m    237\u001b[0m \u001b[43m        \u001b[49m\u001b[38;5;129;43;01mor\u001b[39;49;00m\u001b[43m \u001b[49m\u001b[38;5;28;43misinstance\u001b[39;49m\u001b[43m(\u001b[49m\u001b[43mvalues_dtype\u001b[49m\u001b[43m,\u001b[49m\u001b[43m \u001b[49m\u001b[43mStringDtype\u001b[49m\u001b[43m)\u001b[49m\n\u001b[0;32m    238\u001b[0m \u001b[43m        \u001b[49m\u001b[38;5;129;43;01mand\u001b[39;49;00m\u001b[43m \u001b[49m\u001b[38;5;129;43;01mnot\u001b[39;49;00m\u001b[43m \u001b[49m\u001b[43mvalues_dtype\u001b[49m\u001b[38;5;241;43m.\u001b[39;49m\u001b[43mstorage\u001b[49m\u001b[43m \u001b[49m\u001b[38;5;241;43m==\u001b[39;49m\u001b[43m \u001b[49m\u001b[38;5;124;43m\"\u001b[39;49m\u001b[38;5;124;43mpyarrow_numpy\u001b[39;49m\u001b[38;5;124;43m\"\u001b[39;49m\u001b[43m,\u001b[49m\n\u001b[0;32m    239\u001b[0m \u001b[43m    \u001b[49m\u001b[43m)\u001b[49m\n\u001b[0;32m    240\u001b[0m \u001b[38;5;28;01mexcept\u001b[39;00m (\u001b[38;5;167;01mValueError\u001b[39;00m, \u001b[38;5;167;01mTypeError\u001b[39;00m):\n\u001b[0;32m    241\u001b[0m     \u001b[38;5;28;01mif\u001b[39;00m errors \u001b[38;5;241m==\u001b[39m \u001b[38;5;124m\"\u001b[39m\u001b[38;5;124mraise\u001b[39m\u001b[38;5;124m\"\u001b[39m:\n",
      "File \u001b[1;32mlib.pyx:2433\u001b[0m, in \u001b[0;36mpandas._libs.lib.maybe_convert_numeric\u001b[1;34m()\u001b[0m\n",
      "\u001b[1;31mValueError\u001b[0m: Unable to parse string \"142 min\" at position 0"
     ]
    }
   ],
   "source": [
    "runtime_col = pd.to_numeric(movies_clean['Runtime'])"
   ]
  },
  {
   "cell_type": "markdown",
   "metadata": {},
   "source": [
    "What we need to do is extract the relevant information or delete irrelevant entries like the unit in \"123 min\".  We can do this for every row simultaneously with the `str.replace()` method \n",
    "\n",
    "We specify a substring that should be replaced, and then specify a string with the replacement. The latter can be empty!"
   ]
  },
  {
   "cell_type": "code",
   "execution_count": 65,
   "metadata": {},
   "outputs": [
    {
     "data": {
      "text/plain": [
       "0      142\n",
       "1      175\n",
       "2      152\n",
       "3      202\n",
       "4       96\n",
       "      ... \n",
       "995    115\n",
       "996    201\n",
       "997    118\n",
       "998     97\n",
       "999     86\n",
       "Name: Runtime_clean, Length: 999, dtype: int64"
      ]
     },
     "execution_count": 65,
     "metadata": {},
     "output_type": "execute_result"
    }
   ],
   "source": [
    "# replace 'min' with an empty string\n",
    "movies_clean['Runtime_clean'] = pd.to_numeric(movies_clean['Runtime'].str.replace('min',''))\n",
    "movies_clean['Runtime_clean']"
   ]
  },
  {
   "cell_type": "markdown",
   "metadata": {},
   "source": [
    "Now for something more advanced: We introduced lambda functions last week if you can't remember check out the script!\n",
    "\n",
    "The apply method applies a function along a chosen axis. For basic methods, pandas does this natively as we have seen above when rescaling `IMDB_Rating`. But for userdefined functions we need this step to let our machine know what we want. Let's break it down:\n"
   ]
  },
  {
   "cell_type": "code",
   "execution_count": 68,
   "metadata": {},
   "outputs": [
    {
     "data": {
      "text/plain": [
       "9"
      ]
     },
     "execution_count": 68,
     "metadata": {},
     "output_type": "execute_result"
    }
   ],
   "source": [
    "scarjo = movies[['Star1', 'Star2', 'Star3', 'Star4']].apply(lambda row: 1 if 'Scarlett Johansson' in row.values else 0, axis=1)\n",
    "sum(scarjo)"
   ]
  },
  {
   "cell_type": "markdown",
   "metadata": {},
   "source": [
    "We specify the columns we want to look at, and apply:\n",
    "\n",
    "    - for every row:\n",
    "        - If one of the specified columns contains the chosen string\n",
    "            - set the row-value in the target object to 1\n",
    "        - otherwise\n",
    "            - set the value to 0\n",
    "\n",
    "--> Result: A Series of length n, consisting of 0 and 1."
   ]
  },
  {
   "cell_type": "markdown",
   "metadata": {},
   "source": [
    "## Exercise\n",
    "\n",
    "Work on movies_clean for this one\n",
    "\n",
    "- Change the `Gross` column to a numeric variable. Perform any necessary manipulation\n",
    "- Add the scarjo column to your dataframe\n",
    "\n",
    "- Create a column that captures wether a movie is in the `Drama` category \n",
    "- Use the corr method to check out your cleaned variables \n",
    "<span style=\"color: transparent; transition: color 0.3s;\">\n",
    "(hint: numeric_only argument)\n",
    "<\\span>\n",
    "\n",
    "\n",
    " When you are done ues the write function to save your movies_clean dataframe as a file to your machine "
   ]
  },
  {
   "cell_type": "code",
   "execution_count": null,
   "metadata": {},
   "outputs": [],
   "source": []
  },
  {
   "cell_type": "code",
   "execution_count": null,
   "metadata": {},
   "outputs": [],
   "source": []
  },
  {
   "cell_type": "code",
   "execution_count": null,
   "metadata": {},
   "outputs": [],
   "source": []
  },
  {
   "cell_type": "code",
   "execution_count": null,
   "metadata": {},
   "outputs": [],
   "source": []
  },
  {
   "cell_type": "code",
   "execution_count": null,
   "metadata": {},
   "outputs": [],
   "source": [
    "movies_clean.to_csv() # Specify your filename like 'name.csv'"
   ]
  },
  {
   "cell_type": "markdown",
   "metadata": {},
   "source": [
    "## 7) Grouping and data\n",
    "\n",
    "Real world data is often grouped and we are interested in crosstabs. Pandas introduces the .groupby() method for this purpose.\n",
    "\n",
    "By “group by” we are referring to a process involving one or more of the following steps:\n",
    "\n",
    "- Splitting the data into groups based on some criteria\n",
    "\n",
    "- Applying a function to each group independently\n",
    "\n",
    "- Combining the results into a data structure"
   ]
  },
  {
   "cell_type": "code",
   "execution_count": null,
   "metadata": {},
   "outputs": [],
   "source": [
    "dir_group = movies_clean.groupby(\"Director\")\n",
    "dir_group"
   ]
  },
  {
   "cell_type": "code",
   "execution_count": null,
   "metadata": {},
   "outputs": [],
   "source": [
    "dir_group.size()"
   ]
  },
  {
   "cell_type": "code",
   "execution_count": null,
   "metadata": {},
   "outputs": [],
   "source": [
    "movies_clean['Director'].value_counts()"
   ]
  },
  {
   "cell_type": "code",
   "execution_count": null,
   "metadata": {},
   "outputs": [],
   "source": [
    "dir_scores = dir_group.mean(numeric_only=True)['IMDB_rescaled'].sort_values(ascending=False)\n",
    "dir_scores = pd.DataFrame(dir_scores)\n",
    "dir_scores"
   ]
  },
  {
   "cell_type": "markdown",
   "metadata": {},
   "source": [
    "As we can see here something is wrong: Instead of two columns we get one column and one index! We can force the index back to integers using the following method."
   ]
  },
  {
   "cell_type": "code",
   "execution_count": null,
   "metadata": {},
   "outputs": [],
   "source": [
    "dir_scores = pd.DataFrame(dir_scores).reset_index()\n",
    "dir_scores"
   ]
  },
  {
   "cell_type": "markdown",
   "metadata": {},
   "source": [
    "Group for multiple values:"
   ]
  },
  {
   "cell_type": "code",
   "execution_count": null,
   "metadata": {},
   "outputs": [],
   "source": [
    "Genre_Year = movies_clean.groupby(['Genre', 'Released_Year']).mean(numeric_only=True)['IMDB_Rating']\n",
    "Genre_Year_df = pd.DataFrame(Genre_Year).reset_index()\n",
    "Genre_Year_df.head(5)"
   ]
  },
  {
   "cell_type": "markdown",
   "metadata": {},
   "source": [
    "### Exercise:"
   ]
  },
  {
   "cell_type": "markdown",
   "metadata": {},
   "source": [
    "- Movies with which Certificates (18+, all ages etc.) have the best critical reception? Wich ones have the best audience scores?"
   ]
  },
  {
   "cell_type": "code",
   "execution_count": null,
   "metadata": {},
   "outputs": [],
   "source": []
  }
 ],
 "metadata": {
  "kernelspec": {
   "display_name": "venv",
   "language": "python",
   "name": "venv"
  },
  "language_info": {
   "codemirror_mode": {
    "name": "ipython",
    "version": 3
   },
   "file_extension": ".py",
   "mimetype": "text/x-python",
   "name": "python",
   "nbconvert_exporter": "python",
   "pygments_lexer": "ipython3",
   "version": "3.12.5"
  }
 },
 "nbformat": 4,
 "nbformat_minor": 2
}
